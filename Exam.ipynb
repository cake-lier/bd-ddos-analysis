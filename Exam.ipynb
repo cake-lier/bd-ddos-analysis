{
 "cells": [
  {
   "cell_type": "markdown",
   "id": "4468a763-ee2d-4e4a-8eb1-1fd9e6dac8d8",
   "metadata": {},
   "source": [
    "# DDoS dataset analysis"
   ]
  },
  {
   "cell_type": "markdown",
   "id": "060d8283-69b8-4a27-921c-bf3052e0daea",
   "metadata": {},
   "source": [
    "L'obiettivo di questo progetto è analizzare un dataset contenente informazioni relative sia ad attacchi DDoS che a normale traffico.\n",
    "Questo per poter realizzare un'applicazione capace di distinguere il traffico sospetto da quello legittimo e poter quindi tempestivamente bloccare i tentativi di attacco."
   ]
  },
  {
   "cell_type": "markdown",
   "id": "031bc6ff-2d80-4ff3-a487-82dabbb6c93b",
   "metadata": {
    "execution": {
     "iopub.execute_input": "2022-06-17T09:34:21.907675Z",
     "iopub.status.busy": "2022-06-17T09:34:21.907419Z"
    },
    "tags": []
   },
   "source": [
    "## Descrizione del dataset"
   ]
  },
  {
   "cell_type": "markdown",
   "id": "e41869e1-1e4a-4ce0-9e55-48c35b394939",
   "metadata": {},
   "source": [
    "Il dataset è composto da una serie di campionamenti, ognuno dei quali fa riferimento ad una specifica connessione tra due macchine. \n",
    "Un campionamento, oltre ad identificare le due macchine e le interfacce di rete coinvolte nella comunicazione, contiene altre informazioni aggregate sullo stato della connessione stessa, come ad esempio il numero di pacchetti e di byte scambiati durante il periodo di campionamento."
   ]
  },
  {
   "cell_type": "markdown",
   "id": "b596c8bd-b965-43f4-b83d-fecf2b8a96bf",
   "metadata": {},
   "source": [
    "Il dataset si può trovare a questo [link](https://www.kaggle.com/datasets/yahyaalhaj/biotddos).\n",
    "Si compone di tre file, che possono essere scaricati come un unico file \"zip\" a questo [link](https://www.kaggle.com/datasets/yahyaalhaj/biotddos/download). "
   ]
  },
  {
   "cell_type": "markdown",
   "id": "fcf05e9c-8bdf-4444-a221-fc4a00eebaf0",
   "metadata": {},
   "source": [
    "### Descrizione dei file"
   ]
  },
  {
   "cell_type": "markdown",
   "id": "09614887-84fa-43db-84a7-a90dab519609",
   "metadata": {},
   "source": [
    "Tutti e tre i file hanno lo stesso formato e contengono tre diverse categorie di attacchi, ovvero attacchi \"TCP\", \"UDP\" e \"HTTP\".\n",
    "Non siamo interessati a tenere conto di questa distinzione, perciò consideriamo questi file come contenenti lo stesso tipo di dati.\n",
    "Ogni file è in formato CSV e contiene un insieme di record, ognuno composto dai valori:\n",
    "* \"stime\": la data e l'ora di inizio del campionamento in formato UNIX timestamp, dotato anche dei millisecondi \n",
    "* \"flgs\": le \"flag\" TCP e UDP osservate nei pacchetti che sono stati scambiati durante il campionamento\n",
    "* \"proto\": il protocollo di livello di rete utilizzato dai pacchetti che sono stati scambiati durante il campionamento\n",
    "* \"saddr\": l'indirizzo IP della sorgente della connessione che è interessata dal campionamento\n",
    "* \"sport\": la porta della sorgente della connessione che è interessata dal campionamento\n",
    "* \"dir\": la direzione del flusso dati\n",
    "* \"daddr\": l'indirizzo IP della destinazione della connessione che è interessata dal campionamento\n",
    "* \"dport\": la porta della destinazione della connessione che è interessata dal campionamento\n",
    "* \"pkts\": il numero di pacchetti scambiati durante questo campionamento\n",
    "* \"bytes\": il numero di byte scambiati durante questo campionamento\n",
    "* \"state\": lo stato della connessione \n",
    "* srcid\n",
    "* ltime\n",
    "* seq\n",
    "* dur\n",
    "* mean\n",
    "* stddev\n",
    "* smac\n",
    "* dmac\n",
    "* sum\n",
    "* min\n",
    "* max\n",
    "* soui\n",
    "* doui\n",
    "* sco\n",
    "* dco\n",
    "* spkts\n",
    "* dpkts\n",
    "* sbytes\n",
    "* dbytes\n",
    "* rate\n",
    "* srate\n",
    "* drate\n",
    "* record\n",
    "* attack\n",
    "* category\n",
    "* subcategory"
   ]
  },
  {
   "cell_type": "code",
   "execution_count": 2,
   "id": "c0bd4f15-fadb-4b4e-acc3-7d69545b82b7",
   "metadata": {
    "execution": {
     "iopub.execute_input": "2022-06-17T10:36:29.266782Z",
     "iopub.status.busy": "2022-06-17T10:36:29.266556Z",
     "iopub.status.idle": "2022-06-17T10:37:00.321611Z",
     "shell.execute_reply": "2022-06-17T10:37:00.320878Z",
     "shell.execute_reply.started": "2022-06-17T10:36:29.266759Z"
    }
   },
   "outputs": [
    {
     "name": "stdout",
     "output_type": "stream",
     "text": [
      "Starting Spark application\n"
     ]
    },
    {
     "data": {
      "text/html": [
       "<table>\n",
       "<tr><th>ID</th><th>YARN Application ID</th><th>Kind</th><th>State</th><th>Spark UI</th><th>Driver log</th><th>Current session?</th></tr><tr><td>2</td><td>application_1655456610689_0004</td><td>spark</td><td>idle</td><td><a target=\"_blank\" href=\"http://ip-172-31-14-200.ec2.internal:20888/proxy/application_1655456610689_0004/\" class=\"emr-proxy-link\" emr-resource=\"j-1J8H1OJIJUI4C\n",
       "\" application-id=\"application_1655456610689_0004\">Link</a></td><td><a target=\"_blank\" href=\"http://ip-172-31-8-162.ec2.internal:8042/node/containerlogs/container_1655456610689_0004_01_000001/livy\" >Link</a></td><td>✔</td></tr></table>"
      ],
      "text/plain": [
       "<IPython.core.display.HTML object>"
      ]
     },
     "metadata": {},
     "output_type": "display_data"
    },
    {
     "data": {
      "application/vnd.jupyter.widget-view+json": {
       "model_id": "",
       "version_major": 2,
       "version_minor": 0
      },
      "text/plain": [
       "FloatProgress(value=0.0, bar_style='info', description='Progress:', layout=Layout(height='25px', width='50%'),…"
      ]
     },
     "metadata": {},
     "output_type": "display_data"
    },
    {
     "name": "stdout",
     "output_type": "stream",
     "text": [
      "SparkSession available as 'spark'.\n"
     ]
    },
    {
     "data": {
      "text/html": [
       "Current session configs: <tt>{'executorMemory': '8G', 'numExecutors': 2, 'executorCores': 3, 'conf': {'spark.dynamicAllocation.enabled': 'false'}, 'proxyUser': 'assumed-role_voclabs_user1847188_matteo_castellucci3_studio_unibo_it', 'kind': 'spark'}</tt><br>"
      ],
      "text/plain": [
       "<IPython.core.display.HTML object>"
      ]
     },
     "metadata": {},
     "output_type": "display_data"
    },
    {
     "data": {
      "text/html": [
       "<table>\n",
       "<tr><th>ID</th><th>YARN Application ID</th><th>Kind</th><th>State</th><th>Spark UI</th><th>Driver log</th><th>Current session?</th></tr><tr><td>2</td><td>application_1655456610689_0004</td><td>spark</td><td>idle</td><td><a target=\"_blank\" href=\"http://ip-172-31-14-200.ec2.internal:20888/proxy/application_1655456610689_0004/\" class=\"emr-proxy-link\" emr-resource=\"j-1J8H1OJIJUI4C\n",
       "\" application-id=\"application_1655456610689_0004\">Link</a></td><td><a target=\"_blank\" href=\"http://ip-172-31-8-162.ec2.internal:8042/node/containerlogs/container_1655456610689_0004_01_000001/livy\" >Link</a></td><td>✔</td></tr></table>"
      ],
      "text/plain": [
       "<IPython.core.display.HTML object>"
      ]
     },
     "metadata": {},
     "output_type": "display_data"
    }
   ],
   "source": [
    "%%configure -f\n",
    "{\"executorMemory\":\"8G\", \"numExecutors\":2, \"executorCores\":3, \"conf\": {\"spark.dynamicAllocation.enabled\": \"false\"}}"
   ]
  },
  {
   "cell_type": "code",
   "execution_count": 7,
   "id": "9a0f0c12-591e-41de-a0b6-c76c7c035176",
   "metadata": {
    "execution": {
     "iopub.execute_input": "2022-06-17T10:41:17.956019Z",
     "iopub.status.busy": "2022-06-17T10:41:17.955698Z",
     "iopub.status.idle": "2022-06-17T10:41:19.251769Z",
     "shell.execute_reply": "2022-06-17T10:41:19.251023Z",
     "shell.execute_reply.started": "2022-06-17T10:41:17.955989Z"
    },
    "tags": []
   },
   "outputs": [
    {
     "data": {
      "application/vnd.jupyter.widget-view+json": {
       "model_id": "2f4c38212007456abac08a912fe95318",
       "version_major": 2,
       "version_minor": 0
      },
      "text/plain": [
       "VBox()"
      ]
     },
     "metadata": {},
     "output_type": "display_data"
    },
    {
     "data": {
      "application/vnd.jupyter.widget-view+json": {
       "model_id": "",
       "version_major": 2,
       "version_minor": 0
      },
      "text/plain": [
       "FloatProgress(value=0.0, bar_style='info', description='Progress:', layout=Layout(height='25px', width='50%'),…"
      ]
     },
     "metadata": {},
     "output_type": "display_data"
    },
    {
     "name": "stdout",
     "output_type": "stream",
     "text": [
      "bucketName: String = unibo-bd2122-mcastellucci/project\n",
      "pathTCPDataset: String = s3a://unibo-bd2122-mcastellucci/project/DDoS_TCP.csv\n",
      "pathUDPDataset: String = s3a://unibo-bd2122-mcastellucci/project/DDoS_UDP.csv\n",
      "pathHTTPDataset: String = s3a://unibo-bd2122-mcastellucci/project/DDoS_HTTP.csv\n",
      "res8: String = SPARK UI: Enable forwarding of port 20888 and connect to http://localhost:20888/proxy/application_1655456610689_0004/\n"
     ]
    }
   ],
   "source": [
    "val bucketName = \"unibo-bd2122-mcastellucci/project\"\n",
    "\n",
    "val pathTCPDataset = s\"s3a://$bucketName/DDoS_TCP.csv\"\n",
    "val pathUDPDataset = s\"s3a://$bucketName/DDoS_UDP.csv\"\n",
    "val pathHTTPDataset = s\"s3a://$bucketName/DDoS_HTTP.csv\"\n",
    "\n",
    "\"SPARK UI: Enable forwarding of port 20888 and connect to http://localhost:20888/proxy/\" + sc.applicationId + \"/\""
   ]
  },
  {
   "cell_type": "code",
   "execution_count": 8,
   "id": "b9152666-1f46-4590-8465-3bb5413fbc15",
   "metadata": {
    "execution": {
     "iopub.execute_input": "2022-06-17T10:41:20.661367Z",
     "iopub.status.busy": "2022-06-17T10:41:20.661143Z",
     "iopub.status.idle": "2022-06-17T10:41:21.464235Z",
     "shell.execute_reply": "2022-06-17T10:41:21.463545Z",
     "shell.execute_reply.started": "2022-06-17T10:41:20.661344Z"
    },
    "tags": []
   },
   "outputs": [
    {
     "data": {
      "application/vnd.jupyter.widget-view+json": {
       "model_id": "899c95c14ae246f88ce9988e0ea7b960",
       "version_major": 2,
       "version_minor": 0
      },
      "text/plain": [
       "VBox()"
      ]
     },
     "metadata": {},
     "output_type": "display_data"
    },
    {
     "data": {
      "application/vnd.jupyter.widget-view+json": {
       "model_id": "",
       "version_major": 2,
       "version_minor": 0
      },
      "text/plain": [
       "FloatProgress(value=0.0, bar_style='info', description='Progress:', layout=Layout(height='25px', width='50%'),…"
      ]
     },
     "metadata": {},
     "output_type": "display_data"
    },
    {
     "name": "stdout",
     "output_type": "stream",
     "text": [
      "dataset: org.apache.spark.rdd.RDD[String] = s3a://unibo-bd2122-mcastellucci/project/DDoS_TCP.csv,s3a://unibo-bd2122-mcastellucci/project/DDoS_UDP.csv,s3a://unibo-bd2122-mcastellucci/project/DDoS_HTTP.csv MapPartitionsRDD[3] at textFile at <console>:31\n"
     ]
    }
   ],
   "source": [
    "val dataset = sc.textFile(s\"$pathTCPDataset,$pathUDPDataset,$pathHTTPDataset\")"
   ]
  },
  {
   "cell_type": "code",
   "execution_count": 9,
   "id": "5beb5999-1c86-48e8-8fef-63467f5de2a7",
   "metadata": {
    "execution": {
     "iopub.execute_input": "2022-06-17T10:41:23.695510Z",
     "iopub.status.busy": "2022-06-17T10:41:23.695275Z",
     "iopub.status.idle": "2022-06-17T10:41:27.014961Z",
     "shell.execute_reply": "2022-06-17T10:41:27.014276Z",
     "shell.execute_reply.started": "2022-06-17T10:41:23.695484Z"
    },
    "tags": []
   },
   "outputs": [
    {
     "data": {
      "application/vnd.jupyter.widget-view+json": {
       "model_id": "a0537da76c184fd789e975c9cc713208",
       "version_major": 2,
       "version_minor": 0
      },
      "text/plain": [
       "VBox()"
      ]
     },
     "metadata": {},
     "output_type": "display_data"
    },
    {
     "data": {
      "application/vnd.jupyter.widget-view+json": {
       "model_id": "",
       "version_major": 2,
       "version_minor": 0
      },
      "text/plain": [
       "FloatProgress(value=0.0, bar_style='info', description='Progress:', layout=Layout(height='25px', width='50%'),…"
      ]
     },
     "metadata": {},
     "output_type": "display_data"
    },
    {
     "name": "stdout",
     "output_type": "stream",
     "text": [
      "res9: Array[String] = Array(\"stime\";\"flgs\";\"proto\";\"saddr\";\"sport\";\"dir\";\"daddr\";\"dport\";\"pkts\";\"bytes\";\"state\";\"srcid\";\"ltime\";\"seq\";\"dur\";\"mean\";\"stddev\";\"smac\";\"dmac\";\"sum\";\"min\";\"max\";\"soui\";\"doui\";\"sco\";\"dco\";\"spkts\";\"dpkts\";\"sbytes\";\"dbytes\";\"rate\";\"srate\";\"drate\";\"record\";\"attack\";\"category\";\"subcategory\")\n"
     ]
    }
   ],
   "source": [
    "dataset.take(1)"
   ]
  }
 ],
 "metadata": {
  "kernelspec": {
   "display_name": "Spark",
   "language": "",
   "name": "sparkkernel"
  },
  "language_info": {
   "codemirror_mode": "text/x-scala",
   "mimetype": "text/x-scala",
   "name": "scala",
   "pygments_lexer": "scala"
  }
 },
 "nbformat": 4,
 "nbformat_minor": 5
}
