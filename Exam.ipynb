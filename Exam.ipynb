{
 "cells": [
  {
   "cell_type": "markdown",
   "id": "4468a763-ee2d-4e4a-8eb1-1fd9e6dac8d8",
   "metadata": {},
   "source": [
    "# DDoS dataset analysis"
   ]
  },
  {
   "cell_type": "markdown",
   "id": "060d8283-69b8-4a27-921c-bf3052e0daea",
   "metadata": {},
   "source": [
    "L'obiettivo di questo progetto è analizzare un _dataset_ contenente informazioni relative sia ad attacchi DDoS che a normale traffico di rete.\n",
    "Questo viene fatto per poter realizzare un'applicazione capace di distinguere il traffico sospetto da quello legittimo e poter quindi tempestivamente bloccare i tentativi di attacco."
   ]
  },
  {
   "cell_type": "markdown",
   "id": "031bc6ff-2d80-4ff3-a487-82dabbb6c93b",
   "metadata": {
    "execution": {
     "iopub.execute_input": "2022-06-17T09:34:21.907675Z",
     "iopub.status.busy": "2022-06-17T09:34:21.907419Z"
    },
    "tags": []
   },
   "source": [
    "## Descrizione del dataset"
   ]
  },
  {
   "cell_type": "markdown",
   "id": "e496dcb9",
   "metadata": {},
   "source": [
    "Il _dataset_ è stato ottenuto da un _paper_ scritto dalla \"University of New South Wales\".\n",
    "Il _paper_ è stato pubblicato su [Science Direct](https://www.sciencedirect.com/science/article/abs/pii/S0167739X18327687) ed è disponibile su [ResearchGate](https://www.researchgate.net/publication/328736466_Towards_the_Development_of_Realistic_Botnet_Dataset_in_the_Internet_of_Things_for_Network_Forensic_Analytics_Bot-IoT_Dataset) in _preprint_.\n",
    "Come è scritto in esso, l'obiettivo del _paper_ era la realizzazione del _dataset_ stesso, rispettando le condizioni di massimo realismo possibile del traffico generato e della configurazione dell'ambiente in cui gli attacchi simulati sono stati svolti.\n",
    "\n",
    "Il _paper_ indica anche il fatto che sono state generate diverse tipologie di attacco, ma quelle di interesse sono state solamente quelle inerenti agli attacchi di tipo \"Distributed Denial of Service\", o \"DDoS\" in breve.\n",
    "[Argus](https://openargus.org/) è stato il _software_  utilizzato per effettuare le catture dei pacchetti. La sua documentazione, nonché i suoi [esempi d'uso](https://openargus.org/using-argus), indicano come sono costruiti i _record_ che l'applicazione salva nel momento nel quale viene fatta una cattura di rete.\n",
    "\n",
    "Ogni _record_ è il risultato di un raggruppamento di più pacchetti che svolgono la stessa funzione all'interno di una specifica connessione, o _flow_.\n",
    "Ad esempio, un _record_ può contenere i pacchetti utilizzati dal protocollo \"TCP\" per effettuare l'_handshake_ con un'altro nodo di rete, il corpo della trasmissione, oppure la chiusura finale.\n",
    "Per questo motivo ogni _record_, oltre a contenere informazioni capaci di identificare sorgente e destinazione della connessione, contengono anche dati derivanti dall'aggregazione dalle informazioni di più pacchetti.\n",
    "Infine, dacché è possibile risalire dai _record_ alle singole connessioni, così come esplicitato nel _paper_ stesso, sono presenti anche informazioni su alcuni parametri nati dall'aggregazionr di _record_ differenti, informazioni che ci aspettiamo siano replicate uguali tra tutti i _record_ coinvolti.\n",
    "\n",
    "Il sito in cui il _dataset_ è stato pubblicato è [questo](https://research.unsw.edu.au/projects/bot-iot-dataset), mentre il _download_ dei file può essere fatto dalla [cartella](https://cloudstor.aarnet.edu.au/plus/s/umT99TnxvbpkkoE?path=%2FLabelling) di un servizio _cloud_ della UNSW.\n",
    "I _file_ che sono stati utilizzati in questo progetto sono quelli denominati \"DDoS_HTTP.csv\", \"DDoS_TCP.csv\" e \"DDoS_UDP.csv\".\n",
    "Purtroppo, non è possibile effettuare il _download_ diretto di questi."
   ]
  },
  {
   "cell_type": "markdown",
   "id": "fcf05e9c-8bdf-4444-a221-fc4a00eebaf0",
   "metadata": {},
   "source": [
    "### Descrizione dei file"
   ]
  },
  {
   "cell_type": "markdown",
   "id": "09614887-84fa-43db-84a7-a90dab519609",
   "metadata": {},
   "source": [
    "I tre _file_ del _dataset_ che sono stati utilizzati contengono tre diverse sotto-categorie di attacchi, ovvero attacchi che inviano messaggi \"HTTP\", segmenti \"TCP\" e datagrammi \"UDP\".\n",
    "Non siamo interessati a tenere conto di questa distinzione, tanto più che tutti e tre i _file_, essendo stati generati dallo stesso _tool_, possiedono lo stesso formato \"CSV\" e gli stessi campi.\n",
    "\n",
    "I campi presenti in ciascun file sono i seguenti:\n",
    "\n",
    "* \"stime\": la data e l'ora di ricezione del primo pacchetto del _record_\n",
    "* \"flgs\": le _flag_ dello stato della connessione presenti nei pacchetti del _record_\n",
    "* \"proto\": il protocollo di livello di trasporto utilizzato dai pacchetti del _record_\n",
    "* \"saddr\": l'indirizzo IP dell'interfaccia sorgente dei pacchetti del _record_\n",
    "* \"sport\": la porta dell'interfaccia sorgente dei pacchetti del _record_\n",
    "* \"dir\": la direzione del flusso dati, da sorgente a destinazione o bidirezionale\n",
    "* \"daddr\": l'indirizzo IP dell'interfaccia destinazione dei pacchetti del _record_\n",
    "* \"dport\": la porta dell'interfaccia destinazione dei pacchetti del _record_\n",
    "* \"pkts\": il numero di pacchetti aggregati dal _record_\n",
    "* \"bytes\": la somma dei _byte_ dei pacchetti aggregati\n",
    "* \"state\": lo stato della connessione per i pacchetti aggregati dal _record_\n",
    "* \"srcid\": l'identificatore usato dal _tool_ \"Argus\" per identificare la sorgente dati\n",
    "* \"ltime\": la data e l'ora di ricezione dell'ultimo pacchetto del _record_\n",
    "* \"seq\": il numero di sequenza che il _tool_ \"Argus\" ha assegnato al _record_\n",
    "* \"dur\": la durata temporale totale del campionamento associato al _record_ \n",
    "* \"mean\": la durata media dei _record_ aggregati\n",
    "* \"stddev\": la deviazione standard dei _record_ aggregati\n",
    "* \"smac\": l'indirizzo MAC della sorgente dei pacchetti del _record_\n",
    "* \"dmac\": l'indirizzo MAC della destinazione dei pacchetti del _record_\n",
    "* \"sum\": la somma delle durate dei _record_ aggregati\n",
    "* \"min\": il minimo delle durate dei _record_ aggregati\n",
    "* \"max\": il massimo delle durate dei _record_ aggregati\n",
    "* \"soui\": lo \"Organizationally Unique Identifier\" dell'indirizzo MAC della sorgente dei pacchetti del _record_\n",
    "* \"doui\": lo \"Organizationally Unique Identifier\" dell'indirizzo MAC della destinazione dei pacchetti del _record_\n",
    "* \"sco\": il \"Country Code\" associato all'indirizzo IP della sorgente dei pacchetti nel _record_\n",
    "* \"dco\": il \"Country Code\" associato all'indirizzo IP della destinazione dei pacchetti nel _record_\n",
    "* \"spkts\": il numero di pacchetti inviati dalla sorgente alla destinazione in questo _record_\n",
    "* \"dpkts\": il numero di pacchetti inviati dalla destinazione alla sorgente in questo _record_\n",
    "* \"sbytes\": il numero di _byte_ inviati dalla sorgente alla destinazione in questo _record_\n",
    "* \"dbytes\": il numero di _byte_ inviati dalla destinazione alla sorgente in questo _record_\n",
    "* \"rate\": i pacchetti al secondo inviati in questo _record_\n",
    "* \"srate\": i pacchetti al secondo inviati dalla sorgente alla destinazione in questo _record_\n",
    "* \"drate\": i pacchetti al secondo inviati dalla destinazione alla sorgente in questo _record_\n",
    "* \"record\": questa feature non è spiegata all'interno del _paper_ né tantomeno nella documentazione di \"Argus\"\n",
    "* \"attack: se il _record_ è parte di un attacco o meno\n",
    "* \"category\": la categoria dell'attacco\n",
    "* \"subcategory\": la specifica sotto-categoria dell'attacco\n",
    "\n",
    "I campi che abbiamo utilizzato nell'analisi sono stati:\n",
    "\n",
    "* stime\n",
    "* proto\n",
    "* saddr\n",
    "* sport\n",
    "* daddr\n",
    "* dport\n",
    "* ltime\n",
    "* dur\n",
    "* pkts\n",
    "* bytes\n",
    "* rate\n",
    "* attack\n",
    "\n",
    "Inoltre, è stato utilizzato un secondo _dataset_ che contiene le associazioni tra le \"well-known ports\" e la descrizione del servizio corrispondente.\n",
    "I campi presenti in questo _dataset_ sono:\n",
    "\n",
    "* port: la \"well-known port\" associata al servizio\n",
    "* protocol: il protocollo associato al servizio\n",
    "* description: la descrizione del servizio\n",
    "\n",
    "Tutti i campi di questo _dataset_ sono stati utilizzati."
   ]
  },
  {
   "cell_type": "markdown",
   "id": "608d3d1a",
   "metadata": {
    "tags": []
   },
   "source": [
    "## Preparazione dei dati"
   ]
  },
  {
   "cell_type": "markdown",
   "id": "23733544",
   "metadata": {},
   "source": [
    "Per effettuare la preparazione dei dati, innanzitutto configuriamo il _kernel_ Spark che utilizzeremo."
   ]
  },
  {
   "cell_type": "code",
   "execution_count": 1,
   "id": "c0bd4f15-fadb-4b4e-acc3-7d69545b82b7",
   "metadata": {
    "execution": {
     "iopub.execute_input": "2022-06-24T07:53:20.696647Z",
     "iopub.status.busy": "2022-06-24T07:53:20.696198Z",
     "iopub.status.idle": "2022-06-24T07:53:21.399642Z",
     "shell.execute_reply": "2022-06-24T07:53:21.398822Z",
     "shell.execute_reply.started": "2022-06-24T07:53:20.696615Z"
    },
    "tags": []
   },
   "outputs": [
    {
     "data": {
      "text/html": [
       "Current session configs: <tt>{'executorMemory': '8G', 'numExecutors': 2, 'executorCores': 3, 'conf': {'spark.dynamicAllocation.enabled': 'false'}, 'proxyUser': 'assumed-role_voclabs_user1847180_nicolas_farabegoli_studio_unibo_it', 'kind': 'spark'}</tt><br>"
      ],
      "text/plain": [
       "<IPython.core.display.HTML object>"
      ]
     },
     "metadata": {},
     "output_type": "display_data"
    },
    {
     "data": {
      "text/html": [
       "No active sessions."
      ],
      "text/plain": [
       "<IPython.core.display.HTML object>"
      ]
     },
     "metadata": {},
     "output_type": "display_data"
    }
   ],
   "source": [
    "%%configure -f\n",
    "{\n",
    "    \"executorMemory\": \"8G\", \n",
    "    \"numExecutors\": 2, \n",
    "    \"executorCores\": 3, \n",
    "    \"conf\": {\n",
    "        \"spark.dynamicAllocation.enabled\": \"false\"\n",
    "    }\n",
    "}"
   ]
  },
  {
   "cell_type": "markdown",
   "id": "14e6c9eb",
   "metadata": {},
   "source": [
    "Dopodiché, definiamo i percorsi dei file che utilizzeremo così come sono stati salvati sul servizio \"Amazon S3\" ed avviamo una nuova applicazione Spark."
   ]
  },
  {
   "cell_type": "code",
   "execution_count": 2,
   "id": "9a0f0c12-591e-41de-a0b6-c76c7c035176",
   "metadata": {
    "execution": {
     "iopub.execute_input": "2022-06-24T07:53:54.228915Z",
     "iopub.status.busy": "2022-06-24T07:53:54.228695Z",
     "iopub.status.idle": "2022-06-24T07:54:27.508243Z",
     "shell.execute_reply": "2022-06-24T07:54:27.507327Z",
     "shell.execute_reply.started": "2022-06-24T07:53:54.228892Z"
    },
    "tags": []
   },
   "outputs": [
    {
     "data": {
      "application/vnd.jupyter.widget-view+json": {
       "model_id": "6e0b70b27cfa475194e7699b86a2466b",
       "version_major": 2,
       "version_minor": 0
      },
      "text/plain": [
       "VBox()"
      ]
     },
     "metadata": {},
     "output_type": "display_data"
    },
    {
     "name": "stdout",
     "output_type": "stream",
     "text": [
      "Starting Spark application\n"
     ]
    },
    {
     "data": {
      "text/html": [
       "<table>\n",
       "<tr><th>ID</th><th>YARN Application ID</th><th>Kind</th><th>State</th><th>Spark UI</th><th>Driver log</th><th>Current session?</th></tr><tr><td>0</td><td>application_1656056756260_0002</td><td>spark</td><td>idle</td><td><a target=\"_blank\" href=\"http://ip-172-31-19-52.ec2.internal:20888/proxy/application_1656056756260_0002/\" class=\"emr-proxy-link\" emr-resource=\"j-1U6H5APKWN1RF\n",
       "\" application-id=\"application_1656056756260_0002\">Link</a></td><td><a target=\"_blank\" href=\"http://ip-172-31-31-76.ec2.internal:8042/node/containerlogs/container_1656056756260_0002_01_000001/livy\" >Link</a></td><td>✔</td></tr></table>"
      ],
      "text/plain": [
       "<IPython.core.display.HTML object>"
      ]
     },
     "metadata": {},
     "output_type": "display_data"
    },
    {
     "data": {
      "application/vnd.jupyter.widget-view+json": {
       "model_id": "",
       "version_major": 2,
       "version_minor": 0
      },
      "text/plain": [
       "FloatProgress(value=0.0, bar_style='info', description='Progress:', layout=Layout(height='25px', width='50%'),…"
      ]
     },
     "metadata": {},
     "output_type": "display_data"
    },
    {
     "name": "stdout",
     "output_type": "stream",
     "text": [
      "SparkSession available as 'spark'.\n"
     ]
    },
    {
     "data": {
      "application/vnd.jupyter.widget-view+json": {
       "model_id": "",
       "version_major": 2,
       "version_minor": 0
      },
      "text/plain": [
       "FloatProgress(value=0.0, bar_style='info', description='Progress:', layout=Layout(height='25px', width='50%'),…"
      ]
     },
     "metadata": {},
     "output_type": "display_data"
    },
    {
     "name": "stdout",
     "output_type": "stream",
     "text": [
      "bucketName: String = unibo-bd2122-nfarabegoli/ddos\n",
      "pathTCPDataset: String = s3a://unibo-bd2122-nfarabegoli/ddos/DDoS_TCP.csv\n",
      "pathUDPDataset: String = s3a://unibo-bd2122-nfarabegoli/ddos/DDoS_UDP.csv\n",
      "pathHTTPDataset: String = s3a://unibo-bd2122-nfarabegoli/ddos/DDoS_HTTP.csv\n",
      "pathPortsDataset: String = s3a://unibo-bd2122-nfarabegoli/ddos/ports.csv\n",
      "res7: String = SPARK UI: Enable forwarding of port 20888 and connect to http://localhost:20888/proxy/application_1656056756260_0002/\n"
     ]
    }
   ],
   "source": [
    "val bucketName = \"unibo-bd2122-nfarabegoli/ddos\"\n",
    "//val bucketName = \"unibo-bd2122-mcastellucci/project\"\n",
    "\n",
    "val pathTCPDataset = s\"s3a://$bucketName/DDoS_TCP.csv\"\n",
    "val pathUDPDataset = s\"s3a://$bucketName/DDoS_UDP.csv\"\n",
    "val pathHTTPDataset = s\"s3a://$bucketName/DDoS_HTTP.csv\"\n",
    "//val pathTCPDataset = s\"s3a://$bucketName/DDoS_TCP-sampled.csv\"\n",
    "//val pathUDPDataset = s\"s3a://$bucketName/DDoS_UDP-sampled.csv\"\n",
    "//val pathHTTPDataset = s\"s3a://$bucketName/DDoS_HTTP-sampled.csv\"\n",
    "val pathPortsDataset = s\"s3a://$bucketName/ports.csv\"\n",
    "\n",
    "\"SPARK UI: Enable forwarding of port 20888 and connect to http://localhost:20888/proxy/\" + sc.applicationId + \"/\""
   ]
  },
  {
   "cell_type": "markdown",
   "id": "6306a6ed",
   "metadata": {},
   "source": [
    "A questo punto è possibile costruire l'RDD per intero, in modo tale che contenga i dati di tutti e tre i file che ci interessano.\n",
    "Inoltre, è stato caricato il file contenente il _dataset_ delle \"well-known ports\"."
   ]
  },
  {
   "cell_type": "code",
   "execution_count": 3,
   "id": "b9152666-1f46-4590-8465-3bb5413fbc15",
   "metadata": {
    "execution": {
     "iopub.execute_input": "2022-06-24T07:54:35.977197Z",
     "iopub.status.busy": "2022-06-24T07:54:35.976885Z",
     "iopub.status.idle": "2022-06-24T07:54:38.349904Z",
     "shell.execute_reply": "2022-06-24T07:54:38.349197Z",
     "shell.execute_reply.started": "2022-06-24T07:54:35.977162Z"
    },
    "tags": []
   },
   "outputs": [
    {
     "data": {
      "application/vnd.jupyter.widget-view+json": {
       "model_id": "aa2e918e2c7d42eebcaf19747042a972",
       "version_major": 2,
       "version_minor": 0
      },
      "text/plain": [
       "VBox()"
      ]
     },
     "metadata": {},
     "output_type": "display_data"
    },
    {
     "data": {
      "application/vnd.jupyter.widget-view+json": {
       "model_id": "",
       "version_major": 2,
       "version_minor": 0
      },
      "text/plain": [
       "FloatProgress(value=0.0, bar_style='info', description='Progress:', layout=Layout(height='25px', width='50%'),…"
      ]
     },
     "metadata": {},
     "output_type": "display_data"
    },
    {
     "name": "stdout",
     "output_type": "stream",
     "text": [
      "dataset: org.apache.spark.rdd.RDD[String] = s3a://unibo-bd2122-nfarabegoli/ddos/DDoS_TCP.csv,s3a://unibo-bd2122-nfarabegoli/ddos/DDoS_UDP.csv,s3a://unibo-bd2122-nfarabegoli/ddos/DDoS_HTTP.csv MapPartitionsRDD[1] at textFile at <console>:31\n",
      "ports: org.apache.spark.rdd.RDD[String] = s3a://unibo-bd2122-nfarabegoli/ddos/ports.csv MapPartitionsRDD[3] at textFile at <console>:27\n"
     ]
    }
   ],
   "source": [
    "val dataset = sc.textFile(s\"$pathTCPDataset,$pathUDPDataset,$pathHTTPDataset\")\n",
    "val ports = sc.textFile(pathPortsDataset)"
   ]
  },
  {
   "cell_type": "markdown",
   "id": "bde7c25d",
   "metadata": {},
   "source": [
    "A questo punto si tratta di fare _parsing_ dei _record_ del _dataset_.\n",
    "Per effettuarlo correttamente, teniamo conto delle seguenti informazioni sui formati dei valori nelle singole colonne:\n",
    "\n",
    "* stime, ltime: il valore è un _timestamp_ in secondi dall'epoca UNIX, anche se è espresso in formato decimale per poter avere la precisione dei millisecondi\n",
    "* proto: il valore può essere uno tra \"udp\", \"tcp\", \"arp\", \"ipv6-icmp\", \"icmp\", \"igmp\", \"rarp\", ognuno dei quali è associato al corrispondente protocollo, sono però di interesse solamente i _record_ associati ai protocolli TCP e UDP\n",
    "* saddr, dadd: il valore è un indirizzo IP in formato \"dotted decimal notation\", può perciò essere salvato come String\n",
    "* sport, dport: il valore è un intero positivo che può arrivare ad un massimo di 65.536, perciò per poter essere rappresentato in linguaggio scala necessita di essere salvato in un Long\n",
    "* pkts, bytes: il valore è un intero positivo di cui non è noto il massimo, per cui è logico pensare di salvare il valore in un Long\n",
    "* dur, rate: il valore è un numero decimale, perciò per mantenere la precisione massima è stato utilizzato un Double\n",
    "* attack: il valore può essere \"1\" nel caso il _record_ appartenga ad un attacco DDoS, \"0\" in caso contrario\n",
    "\n",
    "Detto questo, sono state implementati il seguente Astract Data Type:"
   ]
  },
  {
   "cell_type": "code",
   "execution_count": 4,
   "id": "cbcf5940-297d-434b-9329-84c68f592202",
   "metadata": {
    "execution": {
     "iopub.execute_input": "2022-06-24T07:54:42.091700Z",
     "iopub.status.busy": "2022-06-24T07:54:42.091435Z",
     "iopub.status.idle": "2022-06-24T07:54:45.461713Z",
     "shell.execute_reply": "2022-06-24T07:54:45.460817Z",
     "shell.execute_reply.started": "2022-06-24T07:54:42.091675Z"
    },
    "tags": []
   },
   "outputs": [
    {
     "data": {
      "application/vnd.jupyter.widget-view+json": {
       "model_id": "e8844ff00b7549ae84547f9979d67c88",
       "version_major": 2,
       "version_minor": 0
      },
      "text/plain": [
       "VBox()"
      ]
     },
     "metadata": {},
     "output_type": "display_data"
    },
    {
     "data": {
      "application/vnd.jupyter.widget-view+json": {
       "model_id": "",
       "version_major": 2,
       "version_minor": 0
      },
      "text/plain": [
       "FloatProgress(value=0.0, bar_style='info', description='Progress:', layout=Layout(height='25px', width='50%'),…"
      ]
     },
     "metadata": {},
     "output_type": "display_data"
    },
    {
     "name": "stdout",
     "output_type": "stream",
     "text": [
      "import java.time.format.DateTimeFormatter\n",
      "import java.time.{Instant, LocalDateTime, ZoneId}\n",
      "import scala.util.{Try, Success, Failure}\n",
      "defined class Record\n",
      "defined object Record\n",
      "warning: previously defined class Record is not a companion to object Record.\n",
      "Companions must be defined together; you may wish to use :paste mode for this.\n"
     ]
    }
   ],
   "source": [
    "import java.time.format.DateTimeFormatter\n",
    "import java.time.{ Instant, LocalDateTime, ZoneId }\n",
    "import scala.util.{ Try, Success, Failure }\n",
    "\n",
    "case class Record(\n",
    "    startTime: LocalDateTime,\n",
    "    protocol: String,\n",
    "    sourceAddress: String,\n",
    "    sourcePort: Long,\n",
    "    destinationAddress: String,\n",
    "    destinationPort: Long,\n",
    "    packets: Long,\n",
    "    bytes: Long,\n",
    "    endTime: LocalDateTime,\n",
    "    duration: Double,\n",
    "    rate: Double,\n",
    "    isDDoS: Boolean,\n",
    ")\n",
    "\n",
    "object Record {\n",
    "\n",
    "  def apply(r: Seq[String]): Option[Record] =\n",
    "    (for {\n",
    "      startTime <- Try(\n",
    "        Instant.ofEpochMilli((r.head.toDouble * 1000).toLong).atZone(ZoneId.systemDefault()).toLocalDateTime,\n",
    "      )\n",
    "      protocol <- if (r(2) == \"tcp\" || r(2) == \"udp\") Success(r(2)) else Failure(new IllegalStateException())\n",
    "      sourceAddress = r(3)\n",
    "      sourcePort <- Try(r(4).toLong)\n",
    "      destinationAddress = r(6)\n",
    "      destinationPort <- Try(r(7).toLong)\n",
    "      packets <- Try(r(8).toLong)\n",
    "      bytes <- Try(r(9).toLong)\n",
    "      endTime <- Try(\n",
    "        Instant.ofEpochMilli((r(12).toDouble * 1000).toLong).atZone(ZoneId.systemDefault()).toLocalDateTime,\n",
    "      )\n",
    "      duration <- Try(r(14).toDouble)\n",
    "      rate <- Try(r(30).toDouble)\n",
    "      isDDoS = r(34) == \"1\"\n",
    "    } yield new Record(\n",
    "      startTime,\n",
    "      protocol,\n",
    "      sourceAddress,\n",
    "      sourcePort,\n",
    "      destinationAddress,\n",
    "      destinationPort,\n",
    "      packets,\n",
    "      bytes,\n",
    "      endTime,\n",
    "      duration,\n",
    "      rate,\n",
    "      isDDoS,\n",
    "    )).toOption\n",
    "}"
   ]
  },
  {
   "cell_type": "markdown",
   "id": "fd52b6d1-8273-4935-af95-db47efb65d8d",
   "metadata": {},
   "source": [
    "Per effettuare il _parsing_ del _dataset_ contenente le \"well-known ports\" è stato definito un ADT tenendo conto delle seguenti considerazioni sulle colonne:\n",
    "\n",
    "* port: il valore è un intero positivo che può arrivare ad un massimo di 65.536, perciò per poter essere rappresentato in linguaggio scala necessita di essere salvato in un Long\n",
    "* protocol: il valore può essere \"UDP\" o \"TCP\", per coerenza con l'altro _dataset_ questo valore è stato importato come String in formato _lowercase_\n",
    "* description: per semplicità, è stata salvata come una String"
   ]
  },
  {
   "cell_type": "code",
   "execution_count": 5,
   "id": "e5e5cedb-4255-4491-a348-709b690112b1",
   "metadata": {
    "execution": {
     "iopub.execute_input": "2022-06-24T07:54:51.114660Z",
     "iopub.status.busy": "2022-06-24T07:54:51.114331Z",
     "iopub.status.idle": "2022-06-24T07:54:51.946239Z",
     "shell.execute_reply": "2022-06-24T07:54:51.945546Z",
     "shell.execute_reply.started": "2022-06-24T07:54:51.114620Z"
    },
    "tags": []
   },
   "outputs": [
    {
     "data": {
      "application/vnd.jupyter.widget-view+json": {
       "model_id": "9aaeaff5a12242ae9e3c0e272fbba866",
       "version_major": 2,
       "version_minor": 0
      },
      "text/plain": [
       "VBox()"
      ]
     },
     "metadata": {},
     "output_type": "display_data"
    },
    {
     "data": {
      "application/vnd.jupyter.widget-view+json": {
       "model_id": "",
       "version_major": 2,
       "version_minor": 0
      },
      "text/plain": [
       "FloatProgress(value=0.0, bar_style='info', description='Progress:', layout=Layout(height='25px', width='50%'),…"
      ]
     },
     "metadata": {},
     "output_type": "display_data"
    },
    {
     "name": "stdout",
     "output_type": "stream",
     "text": [
      "defined class PortDescription\n",
      "defined object PortDescription\n",
      "warning: previously defined class PortDescription is not a companion to object PortDescription.\n",
      "Companions must be defined together; you may wish to use :paste mode for this.\n"
     ]
    }
   ],
   "source": [
    "case class PortDescription(\n",
    "  port: Long,\n",
    "  protocol: String,\n",
    "  description: String\n",
    ")\n",
    "\n",
    "object PortDescription {\n",
    "\n",
    "  def apply(r: Seq[String]): Option[PortDescription] = \n",
    "    (for {\n",
    "       port <- Try(r.head.toLong)\n",
    "       protocol <- Try(r(1).toLowerCase)\n",
    "       description = r(2)\n",
    "     } yield new PortDescription(port, protocol, description)\n",
    "    ).toOption\n",
    "}"
   ]
  },
  {
   "cell_type": "markdown",
   "id": "e3d3b6cd-a02f-4d02-8594-54529560e7c3",
   "metadata": {},
   "source": [
    "Qui di seguito sono stati fatti degli _import_ di classi comuni a più _query_."
   ]
  },
  {
   "cell_type": "code",
   "execution_count": 6,
   "id": "2f52eaab-2898-4184-8233-0501a3a016a9",
   "metadata": {
    "execution": {
     "iopub.execute_input": "2022-06-24T07:54:55.191358Z",
     "iopub.status.busy": "2022-06-24T07:54:55.191125Z",
     "iopub.status.idle": "2022-06-24T07:54:56.006436Z",
     "shell.execute_reply": "2022-06-24T07:54:56.005813Z",
     "shell.execute_reply.started": "2022-06-24T07:54:55.191321Z"
    },
    "tags": []
   },
   "outputs": [
    {
     "data": {
      "application/vnd.jupyter.widget-view+json": {
       "model_id": "e3a7195895e64b9c967c9677cf0be9c6",
       "version_major": 2,
       "version_minor": 0
      },
      "text/plain": [
       "VBox()"
      ]
     },
     "metadata": {},
     "output_type": "display_data"
    },
    {
     "data": {
      "application/vnd.jupyter.widget-view+json": {
       "model_id": "",
       "version_major": 2,
       "version_minor": 0
      },
      "text/plain": [
       "FloatProgress(value=0.0, bar_style='info', description='Progress:', layout=Layout(height='25px', width='50%'),…"
      ]
     },
     "metadata": {},
     "output_type": "display_data"
    },
    {
     "name": "stdout",
     "output_type": "stream",
     "text": [
      "import org.apache.spark.{HashPartitioner, SparkContext}\n",
      "import org.apache.spark.storage.StorageLevel\n",
      "import org.apache.spark.rdd.RDD\n",
      "import scala.reflect.ClassTag\n",
      "import scala.math.Numeric.Implicits.infixNumericOps\n"
     ]
    }
   ],
   "source": [
    "import org.apache.spark.{HashPartitioner, SparkContext}\n",
    "import org.apache.spark.storage.StorageLevel\n",
    "import org.apache.spark.rdd.RDD\n",
    "import scala.reflect.ClassTag\n",
    "import scala.math.Numeric.Implicits.infixNumericOps"
   ]
  },
  {
   "cell_type": "markdown",
   "id": "eac53ff3",
   "metadata": {},
   "source": [
    "Alla definizione è seguito il parsing vero e proprio, che ha tenuto conto del fatto che i tre _file_, essendo in formato CSV, hanno le virgolette che circondano ogni valore di ogni colonna e sono separati dai punti e virgola.\n",
    "Assieme ai _record_ \"legittimi\", per così dire, saranno presenti anche le intestazioni dei tre _file_.\n",
    "Questo però non ci preoccupa perché sappiamo che il _parser_ eliminerà correttamente quelle righe dall'RDD che caricheremo, non avendo lo stesso formato delle altre."
   ]
  },
  {
   "cell_type": "code",
   "execution_count": 7,
   "id": "20bb05ff-f850-49fb-a432-c977b86f5ce6",
   "metadata": {
    "execution": {
     "iopub.execute_input": "2022-06-24T07:54:57.268621Z",
     "iopub.status.busy": "2022-06-24T07:54:57.268392Z",
     "iopub.status.idle": "2022-06-24T07:54:58.064298Z",
     "shell.execute_reply": "2022-06-24T07:54:58.063576Z",
     "shell.execute_reply.started": "2022-06-24T07:54:57.268597Z"
    },
    "tags": []
   },
   "outputs": [
    {
     "data": {
      "application/vnd.jupyter.widget-view+json": {
       "model_id": "0708e830142e4ea9a1bb043d5b822602",
       "version_major": 2,
       "version_minor": 0
      },
      "text/plain": [
       "VBox()"
      ]
     },
     "metadata": {},
     "output_type": "display_data"
    },
    {
     "data": {
      "application/vnd.jupyter.widget-view+json": {
       "model_id": "",
       "version_major": 2,
       "version_minor": 0
      },
      "text/plain": [
       "FloatProgress(value=0.0, bar_style='info', description='Progress:', layout=Layout(height='25px', width='50%'),…"
      ]
     },
     "metadata": {},
     "output_type": "display_data"
    },
    {
     "name": "stdout",
     "output_type": "stream",
     "text": [
      "parsedRecordDataset: org.apache.spark.rdd.RDD[Record] = MapPartitionsRDD[8] at map at <console>:41\n"
     ]
    }
   ],
   "source": [
    "val parsedRecordDataset = \n",
    "    dataset.\n",
    "        map(_.replace(\"\\\"\", \"\")).\n",
    "        map(_.split(\";\")).\n",
    "        map(Record(_)).\n",
    "        filter(_.isDefined).\n",
    "        map(_.get)"
   ]
  },
  {
   "cell_type": "markdown",
   "id": "6f0c115a-538e-4630-bd6b-d01e695d5027",
   "metadata": {},
   "source": [
    "Effettuiamo il _caching_ del _dataset_ per vedere la sua occupazione in formato non serializzato, a cui facciamo seguire la semplice operazione di conteggio per attivare il meccanismo di _caching_ e sapere anche la dimensione in righe del _dataset_.\n",
    "La quantità di memoria occupata complessiva, tra RAM e disco, è di 10.7GB e il numero di _record_ è di 38.532.503."
   ]
  },
  {
   "cell_type": "code",
   "execution_count": 9,
   "id": "0abf6375-f961-4907-8fba-7206ab407587",
   "metadata": {
    "execution": {
     "iopub.execute_input": "2022-06-24T07:55:22.888941Z",
     "iopub.status.busy": "2022-06-24T07:55:22.888705Z",
     "iopub.status.idle": "2022-06-24T07:58:18.913090Z",
     "shell.execute_reply": "2022-06-24T07:58:18.912367Z",
     "shell.execute_reply.started": "2022-06-24T07:55:22.888917Z"
    },
    "tags": []
   },
   "outputs": [
    {
     "data": {
      "application/vnd.jupyter.widget-view+json": {
       "model_id": "a7f8692daced4f7db75d9d2e045c3894",
       "version_major": 2,
       "version_minor": 0
      },
      "text/plain": [
       "VBox()"
      ]
     },
     "metadata": {},
     "output_type": "display_data"
    },
    {
     "data": {
      "application/vnd.jupyter.widget-view+json": {
       "model_id": "",
       "version_major": 2,
       "version_minor": 0
      },
      "text/plain": [
       "FloatProgress(value=0.0, bar_style='info', description='Progress:', layout=Layout(height='25px', width='50%'),…"
      ]
     },
     "metadata": {},
     "output_type": "display_data"
    },
    {
     "name": "stdout",
     "output_type": "stream",
     "text": [
      "recordDataset: parsedRecordDataset.type = MapPartitionsRDD[8] at map at <console>:41\n",
      "recordDatasetSize: Long = 38532503\n"
     ]
    }
   ],
   "source": [
    "val recordDataset = parsedRecordDataset.persist(StorageLevel.MEMORY_AND_DISK)\n",
    "val recordDatasetSize = recordDataset.count()"
   ]
  },
  {
   "cell_type": "markdown",
   "id": "b5ead705-7aa1-480a-a5c2-8ee5300e1899",
   "metadata": {},
   "source": [
    "Per gli stessi motivi di cui sopra, effettuiamo il _caching_ del _dataset_ delle \"well-known port\", a cui facciamo seguire la semplice operazione di conteggio delle righe.\n",
    "La quantità di memoria occupata è di 8.5MB e il numero di _record_ è di 31.178."
   ]
  },
  {
   "cell_type": "code",
   "execution_count": 11,
   "id": "0184d72c-feeb-4e61-abf5-717098475c90",
   "metadata": {
    "execution": {
     "iopub.execute_input": "2022-06-24T07:58:53.233974Z",
     "iopub.status.busy": "2022-06-24T07:58:53.233754Z",
     "iopub.status.idle": "2022-06-24T07:58:55.550636Z",
     "shell.execute_reply": "2022-06-24T07:58:55.550054Z",
     "shell.execute_reply.started": "2022-06-24T07:58:53.233950Z"
    },
    "tags": []
   },
   "outputs": [
    {
     "data": {
      "application/vnd.jupyter.widget-view+json": {
       "model_id": "ecd4e3d08e9843d1beab50100f4e0461",
       "version_major": 2,
       "version_minor": 0
      },
      "text/plain": [
       "VBox()"
      ]
     },
     "metadata": {},
     "output_type": "display_data"
    },
    {
     "data": {
      "application/vnd.jupyter.widget-view+json": {
       "model_id": "",
       "version_major": 2,
       "version_minor": 0
      },
      "text/plain": [
       "FloatProgress(value=0.0, bar_style='info', description='Progress:', layout=Layout(height='25px', width='50%'),…"
      ]
     },
     "metadata": {},
     "output_type": "display_data"
    },
    {
     "name": "stdout",
     "output_type": "stream",
     "text": [
      "portsDataset: org.apache.spark.rdd.RDD[PortDescription] = MapPartitionsRDD[18] at map at <console>:41\n",
      "cachedPortsDataset: portsDataset.type = MapPartitionsRDD[18] at map at <console>:41\n",
      "res11: Long = 31178\n"
     ]
    }
   ],
   "source": [
    "val portsDataset = \n",
    "    ports.\n",
    "        map(_.replace(\"\\\"\", \"\")).\n",
    "        map(_.split(\",\")).\n",
    "        map(PortDescription(_)).\n",
    "        filter(_.isDefined).\n",
    "        map(_.get)\n",
    "val cachedPortsDataset = portsDataset.persist(StorageLevel.MEMORY_AND_DISK)\n",
    "cachedPortsDataset.count()"
   ]
  },
  {
   "cell_type": "markdown",
   "id": "e84ac3b4-584e-4f87-be39-ba62ac59f677",
   "metadata": {},
   "source": [
    "Per quanto riguarda il _dataset_ principale, è stato deciso di mantenerlo \"_cached_\" in memoria con possibilità di _spill-over_ su disco perché tutte le _query_ lo utilizzano.\n",
    "È stato deciso di utilizzare questa forma di _caching_ perché l'aggiunta della serializzazione aggiunge un _overhead_ notevole nei tempi di esecuzione anche delle _query_ più semplici, rendendolo inefficiente.\n",
    "La possibilità di servirsi anche del disco è necessaria date le sue dimensioni troppo elevate per poter essere ospitato interamente in memoria.\n",
    "Per quanto riguarda invece il _dataset_ delle \"well-known port\", si è deciso di rimuoverlo dalla _cache_ dato che sarà utilizzato in una sola _query_."
   ]
  },
  {
   "cell_type": "code",
   "execution_count": 12,
   "id": "1d4cc367-74a4-4441-b7b2-45041c415142",
   "metadata": {
    "execution": {
     "iopub.execute_input": "2022-06-24T07:59:13.236120Z",
     "iopub.status.busy": "2022-06-24T07:59:13.235893Z",
     "iopub.status.idle": "2022-06-24T07:59:14.025201Z",
     "shell.execute_reply": "2022-06-24T07:59:14.023466Z",
     "shell.execute_reply.started": "2022-06-24T07:59:13.236097Z"
    },
    "tags": []
   },
   "outputs": [
    {
     "data": {
      "application/vnd.jupyter.widget-view+json": {
       "model_id": "79d96e75356545aabbd33e134fb2bb04",
       "version_major": 2,
       "version_minor": 0
      },
      "text/plain": [
       "VBox()"
      ]
     },
     "metadata": {},
     "output_type": "display_data"
    },
    {
     "data": {
      "application/vnd.jupyter.widget-view+json": {
       "model_id": "",
       "version_major": 2,
       "version_minor": 0
      },
      "text/plain": [
       "FloatProgress(value=0.0, bar_style='info', description='Progress:', layout=Layout(height='25px', width='50%'),…"
      ]
     },
     "metadata": {},
     "output_type": "display_data"
    },
    {
     "name": "stdout",
     "output_type": "stream",
     "text": [
      "res12: cachedPortsDataset.type = MapPartitionsRDD[18] at map at <console>:41\n"
     ]
    }
   ],
   "source": [
    "cachedPortsDataset.unpersist()"
   ]
  },
  {
   "cell_type": "markdown",
   "id": "5854d3ed-038e-4f2d-9bb5-dd11abd93e93",
   "metadata": {
    "tags": []
   },
   "source": [
    "## Query"
   ]
  },
  {
   "cell_type": "markdown",
   "id": "013d6e46-2423-4105-aa1a-7b83b9cb7f0c",
   "metadata": {},
   "source": [
    "### Percentuale dei _record_ associati ad attacchi DDoS"
   ]
  },
  {
   "cell_type": "markdown",
   "id": "f103adac-357a-40f7-ba04-b23952fa3e22",
   "metadata": {},
   "source": [
    "Con questa query si vuole calcolare la percentuale di _record_ che appartengono ad attacchi DDoS nel _dataset_ e così derivare anche il numero di _record_ che __non__ appartengono ad attacchi DDoS, ma a traffico legittimo."
   ]
  },
  {
   "cell_type": "code",
   "execution_count": 13,
   "id": "df3422b1-8b67-493f-8e9b-c302adf2dfe1",
   "metadata": {
    "execution": {
     "iopub.execute_input": "2022-06-24T07:59:20.274045Z",
     "iopub.status.busy": "2022-06-24T07:59:20.273826Z",
     "iopub.status.idle": "2022-06-24T07:59:33.621134Z",
     "shell.execute_reply": "2022-06-24T07:59:33.620444Z",
     "shell.execute_reply.started": "2022-06-24T07:59:20.274021Z"
    },
    "tags": []
   },
   "outputs": [
    {
     "data": {
      "application/vnd.jupyter.widget-view+json": {
       "model_id": "51e72df0394d44228d14c603b3381c82",
       "version_major": 2,
       "version_minor": 0
      },
      "text/plain": [
       "VBox()"
      ]
     },
     "metadata": {},
     "output_type": "display_data"
    },
    {
     "data": {
      "application/vnd.jupyter.widget-view+json": {
       "model_id": "",
       "version_major": 2,
       "version_minor": 0
      },
      "text/plain": [
       "FloatProgress(value=0.0, bar_style='info', description='Progress:', layout=Layout(height='25px', width='50%'),…"
      ]
     },
     "metadata": {},
     "output_type": "display_data"
    },
    {
     "name": "stdout",
     "output_type": "stream",
     "text": [
      "ddosCount: (Int, Int) = (38531238,1265)\n"
     ]
    }
   ],
   "source": [
    "val ddosCount = \n",
    "    recordDataset.\n",
    "        map(r => if (r.isDDoS) (1, 0) else (0, 1)).\n",
    "        reduce{ case((ddosCount1, legitCount1), (ddosCount2, legitCount2)) => (ddosCount1 + ddosCount2, legitCount1 + legitCount2) }"
   ]
  },
  {
   "cell_type": "markdown",
   "id": "76cf014d-425d-49df-8c5e-6d65a3bac9b4",
   "metadata": {},
   "source": [
    "La _query_ prende in input l'intero _dataset_ e produce due Long: il primo è il numero di _record_ appartenenti ad attacchi DDoS, il secondo è il numero di _record_ appartenenti a traffico legittimo.\n",
    "\n",
    "La query ha completato in media con un tempo di 12 secondi prendendo in input 10.6 GB di dati.\n",
    "\n",
    "L'implementazione scelta non fa altro che trasformare ogni _record_ in una coppia di valori, dove il primo rappresenta il conteggio dei _record_ associati ad attacchi e il secondo quelli associati a traffico legittimo.\n",
    "La coppia avrà il valore 1 nella posizione corrispondente a quale tipo di traffico il _record_ stesso appartiene, il valore 0 nell'altra.\n",
    "Dopodiché, viene compiuta un'operazione di _reduce_ che somma i valori nelle corrispondenti posizioni."
   ]
  },
  {
   "cell_type": "code",
   "execution_count": 14,
   "id": "5a472943-e046-4ec8-9bf4-45d7765558a3",
   "metadata": {
    "execution": {
     "iopub.execute_input": "2022-06-24T07:59:44.216364Z",
     "iopub.status.busy": "2022-06-24T07:59:44.216031Z",
     "iopub.status.idle": "2022-06-24T07:59:57.565785Z",
     "shell.execute_reply": "2022-06-24T07:59:57.565190Z",
     "shell.execute_reply.started": "2022-06-24T07:59:44.216334Z"
    },
    "tags": []
   },
   "outputs": [
    {
     "data": {
      "application/vnd.jupyter.widget-view+json": {
       "model_id": "3bfcc737d23642bdb3b0ea95e0c54380",
       "version_major": 2,
       "version_minor": 0
      },
      "text/plain": [
       "VBox()"
      ]
     },
     "metadata": {},
     "output_type": "display_data"
    },
    {
     "data": {
      "application/vnd.jupyter.widget-view+json": {
       "model_id": "",
       "version_major": 2,
       "version_minor": 0
      },
      "text/plain": [
       "FloatProgress(value=0.0, bar_style='info', description='Progress:', layout=Layout(height='25px', width='50%'),…"
      ]
     },
     "metadata": {},
     "output_type": "display_data"
    },
    {
     "name": "stdout",
     "output_type": "stream",
     "text": [
      "ddosCount: (Int, Int) = (38531238,1265)\n"
     ]
    }
   ],
   "source": [
    "val ddosCount = \n",
    "    recordDataset.\n",
    "        coalesce(12).\n",
    "        map(r => if (r.isDDoS) (1, 0) else (0, 1)).\n",
    "        reduce{ case((ddosCount1, legitCount1), (ddosCount2, legitCount2)) => (ddosCount1 + ddosCount2, legitCount1 + legitCount2) }"
   ]
  },
  {
   "cell_type": "markdown",
   "id": "83947728-f038-4244-92e0-541b589b42d2",
   "metadata": {},
   "source": [
    "È stata tentata una variante ottimizzata dove si ridimensionano le partizioni dello RDD riducendo il loro numero.\n",
    "Si è però osservato che il tempo rimane essenzialmente costante, se non direttamente peggiora.\n",
    "Per questo motivo, si è giudicata la _query_ originale già ottimale."
   ]
  },
  {
   "cell_type": "code",
   "execution_count": 15,
   "id": "6c79a6a2-c423-477a-a19d-2406fbb64f4e",
   "metadata": {
    "execution": {
     "iopub.execute_input": "2022-06-24T08:00:09.256010Z",
     "iopub.status.busy": "2022-06-24T08:00:09.255771Z",
     "iopub.status.idle": "2022-06-24T08:00:10.048274Z",
     "shell.execute_reply": "2022-06-24T08:00:10.047565Z",
     "shell.execute_reply.started": "2022-06-24T08:00:09.255985Z"
    },
    "tags": []
   },
   "outputs": [
    {
     "data": {
      "application/vnd.jupyter.widget-view+json": {
       "model_id": "4ce8ffddb5ce44edad59ec3d68e7171b",
       "version_major": 2,
       "version_minor": 0
      },
      "text/plain": [
       "VBox()"
      ]
     },
     "metadata": {},
     "output_type": "display_data"
    },
    {
     "data": {
      "application/vnd.jupyter.widget-view+json": {
       "model_id": "",
       "version_major": 2,
       "version_minor": 0
      },
      "text/plain": [
       "FloatProgress(value=0.0, bar_style='info', description='Progress:', layout=Layout(height='25px', width='50%'),…"
      ]
     },
     "metadata": {},
     "output_type": "display_data"
    },
    {
     "name": "stdout",
     "output_type": "stream",
     "text": [
      "ddosPercentage: Double = 99.99671705728538\n",
      "legitPercentage: Double = 0.0032829427146219906\n"
     ]
    }
   ],
   "source": [
    "val ddosPercentage = ddosCount._1 / recordDatasetSize.toDouble * 100\n",
    "val legitPercentage = ddosCount._2 / recordDatasetSize.toDouble * 100"
   ]
  },
  {
   "cell_type": "markdown",
   "id": "72dcbb47-4dc1-4c85-b8d5-fda56b4a6bbe",
   "metadata": {},
   "source": [
    "Quello che è possibile dedurre da questa _query_ è che il _dataset_ contiene quasi esclusivamente _record_ inerenti ad attacchi DDoS, il 99,997%. \n",
    "Per qusto motivo, occorrerà tenere in conto questa differenza di peso tra i due tipi di traffico nelle _query_ successive ad esempio analizzandoli separatamente."
   ]
  },
  {
   "cell_type": "markdown",
   "id": "0bf36315-da7e-4e28-bbf9-3321d724541e",
   "metadata": {
    "tags": []
   },
   "source": [
    "<div align=\"center\">\n",
    "    <img src=\"images/total_pie.png\" width=\"500\"/>\n",
    "</div>"
   ]
  },
  {
   "cell_type": "markdown",
   "id": "d6913088-ba91-4434-91ae-6a5e47a081d5",
   "metadata": {},
   "source": [
    "### Percentuale dei protocolli coinvolti negli attacchi DDoS"
   ]
  },
  {
   "cell_type": "markdown",
   "id": "4e392430-eb78-495c-a2f7-1cc5c9382d0f",
   "metadata": {},
   "source": [
    "Con questa query si vuole calcolare la percentuale con cui ciascun protocollo, ovvero \"TCP\" e \"UDP\", compare nei _record_ che appartengono ad attacchi DDoS nel _dataset_."
   ]
  },
  {
   "cell_type": "code",
   "execution_count": 16,
   "id": "3c08f3d0-7ba8-4358-bca9-df48c0df0f7f",
   "metadata": {
    "execution": {
     "iopub.execute_input": "2022-06-24T08:01:46.779108Z",
     "iopub.status.busy": "2022-06-24T08:01:46.778888Z",
     "iopub.status.idle": "2022-06-24T08:02:00.118987Z",
     "shell.execute_reply": "2022-06-24T08:02:00.118208Z",
     "shell.execute_reply.started": "2022-06-24T08:01:46.779085Z"
    },
    "tags": []
   },
   "outputs": [
    {
     "data": {
      "application/vnd.jupyter.widget-view+json": {
       "model_id": "9fa5cb6823e74009b0f81eb4be021286",
       "version_major": 2,
       "version_minor": 0
      },
      "text/plain": [
       "VBox()"
      ]
     },
     "metadata": {},
     "output_type": "display_data"
    },
    {
     "data": {
      "application/vnd.jupyter.widget-view+json": {
       "model_id": "",
       "version_major": 2,
       "version_minor": 0
      },
      "text/plain": [
       "FloatProgress(value=0.0, bar_style='info', description='Progress:', layout=Layout(height='25px', width='50%'),…"
      ]
     },
     "metadata": {},
     "output_type": "display_data"
    },
    {
     "name": "stdout",
     "output_type": "stream",
     "text": [
      "ddosByProtocol: (Int, Int) = (19566842,18964396)\n"
     ]
    }
   ],
   "source": [
    "val ddosByProtocol = \n",
    "    recordDataset.\n",
    "        filter(_.isDDoS).\n",
    "        map(r => if (r.protocol == \"tcp\") (1, 0) else (0, 1)).\n",
    "        reduce{ case((tcpCount1, udpCount1), (tcpCount2, udpCount2)) => (tcpCount1 + tcpCount2, udpCount1 + udpCount2) }"
   ]
  },
  {
   "cell_type": "markdown",
   "id": "b27e4521-f211-4437-8210-bf846b70cd0b",
   "metadata": {
    "tags": []
   },
   "source": [
    "La _query_ prende in input l'intero _dataset_ e produce due Long: il primo è il numero di _record_ il cui protocollo di livello di trasporto è \"TCP\", il secondo è il numero di _record_ il cui protocollo è \"UDP\".\n",
    "\n",
    "La query ha completato in media con un tempo di 13 secondi prendendo in input 10.6 GB di dati.\n",
    "\n",
    "L'implementazione scelta filtra il _dataset_ per eliminare i _record_ che appartengono a traffico legittimo, per poi  trasformare ogni _record_ in una coppia di valori, dove il primo rappresenta il conteggio dei _record_ associati al protocollo \"TCP\" e il secondo quelli associati a quello \"UDP\".\n",
    "La coppia avrà il valore 1 nella posizione corrispondente a quale tipo di protocollo il _record_ stesso è associato, il valore 0 nell'altra.\n",
    "Dopodiché, viene compiuta un'operazione di _reduce_ che somma i valori nelle corrispondenti posizioni."
   ]
  },
  {
   "cell_type": "code",
   "execution_count": 17,
   "id": "3e65d386-1449-4e8d-8110-7655a9864dc1",
   "metadata": {
    "execution": {
     "iopub.execute_input": "2022-06-24T08:02:06.366552Z",
     "iopub.status.busy": "2022-06-24T08:02:06.366318Z",
     "iopub.status.idle": "2022-06-24T08:02:19.733363Z",
     "shell.execute_reply": "2022-06-24T08:02:19.732716Z",
     "shell.execute_reply.started": "2022-06-24T08:02:06.366526Z"
    },
    "tags": []
   },
   "outputs": [
    {
     "data": {
      "application/vnd.jupyter.widget-view+json": {
       "model_id": "7e3991ac5e4044bea05f27c70339c9d7",
       "version_major": 2,
       "version_minor": 0
      },
      "text/plain": [
       "VBox()"
      ]
     },
     "metadata": {},
     "output_type": "display_data"
    },
    {
     "data": {
      "application/vnd.jupyter.widget-view+json": {
       "model_id": "",
       "version_major": 2,
       "version_minor": 0
      },
      "text/plain": [
       "FloatProgress(value=0.0, bar_style='info', description='Progress:', layout=Layout(height='25px', width='50%'),…"
      ]
     },
     "metadata": {},
     "output_type": "display_data"
    },
    {
     "name": "stdout",
     "output_type": "stream",
     "text": [
      "ddosByProtocol: (Int, Int) = (19566842,18964396)\n"
     ]
    }
   ],
   "source": [
    "val ddosByProtocol = \n",
    "    recordDataset.\n",
    "        coalesce(12).\n",
    "        filter(_.isDDoS).\n",
    "        map(r => if (r.protocol == \"tcp\") (1, 0) else (0, 1)).\n",
    "        reduce{ case((tcpCount1, udpCount1), (tcpCount2, udpCount2)) => (tcpCount1 + tcpCount2, udpCount1 + udpCount2) }"
   ]
  },
  {
   "cell_type": "markdown",
   "id": "bfc5fdc1-f7c1-45d2-9cdf-a589f7b4a120",
   "metadata": {},
   "source": [
    "È stata tentata una variante ottimizzata dove si ridimensionano le partizioni dello RDD riducendo il loro numero.\n",
    "Si è però osservato che il tempo rimane essenzialmente costante, se non direttamente peggiora.\n",
    "Per questo motivo, si è giudicata la _query_ originale già ottimale.\n",
    "Questo fatto non ci sorprende, dacché la _query_ per come è implementata è molto simile alla precedente."
   ]
  },
  {
   "cell_type": "code",
   "execution_count": 18,
   "id": "c01c82e6-e151-4164-a663-86daae8dab7e",
   "metadata": {
    "execution": {
     "iopub.execute_input": "2022-06-24T08:02:28.561322Z",
     "iopub.status.busy": "2022-06-24T08:02:28.561098Z",
     "iopub.status.idle": "2022-06-24T08:02:29.344810Z",
     "shell.execute_reply": "2022-06-24T08:02:29.344101Z",
     "shell.execute_reply.started": "2022-06-24T08:02:28.561297Z"
    },
    "tags": []
   },
   "outputs": [
    {
     "data": {
      "application/vnd.jupyter.widget-view+json": {
       "model_id": "ccb36855f5f0433081a56d184ac17021",
       "version_major": 2,
       "version_minor": 0
      },
      "text/plain": [
       "VBox()"
      ]
     },
     "metadata": {},
     "output_type": "display_data"
    },
    {
     "data": {
      "application/vnd.jupyter.widget-view+json": {
       "model_id": "",
       "version_major": 2,
       "version_minor": 0
      },
      "text/plain": [
       "FloatProgress(value=0.0, bar_style='info', description='Progress:', layout=Layout(height='25px', width='50%'),…"
      ]
     },
     "metadata": {},
     "output_type": "display_data"
    },
    {
     "name": "stdout",
     "output_type": "stream",
     "text": [
      "tcpPercentage: Double = 50.780095962102436\n",
      "udpPercentage: Double = 49.216621095182944\n"
     ]
    }
   ],
   "source": [
    "val tcpPercentage = ddosByProtocol._1 / recordDatasetSize.toDouble * 100\n",
    "val udpPercentage = ddosByProtocol._2 / recordDatasetSize.toDouble * 100"
   ]
  },
  {
   "cell_type": "markdown",
   "id": "923ec530-28a9-43df-a30f-55c7c67ecf8a",
   "metadata": {},
   "source": [
    "Come si può notare, il peso che entrambi i protocolli hanno negli attacchi DDoS è all'incirca lo stesso.\n",
    "Non è perciò possibile aspettarsi che un certo segmento sia potenzialmente più o meno pericoloso a seconda del tipo di protocollo di livello di trasporto utilizzato."
   ]
  },
  {
   "cell_type": "markdown",
   "id": "41f91f25-545b-4c5a-93b0-0f02f363460e",
   "metadata": {},
   "source": [
    "<div align=\"center\">\n",
    "    <img src=\"images/protocol-chart.png\" width=\"500\"/>\n",
    "</div>"
   ]
  },
  {
   "cell_type": "markdown",
   "id": "efb4441f-8044-405a-ad74-1e6d6b9b41da",
   "metadata": {},
   "source": [
    "### Percentuale dei servizi presi di mira dagli attacchi DDoS"
   ]
  },
  {
   "cell_type": "markdown",
   "id": "66f0b4f6-4b62-4a43-84bf-2e567d2bc21e",
   "metadata": {},
   "source": [
    "Con questa query si vuole calcolare la percentuale con cui ciascun servizio è stato preso di mira dagli attacchi DDoS.\n",
    "Per servizio intendiamo la combinazione di porta e protocollo di livello di trasporto, che di norma sono associati a servizi predefiniti.\n",
    "Ad esempio, il protocollo TCP e la porta 80 sono di norma associati ad un server HTTP, anche se nulla toglie che è possibile che sia presente un altro servizio in ascolto.\n",
    "Certamente, un attaccante può studiare prima il sistema per capire quali servizi sono attivi, ma in mancanza di altre informazioni disponibili ricade su ciò che è vero per default."
   ]
  },
  {
   "cell_type": "code",
   "execution_count": 22,
   "id": "396b1984-85a4-43ec-b64e-f92087c654bc",
   "metadata": {
    "execution": {
     "iopub.execute_input": "2022-06-24T08:10:32.643576Z",
     "iopub.status.busy": "2022-06-24T08:10:32.643337Z",
     "iopub.status.idle": "2022-06-24T08:10:33.415645Z",
     "shell.execute_reply": "2022-06-24T08:10:33.414787Z",
     "shell.execute_reply.started": "2022-06-24T08:10:32.643551Z"
    },
    "tags": []
   },
   "outputs": [
    {
     "data": {
      "application/vnd.jupyter.widget-view+json": {
       "model_id": "87778267a67a493b916e99a1b4065c80",
       "version_major": 2,
       "version_minor": 0
      },
      "text/plain": [
       "VBox()"
      ]
     },
     "metadata": {},
     "output_type": "display_data"
    },
    {
     "data": {
      "application/vnd.jupyter.widget-view+json": {
       "model_id": "",
       "version_major": 2,
       "version_minor": 0
      },
      "text/plain": [
       "FloatProgress(value=0.0, bar_style='info', description='Progress:', layout=Layout(height='25px', width='50%'),…"
      ]
     },
     "metadata": {},
     "output_type": "display_data"
    },
    {
     "name": "stdout",
     "output_type": "stream",
     "text": [
      "servicesDataset: org.apache.spark.rdd.RDD[((Long, String), Int)] = ShuffledRDD[65] at reduceByKey at <console>:37\n"
     ]
    }
   ],
   "source": [
    "val servicesDataset = \n",
    "    recordDataset.\n",
    "        filter(_.isDDoS).\n",
    "        map(r => ((r.destinationPort, r.protocol), 1)).\n",
    "        reduceByKey(_ + _).\n",
    "        persist(StorageLevel.MEMORY_AND_DISK)"
   ]
  },
  {
   "cell_type": "code",
   "execution_count": 31,
   "id": "0f2194b8-1266-46db-8f1e-b3fccdaa9c39",
   "metadata": {
    "execution": {
     "iopub.execute_input": "2022-06-24T08:23:16.378536Z",
     "iopub.status.busy": "2022-06-24T08:23:16.378311Z",
     "iopub.status.idle": "2022-06-24T08:23:19.693181Z",
     "shell.execute_reply": "2022-06-24T08:23:19.692509Z",
     "shell.execute_reply.started": "2022-06-24T08:23:16.378512Z"
    },
    "tags": []
   },
   "outputs": [
    {
     "data": {
      "application/vnd.jupyter.widget-view+json": {
       "model_id": "2ea6ffdb83554142aa76770ea5146de8",
       "version_major": 2,
       "version_minor": 0
      },
      "text/plain": [
       "VBox()"
      ]
     },
     "metadata": {},
     "output_type": "display_data"
    },
    {
     "data": {
      "application/vnd.jupyter.widget-view+json": {
       "model_id": "",
       "version_major": 2,
       "version_minor": 0
      },
      "text/plain": [
       "FloatProgress(value=0.0, bar_style='info', description='Progress:', layout=Layout(height='25px', width='50%'),…"
      ]
     },
     "metadata": {},
     "output_type": "display_data"
    },
    {
     "name": "stdout",
     "output_type": "stream",
     "text": [
      "portsCountJoin: Array[((Long, String), (Int, String))] = Array(((80,tcp),(19529331,Hypertext Transfer Protocol (HTTP) uses TCP in versions 1.x and 2. HTTP/3 uses QUIC)), ((80,udp),(18964396,Hypertext Transfer Protocol (HTTP) uses TCP in versions 1.x and 2. HTTP/3 uses QUIC)), ((9030,tcp),(4,Tor often used)), ((4116,tcp),(4,Smartcard-TLS)), ((6389,tcp),(4,EMC CLARiiON)), ((53850,tcp),(4,Certificate Management over CMS)), ((50271,tcp),(4,Certificate Management over CMS)), ((53849,tcp),(4,Certificate Management over CMS)), ((53855,tcp),(4,Certificate Management over CMS)), ((6260,tcp),(3,planet M.U.L.E.)), ((6347,tcp),(3,gnutella-rtr)), ((4444,tcp),(3,Xvfb X server virtual frame buffer service)), ((9043,tcp),(3,WebSphere Application Server Administration Console secure)), ((6201,tcp),(3,Th...\n"
     ]
    }
   ],
   "source": [
    "val portsCountJoin = \n",
    "    servicesDataset.\n",
    "        join(portsDataset.map(d => ((d.port, d.protocol), d.description))).\n",
    "        sortBy(_._2, ascending = false).\n",
    "        collect()"
   ]
  },
  {
   "cell_type": "markdown",
   "id": "442f1720-5cca-475a-97b1-2c984f9c7726",
   "metadata": {},
   "source": [
    "La _query_ prende in input sia il _dataset_ principale che quello delle \"well-known ports\" e produce l'elenco dei servizi più colpiti.\n",
    "Ogni riga del risultato è composta da porta e protocollo di trasporto del servizio assieme alla sua descrizione e al conteggio delle occorrenze del servizio nel _dataset_ principale.\n",
    "\n",
    "Non facendo _caching_ dei _dataset_ utilizzati nella _query_, questa ha completato in media con un tempo di 17 secondi prendendo in input 10.6 GB di dati.\n",
    "Utilizzando una strategia di _caching_ per i dati utilizzati prima del _join_, la query completa in circa 1.8 secondi.\n",
    "Da quest'ultimo dato si deriva che l'operazione di _join_ e _sorting_ impiegano circa 2 secondi.\n",
    "\n",
    "L'implementazione scelta filtra il _dataset_ per eliminare i _record_ che appartengono a traffico legittimo, per poi trasformare i _record_ in un formato \"chiave valore\".\n",
    "La chiave è fatta dalla coppia \"porta-protocollo\", mentre il valore è un semplice 1, in modo tale da poter sommare tutti questi valori per chiave e avere così il conteggio delle loro occorrenze.\n",
    "La chiave è poi utile per effettuare l'operazione di _join_ con il _dataset_ contenente le descrizioni dei servizi, permettendoci di ottenere un risultato le cui righe hanno il formato di nostro interesse.\n",
    "L'ultima operazione effettuata è un ordinamento decrescente per poter avere per primi i servizi con maggior numero di occorrenze."
   ]
  },
  {
   "cell_type": "code",
   "execution_count": 32,
   "id": "65eec958-4d64-4d02-a7d1-ebce3348683e",
   "metadata": {
    "execution": {
     "iopub.execute_input": "2022-06-24T08:23:22.296464Z",
     "iopub.status.busy": "2022-06-24T08:23:22.296249Z",
     "iopub.status.idle": "2022-06-24T08:23:24.624414Z",
     "shell.execute_reply": "2022-06-24T08:23:24.623686Z",
     "shell.execute_reply.started": "2022-06-24T08:23:22.296441Z"
    },
    "tags": []
   },
   "outputs": [
    {
     "data": {
      "application/vnd.jupyter.widget-view+json": {
       "model_id": "63a35f8fb0d749b2bdf4aa76d8d17c10",
       "version_major": 2,
       "version_minor": 0
      },
      "text/plain": [
       "VBox()"
      ]
     },
     "metadata": {},
     "output_type": "display_data"
    },
    {
     "data": {
      "application/vnd.jupyter.widget-view+json": {
       "model_id": "",
       "version_major": 2,
       "version_minor": 0
      },
      "text/plain": [
       "FloatProgress(value=0.0, bar_style='info', description='Progress:', layout=Layout(height='25px', width='50%'),…"
      ]
     },
     "metadata": {},
     "output_type": "display_data"
    },
    {
     "name": "stdout",
     "output_type": "stream",
     "text": [
      "portsBroadcast: org.apache.spark.broadcast.Broadcast[scala.collection.Map[(Long, String),String]] = Broadcast(46)\n",
      "portsCountBroadcast: Array[((Long, String), Int, String)] = Array(((80,tcp),19529331,Hypertext Transfer Protocol (HTTP) uses TCP in versions 1.x and 2. HTTP/3 uses QUIC), ((80,udp),18964396,Hypertext Transfer Protocol (HTTP) uses TCP in versions 1.x and 2. HTTP/3 uses QUIC), ((53849,tcp),4,Certificate Management over CMS), ((53855,tcp),4,Certificate Management over CMS), ((6389,tcp),4,EMC CLARiiON), ((53850,tcp),4,Certificate Management over CMS), ((9030,tcp),4,Tor often used), ((4116,tcp),4,Smartcard-TLS), ((50271,tcp),4,Certificate Management over CMS), ((54089,tcp),3,Certificate Management over CMS), ((54142,tcp),3,Certificate Management over CMS), ((49734,tcp),3,Certificate Management over CMS), ((54094,tcp),3,Certificate Management over CMS), ((49778,tcp),3,Certificate Management o...\n"
     ]
    }
   ],
   "source": [
    "val portsBroadcast = sc.broadcast(portsDataset.map(d => ((d.port, d.protocol), d.description)).collectAsMap())\n",
    "\n",
    "val portsCountBroadcast = servicesDataset.\n",
    "    map { case (k, count) => portsBroadcast.value.get(k).map(desc => (k, count, desc)) }.\n",
    "    filter(_.isDefined).\n",
    "    map(_.get).\n",
    "    sortBy(_._2, ascending = false).\n",
    "    collect()"
   ]
  },
  {
   "cell_type": "markdown",
   "id": "80d31557-89bf-440a-929d-f77bdb3e10a2",
   "metadata": {},
   "source": [
    "Una prima tecnica di ottimizzazione prevede l'utilizzo della \"broadcast variable\".\n",
    "In particolare, abbiamo effettuato il _broadcast_ del dataset più piccolo, ovvero quello delle \"well-known ports\".\n",
    "\n",
    "È stato osservato che la query completa in circa 1 secondo, dimezzando il tempo impiegato con la _join_."
   ]
  },
  {
   "cell_type": "code",
   "execution_count": 37,
   "id": "357e8cf4-9ee0-4fb2-894f-fd369f4a2f66",
   "metadata": {
    "execution": {
     "iopub.execute_input": "2022-06-24T08:41:28.563670Z",
     "iopub.status.busy": "2022-06-24T08:41:28.563412Z",
     "iopub.status.idle": "2022-06-24T08:41:29.870924Z",
     "shell.execute_reply": "2022-06-24T08:41:29.870180Z",
     "shell.execute_reply.started": "2022-06-24T08:41:28.563645Z"
    },
    "tags": []
   },
   "outputs": [
    {
     "data": {
      "application/vnd.jupyter.widget-view+json": {
       "model_id": "33246626ab40446098f869d4a4daeb1a",
       "version_major": 2,
       "version_minor": 0
      },
      "text/plain": [
       "VBox()"
      ]
     },
     "metadata": {},
     "output_type": "display_data"
    },
    {
     "data": {
      "application/vnd.jupyter.widget-view+json": {
       "model_id": "",
       "version_major": 2,
       "version_minor": 0
      },
      "text/plain": [
       "FloatProgress(value=0.0, bar_style='info', description='Progress:', layout=Layout(height='25px', width='50%'),…"
      ]
     },
     "metadata": {},
     "output_type": "display_data"
    },
    {
     "name": "stdout",
     "output_type": "stream",
     "text": [
      "portsCountHashPartition: Array[((Long, String), (Int, String))] = Array(((80,tcp),(19529331,Hypertext Transfer Protocol (HTTP) uses TCP in versions 1.x and 2. HTTP/3 uses QUIC)), ((80,udp),(18964396,Hypertext Transfer Protocol (HTTP) uses TCP in versions 1.x and 2. HTTP/3 uses QUIC)), ((9030,tcp),(4,Tor often used)), ((4116,tcp),(4,Smartcard-TLS)), ((6389,tcp),(4,EMC CLARiiON)), ((50271,tcp),(4,Certificate Management over CMS)), ((53849,tcp),(4,Certificate Management over CMS)), ((53855,tcp),(4,Certificate Management over CMS)), ((53850,tcp),(4,Certificate Management over CMS)), ((6260,tcp),(3,planet M.U.L.E.)), ((6347,tcp),(3,gnutella-rtr)), ((4444,tcp),(3,Xvfb X server virtual frame buffer service)), ((9043,tcp),(3,WebSphere Application Server Administration Console secure)), ((6201,t...\n"
     ]
    }
   ],
   "source": [
    "val portsCountHashPartition = \n",
    "    servicesDataset.\n",
    "        partitionBy(new HashPartitioner(12)).\n",
    "        join(portsDataset.map(d => ((d.port, d.protocol), d.description))).\n",
    "        sortBy(_._2, ascending = false).\n",
    "        collect()"
   ]
  },
  {
   "cell_type": "markdown",
   "id": "2fa2667e-ee22-4a24-88bc-076b9e1e83c8",
   "metadata": {},
   "source": [
    "Come secondo metodo di ottimizzazione, è stato scelto di ripartizionare il dataset più grande sfruttando un \"hash partitioner\".\n",
    "Sono stati fatti alcuni tentativi per trovare il valore ottimale di partizioni da assegnare all'\"hash partitioner\". Si è giunti alla conclusione che il valore che produce il risultato migliore è 12 partizioni, che corrispondono infatti a 2 macchine ognuna con 3 _core_ e per ogni _core_ 2 partizioni."
   ]
  },
  {
   "cell_type": "code",
   "execution_count": 38,
   "id": "87ae0bde-a876-473e-9723-a23524d6db88",
   "metadata": {
    "execution": {
     "iopub.execute_input": "2022-06-24T08:47:30.763715Z",
     "iopub.status.busy": "2022-06-24T08:47:30.763432Z",
     "iopub.status.idle": "2022-06-24T08:47:33.072147Z",
     "shell.execute_reply": "2022-06-24T08:47:33.071351Z",
     "shell.execute_reply.started": "2022-06-24T08:47:30.763688Z"
    }
   },
   "outputs": [
    {
     "data": {
      "application/vnd.jupyter.widget-view+json": {
       "model_id": "fdecbc69833747b487d964eac83d53ce",
       "version_major": 2,
       "version_minor": 0
      },
      "text/plain": [
       "VBox()"
      ]
     },
     "metadata": {},
     "output_type": "display_data"
    },
    {
     "data": {
      "application/vnd.jupyter.widget-view+json": {
       "model_id": "",
       "version_major": 2,
       "version_minor": 0
      },
      "text/plain": [
       "FloatProgress(value=0.0, bar_style='info', description='Progress:', layout=Layout(height='25px', width='50%'),…"
      ]
     },
     "metadata": {},
     "output_type": "display_data"
    },
    {
     "name": "stdout",
     "output_type": "stream",
     "text": [
      "partitioner: org.apache.spark.HashPartitioner = org.apache.spark.HashPartitioner@c\n",
      "portsCountHashPartition: Array[((Long, String), (Int, String))] = Array(((80,tcp),(19529331,Hypertext Transfer Protocol (HTTP) uses TCP in versions 1.x and 2. HTTP/3 uses QUIC)), ((80,udp),(18964396,Hypertext Transfer Protocol (HTTP) uses TCP in versions 1.x and 2. HTTP/3 uses QUIC)), ((9030,tcp),(4,Tor often used)), ((4116,tcp),(4,Smartcard-TLS)), ((6389,tcp),(4,EMC CLARiiON)), ((50271,tcp),(4,Certificate Management over CMS)), ((53849,tcp),(4,Certificate Management over CMS)), ((53850,tcp),(4,Certificate Management over CMS)), ((53855,tcp),(4,Certificate Management over CMS)), ((6260,tcp),(3,planet M.U.L.E.)), ((6347,tcp),(3,gnutella-rtr)), ((4444,tcp),(3,Xvfb X server virtual frame buffer service)), ((9043,tcp),(3,WebSphere Application Server Administration Console secure)), ((6201,t...\n"
     ]
    }
   ],
   "source": [
    "val partitioner = new HashPartitioner(12)\n",
    "\n",
    "val portsCountHashPartition = \n",
    "    servicesDataset.\n",
    "        partitionBy(partitioner).\n",
    "        join(portsDataset.map(d => ((d.port, d.protocol), d.description)).partitionBy(partitioner)).\n",
    "        sortBy(_._2, ascending = false).\n",
    "        collect()"
   ]
  },
  {
   "cell_type": "markdown",
   "id": "79437320-0e1b-44c5-a5e8-0b86374b4857",
   "metadata": {},
   "source": [
    "Partizionare entrambi i dataset con lo stesso _partitioner_ non porta ad alcun vantaggio rispetto a partizionare solo il più grande."
   ]
  },
  {
   "cell_type": "code",
   "execution_count": 39,
   "id": "6e928958-b056-4f2f-9a58-016acf2aa338",
   "metadata": {
    "execution": {
     "iopub.execute_input": "2022-06-24T08:49:22.768876Z",
     "iopub.status.busy": "2022-06-24T08:49:22.768645Z",
     "iopub.status.idle": "2022-06-24T08:49:25.066209Z",
     "shell.execute_reply": "2022-06-24T08:49:25.065592Z",
     "shell.execute_reply.started": "2022-06-24T08:49:22.768852Z"
    },
    "tags": []
   },
   "outputs": [
    {
     "data": {
      "application/vnd.jupyter.widget-view+json": {
       "model_id": "bf04b3b6b7ff4ed79bc50c1486d607fc",
       "version_major": 2,
       "version_minor": 0
      },
      "text/plain": [
       "VBox()"
      ]
     },
     "metadata": {},
     "output_type": "display_data"
    },
    {
     "data": {
      "application/vnd.jupyter.widget-view+json": {
       "model_id": "",
       "version_major": 2,
       "version_minor": 0
      },
      "text/plain": [
       "FloatProgress(value=0.0, bar_style='info', description='Progress:', layout=Layout(height='25px', width='50%'),…"
      ]
     },
     "metadata": {},
     "output_type": "display_data"
    },
    {
     "name": "stdout",
     "output_type": "stream",
     "text": [
      "totalPortsCount: Int = 38504055\n",
      "| Service  | Description | Total records | Percentage |\n",
      "|----------|-------------|---------------|------------|\n",
      "| 80 - tcp | Hypertext Transfer Protocol (HTTP) uses TCP in versions 1.x and 2. HTTP/3 uses QUIC | 19529331      | 50.72%     |\n",
      "| 80 - udp | Hypertext Transfer Protocol (HTTP) uses TCP in versions 1.x and 2. HTTP/3 uses QUIC | 18964396      | 49.25%     |\n",
      "| Other    | N/A         | 10328         | 0.02%      |\n"
     ]
    }
   ],
   "source": [
    "val totalPortsCount = portsCountJoin.map(_._2._1).reduce(_ + _)\n",
    "\n",
    "println(\"| Service  | Description | Total records | Percentage |\")\n",
    "println(\"|----------|-------------|---------------|------------|\")\n",
    "(portsCountByJoin.\n",
    "    take(2).\n",
    "    map { case ((port, protocol), (count, desc)) => \n",
    "        (s\"$port - $protocol\", f\"$desc%-11s\", f\"$count%-13d\", f\"${(count.toDouble / totalPortsCount * 100).toString.substring(0, 5) + \"%\" }%-10s\")\n",
    "    }.\n",
    "    toSeq :+ \n",
    "    (\n",
    "        \"Other   \", \n",
    "        \"N/A        \", \n",
    "        f\"${totalPortsCount - portsCountJoin.take(2).map(_._2._1).sum}%-13d\", \n",
    "        f\"${((totalPortsCount - portsCountJoin.take(2).map(_._2._1).sum).toDouble / totalPortsCount * 100).toString.substring(0, 4) + \"%\"}%-10s\")\n",
    "    ).\n",
    "    foreach(t => println(s\"| ${t._1} | ${t._2} | ${t._3} | ${t._4} |\"))"
   ]
  },
  {
   "cell_type": "markdown",
   "id": "d778eef0-434a-40dc-8b5e-a13360f50087",
   "metadata": {},
   "source": [
    "Questa query ci ha permesso di capire che il servizio esposto sulla porta 80, un server HTTP, è quello maggiormente attaccato. Per questo motivo, tutto il traffico che arriva a quella specifica porta sarà trattato con maggiore attenzione."
   ]
  },
  {
   "cell_type": "markdown",
   "id": "f223021d-1de6-46da-854a-73f54eb9278b",
   "metadata": {},
   "source": [
    "<div align=\"center\">\n",
    "    <img src=\"images/ports-chart.png\" width=\"500\"/>\n",
    "</div>"
   ]
  },
  {
   "cell_type": "markdown",
   "id": "434ef8a3-9896-421e-a589-72e24051b86d",
   "metadata": {
    "tags": []
   },
   "source": [
    "### Quantità di traffico DDoS in byte rispetto al totale"
   ]
  },
  {
   "cell_type": "markdown",
   "id": "7ab8a370-e1ab-4f82-a248-89e71af0fc68",
   "metadata": {},
   "source": [
    "Con questa _query_ si voglioni identificare quali sono gli indirizzi IP che ricevono più traffico legato ad attacchi DDoS, calcolato come numero totale di _bytes_ trasmessi nella connessione. Dopodiché si vuole controntare il traffico DDoS rispetto al traffico totale che quegli indirizzi IP hanno ricevuto."
   ]
  },
  {
   "cell_type": "code",
   "execution_count": 41,
   "id": "7a9e6d0a-a7da-4140-aa34-7906dce0851a",
   "metadata": {
    "execution": {
     "iopub.execute_input": "2022-06-24T09:04:52.191717Z",
     "iopub.status.busy": "2022-06-24T09:04:52.191352Z",
     "iopub.status.idle": "2022-06-24T09:05:09.550640Z",
     "shell.execute_reply": "2022-06-24T09:05:09.549879Z",
     "shell.execute_reply.started": "2022-06-24T09:04:52.191673Z"
    },
    "tags": []
   },
   "outputs": [
    {
     "data": {
      "application/vnd.jupyter.widget-view+json": {
       "model_id": "ba61450f0e5b407e944447316f464bf6",
       "version_major": 2,
       "version_minor": 0
      },
      "text/plain": [
       "VBox()"
      ]
     },
     "metadata": {},
     "output_type": "display_data"
    },
    {
     "data": {
      "application/vnd.jupyter.widget-view+json": {
       "model_id": "",
       "version_major": 2,
       "version_minor": 0
      },
      "text/plain": [
       "FloatProgress(value=0.0, bar_style='info', description='Progress:', layout=Layout(height='25px', width='50%'),…"
      ]
     },
     "metadata": {},
     "output_type": "display_data"
    },
    {
     "name": "stdout",
     "output_type": "stream",
     "text": [
      "ddosTrafficByIP: scala.collection.immutable.Map[String,Double] = Map(192.168.100.148 -> 7457.1875, 192.168.100.5 -> 5259153.908203125, 192.168.100.7 -> 3382470.841796875, 192.168.100.3 -> 8999801.200195312, 192.168.100.6 -> 2398495.455078125)\n"
     ]
    }
   ],
   "source": [
    "val ddosTrafficByIP =\n",
    "    recordDataset.\n",
    "    filter(_.isDDoS).\n",
    "    map(r => (r.destinationAddress, r.bytes)).\n",
    "    reduceByKey(_ + _).\n",
    "    map { case (ip, traffic) => (ip, traffic / 1024.0) }.\n",
    "    sortBy(_._2, ascending = false).\n",
    "    take(5).\n",
    "    toMap"
   ]
  },
  {
   "cell_type": "markdown",
   "id": "83a71f16-bcb1-46f9-8710-24d151a27fe8",
   "metadata": {},
   "source": [
    "La _query_ prende in input l'intero _dataset_ e produce in output una mappa che associa ad ogni indirizzo IP la quantità di _bytes_ del traffico DDoS subito.\n",
    "\n",
    "La _query_ prende in input 10.6GB di dati e completa mediamente in 15 secondi.\n",
    "\n",
    "La _query_ trattiene i _record_ che appartengono ad attacchi DDoS e dopodiché trattiene le sole colonne che contengono l'IP della destinazione del traffico e la quantità di _bytes_ ricevuti. Per ogni IP vengono sommati i _bytes_ del traffico ricevuto determinando quello totale per ogni IP. Infine l'unità di misura del traffico viene trasformata in KB e poi quest'ultimo ordinato in senso decrescente. Per una migliore visualizzazione dei risultati vengono presi i primi 5 IP che hanno subito il maggior traffico."
   ]
  },
  {
   "cell_type": "code",
   "execution_count": 42,
   "id": "19bc42cf-1967-404d-a6b3-75c421f48e6c",
   "metadata": {
    "execution": {
     "iopub.execute_input": "2022-06-24T09:10:51.964197Z",
     "iopub.status.busy": "2022-06-24T09:10:51.963951Z",
     "iopub.status.idle": "2022-06-24T09:11:09.304700Z",
     "shell.execute_reply": "2022-06-24T09:11:09.304004Z",
     "shell.execute_reply.started": "2022-06-24T09:10:51.964173Z"
    }
   },
   "outputs": [
    {
     "data": {
      "application/vnd.jupyter.widget-view+json": {
       "model_id": "db4129e122a34f0c930355ad5a42ade9",
       "version_major": 2,
       "version_minor": 0
      },
      "text/plain": [
       "VBox()"
      ]
     },
     "metadata": {},
     "output_type": "display_data"
    },
    {
     "data": {
      "application/vnd.jupyter.widget-view+json": {
       "model_id": "",
       "version_major": 2,
       "version_minor": 0
      },
      "text/plain": [
       "FloatProgress(value=0.0, bar_style='info', description='Progress:', layout=Layout(height='25px', width='50%'),…"
      ]
     },
     "metadata": {},
     "output_type": "display_data"
    },
    {
     "name": "stdout",
     "output_type": "stream",
     "text": [
      "trafficByIP: scala.collection.immutable.Map[String,Double] = Map(184.85.248.65 -> 0.3251953125, 34.213.81.108 -> 12.1943359375, 192.168.100.148 -> 7457.1875, 192.5.5.241 -> 1.259765625, 192.168.100.1 -> 1.9775390625, 96.7.49.66 -> 0.3251953125, 224.0.0.251 -> 0.46875, 192.168.100.255 -> 10.640625, 172.217.25.170 -> 13.1513671875, 192.168.100.147 -> 4621.00390625, 192.36.148.17 -> 4.90234375, 116.206.80.123 -> 0.87890625, ff02::fb -> 0.52734375, 116.206.83.243 -> 1.0546875, 192.168.100.46 -> 275956.6396484375, 192.33.14.30 -> 7.7900390625, 192.168.100.5 -> 7079893.10546875, 192.168.100.55 -> 329540.4853515625, 216.239.36.10 -> 0.5888671875, 193.108.91.240 -> 0.3251953125, 205.251.196.236 -> 1.2275390625, 27.124.125.251 -> 0.52734375, 202.12.27.33 -> 2.4404296875, 192.168.100.7 -> 3382470...\n"
     ]
    }
   ],
   "source": [
    "val totalTrafficByIP =\n",
    "    recordDataset.\n",
    "    map(r => (r.destinationAddress, r.bytes)).\n",
    "    reduceByKey(_ + _).\n",
    "    map { case (ip, traffic) => (ip, traffic / 1024.0) }.\n",
    "    collectAsMap()"
   ]
  },
  {
   "cell_type": "markdown",
   "id": "2cc57871-1344-465c-95c3-c1ead3ce7ec8",
   "metadata": {},
   "source": [
    "La _query_ prende in input l'intero _dataset_ e produce in output una mappa che associa ad ogni indirizzo IP la quantità di _bytes_ del traffico totale ricevuto.\n",
    "\n",
    "La _query_ prende in input 10.6GB di dati e completa mediamente in 15 secondi.\n",
    "\n",
    "La _query_ trattiene le sole colonne che contengono l'IP della destinazione del traffico e la quantità di _bytes_ ricevuti. Per ogni IP vengono sommati i _bytes_ del traffico ricevuto determinando quello totale per ogni IP. Infine l'unità di misura del traffico viene trasformata in KB e poi quest'ultimo ordinato in senso decrescente."
   ]
  },
  {
   "cell_type": "code",
   "execution_count": 43,
   "id": "28fc87b8-bf9e-48ff-92d8-a226216f9cbe",
   "metadata": {
    "execution": {
     "iopub.execute_input": "2022-06-24T09:25:04.500201Z",
     "iopub.status.busy": "2022-06-24T09:25:04.499974Z",
     "iopub.status.idle": "2022-06-24T09:25:05.267684Z",
     "shell.execute_reply": "2022-06-24T09:25:05.267028Z",
     "shell.execute_reply.started": "2022-06-24T09:25:04.500177Z"
    }
   },
   "outputs": [
    {
     "data": {
      "application/vnd.jupyter.widget-view+json": {
       "model_id": "ff80b1903a1e468095443454fbf93c1d",
       "version_major": 2,
       "version_minor": 0
      },
      "text/plain": [
       "VBox()"
      ]
     },
     "metadata": {},
     "output_type": "display_data"
    },
    {
     "data": {
      "application/vnd.jupyter.widget-view+json": {
       "model_id": "",
       "version_major": 2,
       "version_minor": 0
      },
      "text/plain": [
       "FloatProgress(value=0.0, bar_style='info', description='Progress:', layout=Layout(height='25px', width='50%'),…"
      ]
     },
     "metadata": {},
     "output_type": "display_data"
    },
    {
     "name": "stdout",
     "output_type": "stream",
     "text": [
      "trafficByIPCached: org.apache.spark.rdd.RDD[(String, Boolean, Double)] = MapPartitionsRDD[225] at map at <console>:37\n"
     ]
    }
   ],
   "source": [
    "val trafficByIPCached =\n",
    "    recordDataset.\n",
    "    map(r => ((r.destinationAddress, r.isDDoS), r.bytes)).\n",
    "    reduceByKey(_ + _).\n",
    "    map { case ((ip, ddos), traffic) => (ip, ddos, traffic / 1024.0) }.\n",
    "    persist(StorageLevel.MEMORY_AND_DISK)"
   ]
  },
  {
   "cell_type": "code",
   "execution_count": 49,
   "id": "07dad730-81f9-4ea3-bbf4-d3f3546e9e12",
   "metadata": {
    "execution": {
     "iopub.execute_input": "2022-06-24T09:29:02.068928Z",
     "iopub.status.busy": "2022-06-24T09:29:02.068696Z",
     "iopub.status.idle": "2022-06-24T09:29:02.844457Z",
     "shell.execute_reply": "2022-06-24T09:29:02.843743Z",
     "shell.execute_reply.started": "2022-06-24T09:29:02.068905Z"
    },
    "tags": []
   },
   "outputs": [
    {
     "data": {
      "application/vnd.jupyter.widget-view+json": {
       "model_id": "a6752700d2834b4ab78900762c902308",
       "version_major": 2,
       "version_minor": 0
      },
      "text/plain": [
       "VBox()"
      ]
     },
     "metadata": {},
     "output_type": "display_data"
    },
    {
     "data": {
      "application/vnd.jupyter.widget-view+json": {
       "model_id": "",
       "version_major": 2,
       "version_minor": 0
      },
      "text/plain": [
       "FloatProgress(value=0.0, bar_style='info', description='Progress:', layout=Layout(height='25px', width='50%'),…"
      ]
     },
     "metadata": {},
     "output_type": "display_data"
    },
    {
     "name": "stdout",
     "output_type": "stream",
     "text": [
      "ddosTrafficByIpCache: scala.collection.immutable.Map[String,Double] = Map(192.168.100.148 -> 7457.1875, 192.168.100.5 -> 5259153.908203125, 192.168.100.7 -> 3382470.841796875, 192.168.100.3 -> 8999801.200195312, 192.168.100.6 -> 2398495.455078125)\n"
     ]
    }
   ],
   "source": [
    "val ddosTrafficByIpCache = trafficByIPCached.\n",
    "    filter(_._2).\n",
    "    map(r => (r._1, r._3)).\n",
    "    reduceByKey(_ + _).\n",
    "    sortBy(_._2, ascending = false).\n",
    "    take(5).\n",
    "    toMap"
   ]
  },
  {
   "cell_type": "code",
   "execution_count": 50,
   "id": "2025968a-9b32-4fdd-ba2c-ae419add7718",
   "metadata": {
    "execution": {
     "iopub.execute_input": "2022-06-24T09:29:05.454764Z",
     "iopub.status.busy": "2022-06-24T09:29:05.454537Z",
     "iopub.status.idle": "2022-06-24T09:29:06.734291Z",
     "shell.execute_reply": "2022-06-24T09:29:06.733568Z",
     "shell.execute_reply.started": "2022-06-24T09:29:05.454739Z"
    },
    "tags": []
   },
   "outputs": [
    {
     "data": {
      "application/vnd.jupyter.widget-view+json": {
       "model_id": "2b0509154ee34524b9adec4bbf241f82",
       "version_major": 2,
       "version_minor": 0
      },
      "text/plain": [
       "VBox()"
      ]
     },
     "metadata": {},
     "output_type": "display_data"
    },
    {
     "data": {
      "application/vnd.jupyter.widget-view+json": {
       "model_id": "",
       "version_major": 2,
       "version_minor": 0
      },
      "text/plain": [
       "FloatProgress(value=0.0, bar_style='info', description='Progress:', layout=Layout(height='25px', width='50%'),…"
      ]
     },
     "metadata": {},
     "output_type": "display_data"
    },
    {
     "name": "stdout",
     "output_type": "stream",
     "text": [
      "totalTrafficByIpCache: scala.collection.Map[String,Double] = Map(199.7.83.42 -> 5.2666015625, 35.162.156.78 -> 5.759765625, ff02::fb -> 0.52734375, 192.168.100.147 -> 4621.00390625, 192.168.100.255 -> 10.640625, 172.217.25.170 -> 13.1513671875, 27.124.125.251 -> 0.52734375, 52.64.239.193 -> 2313.1181640625, 192.33.14.30 -> 7.7900390625, 192.168.100.150 -> 6951.62109375, 224.0.0.251 -> 0.46875, 96.7.49.66 -> 0.3251953125, 192.168.100.7 -> 3382470.841796875, 116.206.83.243 -> 1.0546875, 192.168.100.1 -> 1.9775390625, 192.36.148.17 -> 4.90234375, 216.58.199.42 -> 8.5849609375, 216.239.36.10 -> 0.5888671875, 184.85.248.65 -> 0.3251953125, 192.168.100.149 -> 6829.556640625, 192.168.100.46 -> 275956.6396484375, 192.168.100.3 -> 1.0039371459960938E7, 192.168.100.55 -> 329540.4853515625, 116.20...\n"
     ]
    }
   ],
   "source": [
    "val totalTrafficByIpCache = trafficByIPCached.\n",
    "    map(r => (r._1, r._3)).\n",
    "    reduceByKey(_ + _).\n",
    "    collectAsMap()"
   ]
  },
  {
   "cell_type": "markdown",
   "id": "b843fa2d-06ec-42e9-8da6-1eac69031ae1",
   "metadata": {},
   "source": [
    "Per ottimizzare questa query, essendo composta da due sotto _query_ le cui operazioni iniziali sono molto simili, è stato deciso di impiegare il meccanismo di _caching_ sulla parte comune delle operazioni. Questo ha implicato riscrivere leggermente entrambe le _query_, aumentando il numero di operazioni che compiono complessivamente ma è stato giustificato dal risparmio di tempo ottenuto. Se infatti la prima _query_ esegue comunque in 15 secondi, la seconda esegue in 0.3 secondi, dimezzando i tempi complessivi di esecuzione.\n",
    "\n",
    "Senza contare il tempo necessario per il _caching_, entrambe le _query_ concludono in 0.8 secondi."
   ]
  },
  {
   "cell_type": "code",
   "execution_count": 51,
   "id": "e42716a5-7ae3-4b7d-acdc-60687404df61",
   "metadata": {
    "execution": {
     "iopub.execute_input": "2022-06-24T09:34:03.793883Z",
     "iopub.status.busy": "2022-06-24T09:34:03.793645Z",
     "iopub.status.idle": "2022-06-24T09:34:04.567043Z",
     "shell.execute_reply": "2022-06-24T09:34:04.566347Z",
     "shell.execute_reply.started": "2022-06-24T09:34:03.793859Z"
    },
    "tags": []
   },
   "outputs": [
    {
     "data": {
      "application/vnd.jupyter.widget-view+json": {
       "model_id": "a04cc10c8d6348ee91c77f3402eef10a",
       "version_major": 2,
       "version_minor": 0
      },
      "text/plain": [
       "VBox()"
      ]
     },
     "metadata": {},
     "output_type": "display_data"
    },
    {
     "data": {
      "application/vnd.jupyter.widget-view+json": {
       "model_id": "",
       "version_major": 2,
       "version_minor": 0
      },
      "text/plain": [
       "FloatProgress(value=0.0, bar_style='info', description='Progress:', layout=Layout(height='25px', width='50%'),…"
      ]
     },
     "metadata": {},
     "output_type": "display_data"
    },
    {
     "name": "stdout",
     "output_type": "stream",
     "text": [
      "totalImportantTraffic: scala.collection.immutable.Map[String,Double] = Map(192.168.100.148 -> 7457.1875, 192.168.100.5 -> 7079893.10546875, 192.168.100.7 -> 3382470.841796875, 192.168.100.3 -> 1.0039371459960938E7, 192.168.100.6 -> 2398495.455078125)\n",
      "totalImportantTrafficSorted: Seq[(String, Double)] = Vector((192.168.100.148,7457.1875), (192.168.100.3,1.0039371459960938E7), (192.168.100.5,7079893.10546875), (192.168.100.6,2398495.455078125), (192.168.100.7,3382470.841796875))\n",
      "ddosTrafficSorted: Seq[(String, Double)] = Vector((192.168.100.148,7457.1875), (192.168.100.3,8999801.200195312), (192.168.100.5,5259153.908203125), (192.168.100.6,2398495.455078125), (192.168.100.7,3382470.841796875))\n"
     ]
    }
   ],
   "source": [
    "val totalImportantTraffic = trafficByIP.filterKeys(ddosTrafficByIP.keySet(_))\n",
    "val totalImportantTrafficSorted = totalImportantTraffic.toSeq.sortBy(_._1)\n",
    "val ddosTrafficSorted = ddosTrafficByIP.toSeq.sortBy(_._1)"
   ]
  },
  {
   "cell_type": "markdown",
   "id": "120c2bfb-0aa6-4f36-9360-c80b68e1d20b",
   "metadata": {},
   "source": [
    "La query ci ha permesso di osservare che gli IP `192.168.100.3`, `192.168.100.6` e `192.168.100.7` sono quelli soggetti al maggior traffico DDoS in relazione al traffico totale, quindi quelli maggiormente attaccati."
   ]
  },
  {
   "cell_type": "markdown",
   "id": "7807f4c9-a587-4625-9603-d2469e990b1a",
   "metadata": {},
   "source": [
    "<div align=\"center\">\n",
    "    <img src=\"images/ddos-traffic.png\" width=\"500\"/>\n",
    "</div>"
   ]
  },
  {
   "cell_type": "markdown",
   "id": "1b2c30a7-6f24-41ee-b69a-e49db468bbae",
   "metadata": {},
   "source": [
    "### Calcolo delle distribuzioni delle frequenze di invio di pacchetti e bytes per flusso"
   ]
  },
  {
   "cell_type": "markdown",
   "id": "ad285f34-4fe8-4151-aa8b-f303cdc2a292",
   "metadata": {},
   "source": [
    "In questa _query_ si è voluta calcolare la distribuzione di due parametri non presenti nel dataset che sono: la frequenza media di invio dei pacchetti per un flusso e la frequenza media di invio di bytes per un flusso. Per flusso intendiamo un raggruppamento di record identificati da: IP e porta sorgente, IP e porta destinazione e protocollo."
   ]
  },
  {
   "cell_type": "code",
   "execution_count": 60,
   "id": "ff3ce2d2-18b5-488c-86ef-12268c00474b",
   "metadata": {
    "execution": {
     "iopub.execute_input": "2022-06-24T10:11:40.671595Z",
     "iopub.status.busy": "2022-06-24T10:11:40.671241Z",
     "iopub.status.idle": "2022-06-24T10:11:41.485300Z",
     "shell.execute_reply": "2022-06-24T10:11:41.484564Z",
     "shell.execute_reply.started": "2022-06-24T10:11:40.671555Z"
    }
   },
   "outputs": [
    {
     "data": {
      "application/vnd.jupyter.widget-view+json": {
       "model_id": "d1961a4e2a3c4aa2b59912cba9597b39",
       "version_major": 2,
       "version_minor": 0
      },
      "text/plain": [
       "VBox()"
      ]
     },
     "metadata": {},
     "output_type": "display_data"
    },
    {
     "data": {
      "application/vnd.jupyter.widget-view+json": {
       "model_id": "",
       "version_major": 2,
       "version_minor": 0
      },
      "text/plain": [
       "FloatProgress(value=0.0, bar_style='info', description='Progress:', layout=Layout(height='25px', width='50%'),…"
      ]
     },
     "metadata": {},
     "output_type": "display_data"
    },
    {
     "name": "stdout",
     "output_type": "stream",
     "text": [
      "flowsDataset: org.apache.spark.rdd.RDD[(Boolean, Double, Double)] = MapPartitionsRDD[272] at map at <console>:45\n"
     ]
    }
   ],
   "source": [
    "val flowsDataset =\n",
    "    recordDataset.\n",
    "    filter(_.duration > 0.0).\n",
    "    map(r =>\n",
    "      (\n",
    "        (r.sourceAddress, r.sourcePort, r.destinationAddress, r.destinationPort, r.protocol),\n",
    "        (r.isDDoS, r.duration, r.packets, r.bytes),\n",
    "      ),\n",
    "    ).\n",
    "    reduceByKey { case ((isDDoS1, duration1, packets1, bytes1), (isDDoS2, duration2, packets2, bytes2)) =>\n",
    "      (isDDoS1 || isDDoS2, duration1 + duration2, packets1 + packets2, bytes1 + bytes2)\n",
    "    }.\n",
    "    map { case (_, (isDDoS, duration, packets, bytes)) => (isDDoS, packets / duration, bytes / duration) }"
   ]
  },
  {
   "cell_type": "markdown",
   "id": "f586b7fb-1902-4221-ad6c-c44303c71e81",
   "metadata": {},
   "source": [
    "Entrambe le _query_ hanno una parte iniziale in comune dove vengolo eliminate tutte le righe dove la durata è pari a 0 e dopodiché vengono trasformate in una coppia chiave-valore dove la chiave è costituita dalle colonne che identificano un flusso e il valore è costituito invece dalle colonne che saranno utili successivamente, ovvero: se il record è un DDoS o meno, la durata del record, il numero di pacchetti scambiati e il numero di _byte_ trasferiti. Dopodiché vengono sommate per ciascun flusso i valori delle ultime tre colonne e uniti tramite OR logico i valori della prima colonna, che saranno uguali per ciascun flusso. Infine, vengono trasformati i valori in modo tale da ottenere un dataset composto da tre colonne dove la prima indica se la prima da parte di un attacco DDoS o meno, la seconda è la frequenza media di pacchetti e la terza è la frequenza di _byte_ media."
   ]
  },
  {
   "cell_type": "code",
   "execution_count": 63,
   "id": "c51ed9e1-e2f2-46b4-8966-3fb95c0a1504",
   "metadata": {
    "execution": {
     "iopub.execute_input": "2022-06-24T10:35:02.141278Z",
     "iopub.status.busy": "2022-06-24T10:35:02.141042Z",
     "iopub.status.idle": "2022-06-24T10:35:31.496844Z",
     "shell.execute_reply": "2022-06-24T10:35:31.496146Z",
     "shell.execute_reply.started": "2022-06-24T10:35:02.141253Z"
    },
    "tags": []
   },
   "outputs": [
    {
     "data": {
      "application/vnd.jupyter.widget-view+json": {
       "model_id": "6a8f388ab6124514b951612beaef2656",
       "version_major": 2,
       "version_minor": 0
      },
      "text/plain": [
       "VBox()"
      ]
     },
     "metadata": {},
     "output_type": "display_data"
    },
    {
     "data": {
      "application/vnd.jupyter.widget-view+json": {
       "model_id": "",
       "version_major": 2,
       "version_minor": 0
      },
      "text/plain": [
       "FloatProgress(value=0.0, bar_style='info', description='Progress:', layout=Layout(height='25px', width='50%'),…"
      ]
     },
     "metadata": {},
     "output_type": "display_data"
    },
    {
     "name": "stdout",
     "output_type": "stream",
     "text": [
      "ddosPacketsRateSum: Double = 584305.5830716969\n",
      "ddosBytesRateSum: Double = 5.646841374913517E7\n",
      "ddosCount: Int = 2132236\n",
      "legitPacketsRateSum: Double = 31059.85973989538\n",
      "legitBytesRateSum: Double = 5124031.632252166\n",
      "legitCount: Int = 89\n",
      "ddosPacketsRateMean: Double = 0.27403419840566284\n",
      "ddosBytesRateMean: Double = 26.483191236399332\n",
      "legitPacketsRateMean: Double = 348.9871880887121\n",
      "legitBytesRateMean: Double = 57573.38912642883\n"
     ]
    }
   ],
   "source": [
    "val (ddosPacketsRateSum, ddosBytesRateSum, ddosCount, legitPacketsRateSum, legitBytesRateSum, legitCount) =\n",
    "    flowsDataset.\n",
    "    map { case (isDDoS, packetsRate, bytesRate) =>\n",
    "      if (isDDoS) (packetsRate, bytesRate, 1, 0.0, 0.0, 0) else (0.0, 0.0, 0, packetsRate, bytesRate, 1)\n",
    "    }.\n",
    "    reduce { \n",
    "      case(\n",
    "        (ddosPacketsRate1, ddosBytesRate1, ddosCount1, legitPacketsRate1, legitBytesRate1, legitCount1), \n",
    "        (ddosPacketsRate2, ddosBytesRate2, ddosCount2, legitPacketsRate2, legitBytesRate2, legitCount2)\n",
    "      ) => (\n",
    "        ddosPacketsRate1 + ddosPacketsRate2, \n",
    "        ddosBytesRate1 + ddosBytesRate2, \n",
    "        ddosCount1 + ddosCount2, \n",
    "        legitPacketsRate1 + legitPacketsRate2, \n",
    "        legitBytesRate1 + legitBytesRate2,\n",
    "        legitCount1 + legitCount2\n",
    "      )  \n",
    "    }\n",
    "\n",
    "val ddosPacketsRateMean = ddosPacketsRateSum / ddosCount\n",
    "val ddosBytesRateMean = ddosBytesRateSum / ddosCount\n",
    "val legitPacketsRateMean = legitPacketsRateSum / legitCount\n",
    "val legitBytesRateMean = legitBytesRateSum / legitCount"
   ]
  },
  {
   "cell_type": "markdown",
   "id": "32ea1b02-1d9b-40e3-b155-2be2049d3583",
   "metadata": {},
   "source": [
    "Questa _query_ prende in input l'intero dataset e produce un dataset composto di sei colonne: le prime tre sono la frequenza media dei pacchetti per i flussi DDoS, la frequenza media di _byte_ per i flussi DDoS e il numero di flussi DDoS. Le ultime tre colonne rappresentano gli campi ma per il flussi legittimi.\n",
    "\n",
    "Questa _query_ prende in input 10.6GB di dati e completa mediamente in 26 secondi.\n",
    "Questa _query_ prende il dataset intermedio costruito in precedenza e lo trasforma in un tupla a sei valori dove se il flusso è DDoS i valori della riga saranno copiati nei primi due campi della tupla, il terzo posto a uno e gli ultimi tre posti a zero, viceversa se il flusso è legittimo. Infine viene effettuata una operazione di somma tra tutte le colonne. Questo permette di ottenere le somme e i conteggi per le due variabili di interesse sia per attacchi DDoS che traffico legittimo consentendo quindi di calcolare i valori medi."
   ]
  },
  {
   "cell_type": "code",
   "execution_count": 64,
   "id": "f20d2c49-9aa3-490f-82d6-7ec5039cac07",
   "metadata": {
    "execution": {
     "iopub.execute_input": "2022-06-24T10:36:43.811279Z",
     "iopub.status.busy": "2022-06-24T10:36:43.811060Z",
     "iopub.status.idle": "2022-06-24T10:37:13.171861Z",
     "shell.execute_reply": "2022-06-24T10:37:13.171117Z",
     "shell.execute_reply.started": "2022-06-24T10:36:43.811256Z"
    }
   },
   "outputs": [
    {
     "data": {
      "application/vnd.jupyter.widget-view+json": {
       "model_id": "f9d93e2bef6c407b9465ae7760d14a53",
       "version_major": 2,
       "version_minor": 0
      },
      "text/plain": [
       "VBox()"
      ]
     },
     "metadata": {},
     "output_type": "display_data"
    },
    {
     "data": {
      "application/vnd.jupyter.widget-view+json": {
       "model_id": "",
       "version_major": 2,
       "version_minor": 0
      },
      "text/plain": [
       "FloatProgress(value=0.0, bar_style='info', description='Progress:', layout=Layout(height='25px', width='50%'),…"
      ]
     },
     "metadata": {},
     "output_type": "display_data"
    },
    {
     "name": "stdout",
     "output_type": "stream",
     "text": [
      "ddosPacketsRateMeanBroadcast: org.apache.spark.broadcast.Broadcast[Double] = Broadcast(143)\n",
      "ddosBytesRateMeanBroadcast: org.apache.spark.broadcast.Broadcast[Double] = Broadcast(144)\n",
      "legitPacketsRateMeanBroadcast: org.apache.spark.broadcast.Broadcast[Double] = Broadcast(145)\n",
      "legitBytesRateMeanBroadcast: org.apache.spark.broadcast.Broadcast[Double] = Broadcast(146)\n",
      "ddosPacketsRateDiff: Double = 51875.596473357786\n",
      "ddosBytesRateDiff: Double = 4.5501268453884375E8\n",
      "legitPacketsRateDiff: Double = 1.009591234256591E8\n",
      "legitBytesRateDiff: Double = 1.2827464729662332E12\n",
      "ddosPacketsRateStdDev: Double = 0.15597820418003489\n",
      "ddosBytesRateStdDev: Double = 14.608112880857707\n",
      "legitPacketsRateStdDev: Double = 1065.0690932150892\n",
      "legitBytesRateStdDev: Double = 120053.66182970731\n"
     ]
    }
   ],
   "source": [
    "val ddosPacketsRateMeanBroadcast = sc.broadcast(ddosPacketsRateMean)\n",
    "val ddosBytesRateMeanBroadcast = sc.broadcast(ddosBytesRateMean)\n",
    "val legitPacketsRateMeanBroadcast = sc.broadcast(legitPacketsRateMean)\n",
    "val legitBytesRateMeanBroadcast = sc.broadcast(legitBytesRateMean)\n",
    "\n",
    "val (ddosPacketsRateDiff, ddosBytesRateDiff, legitPacketsRateDiff, legitBytesRateDiff) =\n",
    "    flowsDataset.\n",
    "    map { case (isDDoS, packetsRate, bytesRate) =>\n",
    "      if (isDDoS)\n",
    "        (\n",
    "         math.pow(packetsRate - ddosPacketsRateMeanBroadcast.value, 2),\n",
    "         math.pow(bytesRate - ddosBytesRateMeanBroadcast.value, 2),\n",
    "         0.0,\n",
    "         0.0,\n",
    "        )\n",
    "      else\n",
    "        (\n",
    "         0.0,\n",
    "         0.0,\n",
    "         math.pow(packetsRate - legitPacketsRateMeanBroadcast.value, 2),\n",
    "         math.pow(bytesRate - legitBytesRateMeanBroadcast.value, 2),\n",
    "        )\n",
    "    }.\n",
    "    reduce {\n",
    "      case(\n",
    "        (ddosPacketsRateDiff1, ddosBytesRateDiff1, legitPacketsRateDiff1, legitBytesRateDiff1),\n",
    "        (ddosPacketsRateDiff2, ddosBytesRateDiff2, legitPacketsRateDiff2, legitBytesRateDiff2)\n",
    "      ) => (\n",
    "        ddosPacketsRateDiff1 + ddosPacketsRateDiff2,\n",
    "        ddosBytesRateDiff1 + ddosBytesRateDiff2,\n",
    "        legitPacketsRateDiff1 + legitPacketsRateDiff2,\n",
    "        legitBytesRateDiff1 + legitBytesRateDiff2\n",
    "      )\n",
    "    }\n",
    "\n",
    "val ddosPacketsRateStdDev = math.sqrt(ddosPacketsRateDiff / ddosCount)\n",
    "val ddosBytesRateStdDev = math.sqrt(ddosBytesRateDiff / ddosCount)\n",
    "val legitPacketsRateStdDev = math.sqrt(legitPacketsRateDiff / legitCount)\n",
    "val legitBytesRateStdDev = math.sqrt(legitBytesRateDiff / legitCount)"
   ]
  },
  {
   "cell_type": "markdown",
   "id": "c9bf7efb-dfe3-49bd-b7b0-8b0bf2505ac5",
   "metadata": {},
   "source": [
    "Questa _query_ prende in input l'intero dataset e produce un dataset composto di quattro colonne: le prime due sono rispettivamente le somme delle differenze al quadrato tra la frequenza di pacchetti in un flusso DDoS e la frequenza dei byte in un flusso DDoS e le loro medie, mentre le seconde due sono gli stessi campi ma per i flussi legittimi.\n",
    "\n",
    "Questa _query_ prende in input 10.6GB di dati e completa mediamente in 26 secondi.\n",
    "Questa _query_ prende il dataset intermedio costruito in precedenza e lo trasforma in un tupla a quattro valori dove se il flusso è DDoS la differenza al quadrato tra i valori della riga e le loro medie saranno copiati nei primi due campi della tupla, viceversa se il flusso è legittimo. Infine viene effettuata una operazione di somma tra tutte le colonne. Questo permette di ottenere le somme per le due variabili di interesse sia per attacchi DDoS che traffico legittimo consentendo quindi di calcolare le deviazioni standard."
   ]
  },
  {
   "cell_type": "markdown",
   "id": "e9c56144-4f72-4b5d-89b1-89df5fdf4a1e",
   "metadata": {},
   "source": [
    "Con i valori calcolati sono state costruite le distribuizioni gaussiane delle frequenze dei pacchetti per flusso e dei byte per flusso, sia per quelli DDoS che quelli legittimi.\n",
    "\n",
    "Si può osservare che il traffico DDoS ha una frequenza di pacchetti relativamente bassa, attorno a 0.27 pacchetti al secondo, mentre invece il traffico legittimo ha una frequenza di pacchetti che si aggira mediamente attorno ai 350 pacchetti al secondo. Essendo la varianza per il traffico leggittimo molto più elevata, ciò indica che c'è maggiore incertezza sul valore che la media rappresenta, poiché il traffico legittimo è ragionevole che sia maggiormente eterogeneo.\n",
    "\n",
    "Discorso analogo si può fare per quanto riguarda la frequenza dei _byte_ è mediamente di 26 _byte_ al secondo per i flussi DDoS, mentre è mediamente di 57573 _bytes_ al secondo per i flussi legittimi.\n",
    "\n",
    "Abbiamo tenuto conto di queste informazioni per calcolare un valore nella nostra metrica che indica un determinato flusso come DDoS tanto più quanto si avvicina ai valori medi qui trovati perché quelli inerenti al traffico legittimo sono troppo distribuiti per essere considerati significativi. "
   ]
  },
  {
   "cell_type": "markdown",
   "id": "886b23bb-c752-46a8-affa-c0dce6a7cf98",
   "metadata": {},
   "source": [
    "<div align=\"center\">\n",
    "    <div>\n",
    "        <img src=\"images/ddos-flow-packets-rate.png\" width=\"40%\"/>\n",
    "        <img src=\"images/legit-flow-packets-rate.png\" width=\"40%\"/>\n",
    "    </div>\n",
    "    <div>\n",
    "        <img src=\"images/ddos-flow-bytes-rate.png\" width=\"40%\"/>\n",
    "        <img src=\"images/legit-flow-bytes-rate.png\" width=\"500\"/>\n",
    "    </div>\n",
    "</div>"
   ]
  },
  {
   "cell_type": "markdown",
   "id": "8e472687-0e06-492e-9ec1-05b176fd690c",
   "metadata": {},
   "source": [
    "## Statistiche temporali su attacchi "
   ]
  },
  {
   "cell_type": "markdown",
   "id": "541b7ec0-95c7-4a98-a4fa-b7d375342f2c",
   "metadata": {},
   "source": [
    "Questa _query_ si da come obiettivo quello di estrapolare l'arco temporale all'interno del quale sono stati condotti gli attacchi DDoS."
   ]
  },
  {
   "cell_type": "code",
   "execution_count": 53,
   "id": "4bc90d00-e1e9-4c11-90f1-1a95574b4f1b",
   "metadata": {
    "execution": {
     "iopub.execute_input": "2022-06-24T09:40:13.378870Z",
     "iopub.status.busy": "2022-06-24T09:40:13.378642Z",
     "iopub.status.idle": "2022-06-24T09:40:28.715869Z",
     "shell.execute_reply": "2022-06-24T09:40:28.714960Z",
     "shell.execute_reply.started": "2022-06-24T09:40:13.378845Z"
    },
    "tags": []
   },
   "outputs": [
    {
     "data": {
      "application/vnd.jupyter.widget-view+json": {
       "model_id": "8b3587634a9e42a7976d7ffe52ccfcda",
       "version_major": 2,
       "version_minor": 0
      },
      "text/plain": [
       "VBox()"
      ]
     },
     "metadata": {},
     "output_type": "display_data"
    },
    {
     "data": {
      "application/vnd.jupyter.widget-view+json": {
       "model_id": "",
       "version_major": 2,
       "version_minor": 0
      },
      "text/plain": [
       "FloatProgress(value=0.0, bar_style='info', description='Progress:', layout=Layout(height='25px', width='50%'),…"
      ]
     },
     "metadata": {},
     "output_type": "display_data"
    },
    {
     "name": "stdout",
     "output_type": "stream",
     "text": [
      "minDate: (date1: java.time.LocalDateTime, date2: java.time.LocalDateTime)java.time.LocalDateTime\n",
      "maxDate: (date1: java.time.LocalDateTime, date2: java.time.LocalDateTime)java.time.LocalDateTime\n",
      "minMaxDate: (java.time.LocalDateTime, java.time.LocalDateTime) = (2018-06-04T09:22:59.512,2018-06-04T07:02:01.762)\n"
     ]
    }
   ],
   "source": [
    "def minDate(date1: LocalDateTime, date2: LocalDateTime): LocalDateTime = {\n",
    "    if (date1.isBefore(date2)) date1 else date2\n",
    "}\n",
    "\n",
    "def maxDate(date1: LocalDateTime, date2: LocalDateTime): LocalDateTime = {\n",
    "    if (date1.isAfter(date2)) date1 else date2\n",
    "}\n",
    "\n",
    "val minMaxDate = recordDataset.filter(_.isDDoS).map(r => (r.startTime, r.startTime)).reduce {\n",
    "    case ((accMax, accMin), (r1, r2)) => (maxDate(accMax, r1), minDate(accMin, r2))\n",
    "}"
   ]
  },
  {
   "cell_type": "markdown",
   "id": "f780d757-ae07-4003-a550-2e551ca7ce06",
   "metadata": {
    "jp-MarkdownHeadingCollapsed": true,
    "tags": []
   },
   "source": [
    "Questa _query_ prende in input l'intero dataset e restituisce una coppia di valori che rappresentano il _timestamp_ più piccolo di inizio di un attacco e il _timestamp_ più grande di inizio di un attacco.\n",
    "\n",
    "La _query_ prende in input 10.6GB di dati e completa mediamente in 14 secondi.\n",
    "La _query_ trattiene solamente i _record_ che appartengono a un attacco DDoS e trasforma ciascuno di essi in una coppia di valori che rappresentano l'inizio dell'attacco. Infine viene calcolato il valore minimo e massimo di quei due valori attraverso una operazione di _reduce_."
   ]
  },
  {
   "cell_type": "code",
   "execution_count": 54,
   "id": "0f5ae35a-05cc-4c2e-b245-272a4bce42cd",
   "metadata": {
    "execution": {
     "iopub.execute_input": "2022-06-24T09:46:36.005964Z",
     "iopub.status.busy": "2022-06-24T09:46:36.005727Z",
     "iopub.status.idle": "2022-06-24T09:46:51.330857Z",
     "shell.execute_reply": "2022-06-24T09:46:51.330011Z",
     "shell.execute_reply.started": "2022-06-24T09:46:36.005938Z"
    }
   },
   "outputs": [
    {
     "data": {
      "application/vnd.jupyter.widget-view+json": {
       "model_id": "347c1b1cf0704b29a31c05418a7a6d52",
       "version_major": 2,
       "version_minor": 0
      },
      "text/plain": [
       "VBox()"
      ]
     },
     "metadata": {},
     "output_type": "display_data"
    },
    {
     "data": {
      "application/vnd.jupyter.widget-view+json": {
       "model_id": "",
       "version_major": 2,
       "version_minor": 0
      },
      "text/plain": [
       "FloatProgress(value=0.0, bar_style='info', description='Progress:', layout=Layout(height='25px', width='50%'),…"
      ]
     },
     "metadata": {},
     "output_type": "display_data"
    },
    {
     "name": "stdout",
     "output_type": "stream",
     "text": [
      "minMaxDate: (java.time.LocalDateTime, java.time.LocalDateTime) = (2018-06-04T09:22:59.512,2018-06-04T07:02:01.762)\n"
     ]
    }
   ],
   "source": [
    "val minMaxDate = recordDataset.\n",
    "    filter(_.isDDoS).\n",
    "    coalesce(12).\n",
    "    map(r => (r.startTime, r.startTime)).\n",
    "    reduce {\n",
    "        case ((accMax, accMin), (r1, r2)) => (maxDate(accMax, r1), minDate(accMin, r2))\n",
    "    }"
   ]
  },
  {
   "cell_type": "markdown",
   "id": "afac771d-d5c6-47c3-ae6f-9e3c4dd80690",
   "metadata": {
    "execution": {
     "iopub.execute_input": "2022-06-24T09:48:07.839479Z",
     "iopub.status.busy": "2022-06-24T09:48:07.839117Z",
     "iopub.status.idle": "2022-06-24T09:48:08.129787Z",
     "shell.execute_reply": "2022-06-24T09:48:08.128778Z",
     "shell.execute_reply.started": "2022-06-24T09:48:07.839441Z"
    }
   },
   "source": [
    "Come ottimizzazione è stato tentata la riduzione del numero di partizioni a 12, ma non c'è stato un miglioramento delle prestazioni. Per questo motivo si è rinunciato ad ulteriori ottimizzazioni vista la semplicità della query."
   ]
  },
  {
   "cell_type": "code",
   "execution_count": 56,
   "id": "4e6c2d2d-9751-428f-8495-3f2797c16baf",
   "metadata": {
    "execution": {
     "iopub.execute_input": "2022-06-24T09:48:16.726051Z",
     "iopub.status.busy": "2022-06-24T09:48:16.725829Z",
     "iopub.status.idle": "2022-06-24T09:48:17.489994Z",
     "shell.execute_reply": "2022-06-24T09:48:17.489379Z",
     "shell.execute_reply.started": "2022-06-24T09:48:16.726028Z"
    },
    "tags": []
   },
   "outputs": [
    {
     "data": {
      "application/vnd.jupyter.widget-view+json": {
       "model_id": "bc1b89f0dbce4d21a1f36190d2da7bbf",
       "version_major": 2,
       "version_minor": 0
      },
      "text/plain": [
       "VBox()"
      ]
     },
     "metadata": {},
     "output_type": "display_data"
    },
    {
     "data": {
      "application/vnd.jupyter.widget-view+json": {
       "model_id": "",
       "version_major": 2,
       "version_minor": 0
      },
      "text/plain": [
       "FloatProgress(value=0.0, bar_style='info', description='Progress:', layout=Layout(height='25px', width='50%'),…"
      ]
     },
     "metadata": {},
     "output_type": "display_data"
    },
    {
     "name": "stdout",
     "output_type": "stream",
     "text": [
      "startTime: java.time.LocalDateTime = 2018-06-04T07:02:01.762\n",
      "endTime: java.time.LocalDateTime = 2018-06-04T09:22:59.512\n"
     ]
    }
   ],
   "source": [
    "val startTime = minMaxDate._2\n",
    "val endTime = minMaxDate._1"
   ]
  },
  {
   "cell_type": "markdown",
   "id": "74e74b46-83ae-4293-b869-cb738780bbcd",
   "metadata": {},
   "source": [
    "Come si può osservare dai risultati precedenti, la distanza temporale tra il primo e l'ultimo attacco è di circa 2.30h. Da questo risultato è stato derivato il fatto che non è possibile estrapolare ulteriori informazioni utili dai _timestamp_."
   ]
  },
  {
   "cell_type": "markdown",
   "id": "7dac10ef-f7bd-499b-b73d-bd8f816fd89b",
   "metadata": {},
   "source": [
    "### Statistiche d'ordine e distribuzione delle variabili \"packets\", \"bytes\", \"rate\" e \"byteRate\""
   ]
  },
  {
   "cell_type": "markdown",
   "id": "7c5a50ee-0047-4d8c-8d88-c798a73cb22f",
   "metadata": {
    "tags": []
   },
   "source": [
    "# INSERIRE DESCRIZIONE QUI"
   ]
  },
  {
   "cell_type": "code",
   "execution_count": 65,
   "id": "2641d996-cf67-4938-a66e-7bba11a4fd7e",
   "metadata": {
    "execution": {
     "iopub.execute_input": "2022-06-24T11:01:01.594889Z",
     "iopub.status.busy": "2022-06-24T11:01:01.594563Z",
     "iopub.status.idle": "2022-06-24T11:01:02.380209Z",
     "shell.execute_reply": "2022-06-24T11:01:02.379533Z",
     "shell.execute_reply.started": "2022-06-24T11:01:01.594850Z"
    }
   },
   "outputs": [
    {
     "data": {
      "application/vnd.jupyter.widget-view+json": {
       "model_id": "aa32bb6f50ed4b60a5969c4eafccff42",
       "version_major": 2,
       "version_minor": 0
      },
      "text/plain": [
       "VBox()"
      ]
     },
     "metadata": {},
     "output_type": "display_data"
    },
    {
     "data": {
      "application/vnd.jupyter.widget-view+json": {
       "model_id": "",
       "version_major": 2,
       "version_minor": 0
      },
      "text/plain": [
       "FloatProgress(value=0.0, bar_style='info', description='Progress:', layout=Layout(height='25px', width='50%'),…"
      ]
     },
     "metadata": {},
     "output_type": "display_data"
    },
    {
     "name": "stdout",
     "output_type": "stream",
     "text": [
      "defined class Quartiles\n",
      "defined class Gaussian\n"
     ]
    }
   ],
   "source": [
    "case class Quartiles[T: Numeric](min: T, firstQuartile: T, secondQuartile: T, thirdQuartile: T, max: T)\n",
    "\n",
    "case class Gaussian(mean: Double, stdDev: Double)"
   ]
  },
  {
   "cell_type": "markdown",
   "id": "8f544591-9023-4335-a62f-95996917633f",
   "metadata": {},
   "source": []
  },
  {
   "cell_type": "code",
   "execution_count": 30,
   "id": "11a8c46b-1564-4433-a4dd-c79d44803f7c",
   "metadata": {
    "execution": {
     "iopub.execute_input": "2022-06-23T13:29:45.662067Z",
     "iopub.status.busy": "2022-06-23T13:29:45.661834Z",
     "iopub.status.idle": "2022-06-23T13:29:46.441656Z",
     "shell.execute_reply": "2022-06-23T13:29:46.441017Z",
     "shell.execute_reply.started": "2022-06-23T13:29:45.662043Z"
    },
    "tags": []
   },
   "outputs": [
    {
     "data": {
      "application/vnd.jupyter.widget-view+json": {
       "model_id": "dddb25a57271406bb4d2d122a1f498f8",
       "version_major": 2,
       "version_minor": 0
      },
      "text/plain": [
       "VBox()"
      ]
     },
     "metadata": {},
     "output_type": "display_data"
    },
    {
     "data": {
      "application/vnd.jupyter.widget-view+json": {
       "model_id": "",
       "version_major": 2,
       "version_minor": 0
      },
      "text/plain": [
       "FloatProgress(value=0.0, bar_style='info', description='Progress:', layout=Layout(height='25px', width='50%'),…"
      ]
     },
     "metadata": {},
     "output_type": "display_data"
    },
    {
     "name": "stdout",
     "output_type": "stream",
     "text": [
      "getStatistics: [T](dataset: org.apache.spark.rdd.RDD[T])(implicit evidence$1: Numeric[T], implicit evidence$2: Ordering[T], implicit evidence$3: scala.reflect.ClassTag[T])Quartiles[T]\n",
      "getGaussian: [T](sc: org.apache.spark.SparkContext, rdd: org.apache.spark.rdd.RDD[T])(implicit evidence$1: Numeric[T])Gaussian\n",
      "cleanByIQR: [T](sc: org.apache.spark.SparkContext, rdd: org.apache.spark.rdd.RDD[T], quartiles: Quartiles[T])(implicit evidence$1: Numeric[T], implicit evidence$2: Ordering[T])org.apache.spark.rdd.RDD[T]\n"
     ]
    }
   ],
   "source": [
    "def getStatistics[T: Numeric: Ordering: ClassTag](dataset: RDD[T]): Quartiles[T] = {\n",
    "    val size = dataset.count()\n",
    "    val quartiles = \n",
    "        dataset.\n",
    "            sortBy(v => v).\n",
    "            zipWithIndex().\n",
    "            filter { case (_, index) =>\n",
    "                index == 0 || index == size / 4 || index == size / 2 || index == size * 3 / 4 || index == size - 1\n",
    "            }.\n",
    "            collect()\n",
    "    quartiles.sortBy(_._2).map(_._1) match {\n",
    "      case Array(min, first, second, third, max) => Quartiles(min, first, second, third, max)\n",
    "    }\n",
    "  }\n",
    "\n",
    "def getGaussian[T: Numeric](sc: SparkContext, rdd: RDD[T]): Gaussian = {\n",
    "    val (sum, count) = rdd.map(r => (r, 1)).reduce{ case((sum1, count1), (sum2, count2)) => (sum1 + sum2, count1 + count2) }\n",
    "    val mean = sum.toDouble() / count\n",
    "    val meanBroadcast = sc.broadcast(mean)\n",
    "\n",
    "    val stdDev = math.sqrt(rdd.map(r => math.pow(r.toDouble() - meanBroadcast.value, 2)).sum() / count)\n",
    "    Gaussian(mean, stdDev)\n",
    "}\n",
    "\n",
    "def cleanByIQR[T: Numeric: Ordering](sc: SparkContext, rdd: RDD[T], quartiles: Quartiles[T]): RDD[T] = {\n",
    "    val rangeBroadcast = sc.broadcast(\n",
    "        (\n",
    "            quartiles.firstQuartile.toDouble() - 1.5 * (quartiles.thirdQuartile - quartiles.firstQuartile).toDouble(),\n",
    "            quartiles.thirdQuartile.toDouble() + 1.5 * (quartiles.thirdQuartile - quartiles.firstQuartile).toDouble(),\n",
    "        ),\n",
    "    )\n",
    "    rdd.filter(r => r.toDouble() > rangeBroadcast.value._1 && r.toDouble() < rangeBroadcast.value._2)\n",
    "}"
   ]
  },
  {
   "cell_type": "markdown",
   "id": "5edba34a-b4e9-40f0-b328-d73119fb02f2",
   "metadata": {},
   "source": [
    "# INSERIRE SPIEGAZIONE QUI"
   ]
  },
  {
   "cell_type": "code",
   "execution_count": 31,
   "id": "e4eb3c05-d99c-4b25-aaa8-2e38ce63c313",
   "metadata": {
    "execution": {
     "iopub.execute_input": "2022-06-23T13:29:51.166988Z",
     "iopub.status.busy": "2022-06-23T13:29:51.166771Z",
     "iopub.status.idle": "2022-06-23T14:30:03.930401Z",
     "shell.execute_reply": "2022-06-23T14:30:03.929811Z",
     "shell.execute_reply.started": "2022-06-23T13:29:51.166964Z"
    }
   },
   "outputs": [
    {
     "data": {
      "application/vnd.jupyter.widget-view+json": {
       "model_id": "a1a6e2b38c2446488afd7b9496fd627b",
       "version_major": 2,
       "version_minor": 0
      },
      "text/plain": [
       "VBox()"
      ]
     },
     "metadata": {},
     "output_type": "display_data"
    },
    {
     "data": {
      "application/vnd.jupyter.widget-view+json": {
       "model_id": "703467f33a944f9b8ef8091fdbd87d9c",
       "version_major": 2,
       "version_minor": 0
      },
      "text/plain": [
       "FloatProgress(value=0.0, bar_style='info', description='Progress:', layout=Layout(height='25px', width='50%'),…"
      ]
     },
     "metadata": {},
     "output_type": "display_data"
    },
    {
     "name": "stderr",
     "output_type": "stream",
     "text": [
      "An error was encountered:\n",
      "Invalid status code '404' from http://localhost:8998/sessions/1/statements/30 with error payload: {\"msg\":\"Session '1' not found.\"}\n"
     ]
    }
   ],
   "source": [
    "val ddosDataset = recordDataset.filter(_.isDDoS).cache()\n",
    "val legitDataset = recordDataset.filter(!_.isDDoS).cache()"
   ]
  },
  {
   "cell_type": "code",
   "execution_count": null,
   "id": "738a41c8-1f16-4c49-b7b6-f142ed174ee3",
   "metadata": {},
   "outputs": [],
   "source": [
    "val packetsDDoS = ddosDataset.map(_.packets)\n",
    "val packetsLegit = legitDataset.map(_.packets)\n",
    "val bytesDDoS = ddosDataset.map(_.bytes)\n",
    "val bytesLegit = legitDataset.map(_.bytes)\n",
    "val rateDDoS = ddosDataset.map(_.rate)\n",
    "val rateLegit = legitDataset.map(_.rate)\n",
    "val bytesRateDDoS = ddosDataset.map(r => r.bytes / r.duration)\n",
    "val bytesRateLegit = legitDataset.map(r => r.bytes / r.duration)"
   ]
  },
  {
   "cell_type": "code",
   "execution_count": null,
   "id": "cba8cfe7-d97c-475e-b643-193869170578",
   "metadata": {},
   "outputs": [],
   "source": [
    "val packetQuartileDDoS = getStatistics(packetsDDoS)\n",
    "val packetQuartileLegit = getStatistics(packetsLegit)\n",
    "val bytesQuartileDDoS = getStatistics(bytesDDoS)\n",
    "val bytesQuartileLegit = getStatistics(bytesLegit)\n",
    "val rateQuartileDDoS = getStatistics(rateDDoS)\n",
    "val rateQuartileLegit = getStatistics(rateLegit)\n",
    "val bytesRateQuartileDDoS = getStatistics(bytesRateDDoS)\n",
    "val bytesRateQuartileLegit = getStatistics(bytesRateLegit)"
   ]
  },
  {
   "cell_type": "code",
   "execution_count": null,
   "id": "489e0401-bd13-425b-a194-6f8f4e1a8d2b",
   "metadata": {},
   "outputs": [],
   "source": [
    "val packetDDoSGaussian = getGaussian(sc, cleanByIQR(sc, packetsDDoS, packetQuartileDDoS))\n",
    "val packetLegitGaussian = getGaussian(sc, cleanByIQR(sc, packetsLegit, packetQuartileLegit))\n",
    "val bytesQuartileDDoSGaussian = getGaussian(sc, cleanByIQR(sc, bytesDDoS, bytesQuartileDDoS))\n",
    "val bytesQuartileLegitGaussian = getGaussian(sc, cleanByIQR(sc, bytesLegit, bytesQuartileLegit))\n",
    "val rateDDoSGaussian = getGaussian(sc, cleanByIQR(sc, rateDDoS, rateQuartileDDoS))\n",
    "val rateLegitGaussian = getGaussian(sc, cleanByIQR(sc, rateLegit, rateQuartileLegit))\n",
    "val bytesRateDDoSGaussian = getGaussian(sc, cleanByIQR(sc, bytesRateDDoS, bytesRateQuartileDDoS))\n",
    "val bytesRateLegitGaussian = getGaussian(sc, cleanByIQR(sc, bytesRateLegit, bytesRateQuartileLegit))"
   ]
  },
  {
   "cell_type": "markdown",
   "id": "1b5e1f5a-9800-4570-bac2-7a5d27844e97",
   "metadata": {},
   "source": [
    "# INSERIRE COMMENTO QUI"
   ]
  },
  {
   "cell_type": "markdown",
   "id": "4a3d4abf-c3b1-410e-91f8-d45f6f164d30",
   "metadata": {},
   "source": [
    "<div align=\"center\">\n",
    "    <div>\n",
    "        <img src=\"images/packets-ddos.png\" width=\"40%\"/>\n",
    "        <img src=\"images/packets-legit.png\" width=\"40%\"/>\n",
    "    </div>\n",
    "    <div>\n",
    "        <img src=\"images/bytes-ddos.png\" width=\"40%\"/>\n",
    "        <img src=\"images/bytes-legit.png\" width=\"40%\"/>\n",
    "    </div>\n",
    "    <div>\n",
    "        <img src=\"images/rates-ddos.png\" width=\"40%\"/>\n",
    "        <img src=\"images/rates-legit.png\" width=\"40%\"/>\n",
    "    </div>\n",
    "    <div>\n",
    "        <img src=\"images/bytesRate-ddos.png\" width=\"40%\"/>\n",
    "        <img src=\"images/bytesRate-legit.png\" width=\"40%\"/>\n",
    "    </div>\n",
    "</div>"
   ]
  },
  {
   "cell_type": "markdown",
   "id": "176e7ab6-d13e-47f6-a895-f7fa74b23141",
   "metadata": {},
   "source": [
    "## Costruzione della metrica"
   ]
  }
 ],
 "metadata": {
  "kernelspec": {
   "display_name": "Spark",
   "language": "",
   "name": "sparkkernel"
  },
  "language_info": {
   "codemirror_mode": "text/x-scala",
   "mimetype": "text/x-scala",
   "name": "scala",
   "pygments_lexer": "scala"
  }
 },
 "nbformat": 4,
 "nbformat_minor": 5
}
