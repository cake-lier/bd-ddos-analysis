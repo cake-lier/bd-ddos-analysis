{
 "cells": [
  {
   "cell_type": "markdown",
   "id": "4468a763-ee2d-4e4a-8eb1-1fd9e6dac8d8",
   "metadata": {},
   "source": [
    "# DDoS dataset analysis"
   ]
  },
  {
   "cell_type": "markdown",
   "id": "060d8283-69b8-4a27-921c-bf3052e0daea",
   "metadata": {},
   "source": [
    "L'obiettivo di questo progetto è analizzare un _dataset_ contenente informazioni relative sia ad attacchi DDoS che a normale traffico.\n",
    "Questo per poter realizzare un'applicazione capace di distinguere il traffico sospetto da quello legittimo e poter quindi tempestivamente bloccare i tentativi di attacco."
   ]
  },
  {
   "cell_type": "markdown",
   "id": "031bc6ff-2d80-4ff3-a487-82dabbb6c93b",
   "metadata": {
    "execution": {
     "iopub.execute_input": "2022-06-17T09:34:21.907675Z",
     "iopub.status.busy": "2022-06-17T09:34:21.907419Z"
    },
    "tags": []
   },
   "source": [
    "## Descrizione del dataset"
   ]
  },
  {
   "cell_type": "markdown",
   "id": "e496dcb9",
   "metadata": {},
   "source": [
    "Il _dataset_ è stato tratto da un _paper_ realizzato dalla \"University of New South Wales\", in Australia.\n",
    "Il _paper_ è stato pubblicato su [Science Direct](https://www.sciencedirect.com/science/article/abs/pii/S0167739X18327687) ed è disponibile su [ResearchGate](https://www.researchgate.net/publication/328736466_Towards_the_Development_of_Realistic_Botnet_Dataset_in_the_Internet_of_Things_for_Network_Forensic_Analytics_Bot-IoT_Dataset) in _preprint_.\n",
    "Come è scritto nello stesso, l'obiettivo del _paper_ era la realizzazione del _dataset_ stesso, rispettando le condizioni di massimo realismo possibile del traffico generato e della configurazione dell'ambiente in cui gli attacchi simulati sono stati svolti.\n",
    "\n",
    "Il _paper_ indica anche il fatto che sono stati generate diverse tipologie di attacco, ma noi considereremo solamente quelle inerenti agli attacchi di tipo \"Distributed Denial of Service\", o \"DDoS\" in breve.\n",
    "Il _software_ utilizzato per effettuare le catture dei pacchetti è stato [Argus](https://openargus.org/), la cui documentazione, nonché i suoi [esempi d'uso](https://openargus.org/using-argus), indicano come sono costruiti i _record_ che l'applicazione salva nel momento nel quale viene fatta una cattura di rete.\n",
    "\n",
    "Ogni _record_ è il risultato di un raggruppamento di più pacchetti che svolgono la stessa funzione all'interno di una specifica connessione, o _flow_.\n",
    "Ad esempio, un _record_ può contenere i pacchetti utilizzati dal protocollo \"TCP\" per effettuare l'_handshake_ con un'altro nodo di rete, il corpo della trasmissione, oppure la chiusura finale.\n",
    "Per questo motivo ogni _record_, oltre a contenere informazioni capaci di identificare sorgente e destinazione della connessione, contengono anche dati derivanti dall'aggregazione sulle informazioni di più pacchetti.\n",
    "Infine, dacché è possibile risalire dai _record_ alle singole connessioni, così come esplicitato nel _paper_ stesso, sono presenti anche già informazioni di aggregazione su alcuni parametri tra più record, informazioni che ci aspettiamo siano replicate uguali tra tutti i _record_ coinvolti.\n",
    "\n",
    "Il sito in cui il _dataset_ è stato pubblicato è [questo](https://research.unsw.edu.au/projects/bot-iot-dataset), mentre il _download_ diretto dei file può essere fatto dalla [cartella](https://cloudstor.aarnet.edu.au/plus/s/umT99TnxvbpkkoE?path=%2FLabelling) di un servizio _cloud_ della UNSW.\n",
    "Purtroppo, non è possibile effettuare il _download_ diretto dei file.\n",
    "I _file_ che sono stati utilizzati in questo progetto sono quelli denominati \"DDoS_HTTP.csv\", \"DDoS_TCP.csv\" e \"DDoS_UDP.csv\"."
   ]
  },
  {
   "cell_type": "markdown",
   "id": "fcf05e9c-8bdf-4444-a221-fc4a00eebaf0",
   "metadata": {},
   "source": [
    "### Descrizione dei file"
   ]
  },
  {
   "cell_type": "markdown",
   "id": "09614887-84fa-43db-84a7-a90dab519609",
   "metadata": {},
   "source": [
    "I tre _file_ che sono stati utilizzati contengono tre diverse sotto-categorie di attacchi, ovvero attacchi che inviano messaggi \"HTTP\", segmenti \"TCP\" e datagrammi \"UDP\".\n",
    "Non siamo interessati a tenere conto di questa distinzione, tanto più che tutti e tre i _file_ essendo stati generati dallo stesso _tool_, possiedono lo stesso formato, \"CSV\", e gli stessi campi.\n",
    "\n",
    "I campi presenti in ciascun file sono i seguenti:\n",
    "\n",
    "* \"stime\": la data e l'ora di ricezione del primo pacchetto del _record_\n",
    "* \"flgs\": le _flag_ dello stato della connessione presenti nei pacchetti del _record_\n",
    "* \"proto\": il protocollo di livello di rete utilizzato dai pacchetti del _record_\n",
    "* \"saddr\": l'indirizzo IP dell'interfaccia sorgente dei pacchetti del _record_\n",
    "* \"sport\": la porta dell'interfaccia sorgente dei pacchetti del _record_\n",
    "* \"dir\": la direzione del flusso dati, da sorgente a destinazione, viceversa o bidirezionale\n",
    "* \"daddr\": l'indirizzo IP dell'interfaccia destinazione dei pacchetti del _record_\n",
    "* \"dport\": la porta dell'interfaccia destinazione dei pacchetti del _record_\n",
    "* \"pkts\": il numero di pacchetti aggregati dal _record_\n",
    "* \"bytes\": la somma dei _byte_ dei pacchetti aggregati\n",
    "* \"state\": lo stato della connessione per i pacchetti aggregati dal _record_\n",
    "* \"srcid\": l'identificatore usato dal _tool_ \"Argus\" per identificare la sorgente dati\n",
    "* \"ltime\": la data e l'ora di ricezione dell'ultimo pacchetto del _record_\n",
    "* \"seq\": il numero di sequenza che il _tool_ \"Argus\" ha assegnato al _record_\n",
    "* \"dur\": la durata totale del _record_ \n",
    "* \"mean\": la durata media dei _record_ aggregati\n",
    "* \"stddev\": la deviazione standard dei _record_ aggregati\n",
    "* \"smac\": l'indirizzo MAC della sorgente dei pacchetti del _record_\n",
    "* \"dmac\": l'indirizzo MAC della destinazione dei pacchetti del _record_\n",
    "* \"sum\": la somma delle durate dei _record_ aggregati\n",
    "* \"min\": il minimo delle durate dei _record_ aggregati_\n",
    "* \"max\": il massimo delle durate dei _record_ aggregati\n",
    "* \"soui\": lo \"Organizationally Unique Identifier\" dell'indirizzo MAC della sorgente dei pacchetti del _record_\n",
    "* \"doui\": lo \"Organizationally Unique Identifier\" dell'indirizzo MAC della destinazione dei pacchetti del _record_\n",
    "* \"sco\": il \"Country Code\" associato all'indirizzo IP della sorgente dei pacchetti nel _record_\n",
    "* \"dco\": il \"Country Code\" associato all'indirizzo IP della destinazione dei pacchetti nel _record_\n",
    "* \"spkts\": il numero di pacchetti inviati dalla sorgente alla destinazione in questo _record_\n",
    "* \"dpkts\": il numero di pacchetti inviati dalla destinazione alla sorgente in questo _record_\n",
    "* \"sbytes\": il numero di _byte_ inviati dalla sorgente alla destinazione in questo _record_\n",
    "* \"dbytes\": il numero di _byte_ inviati dalla destinazione alla sorgente in questo _record_\n",
    "* \"rate\": i pacchetti al secondo inviati in questo _record_\n",
    "* \"srate\": i pacchetti al secondo inviati dalla sorgente alla destinazione in questo _record_\n",
    "* \"drate\": i pacchetti al secondo inviati dalla destinazione alla sorgente in questo _record_\n",
    "* \"record\": questa feature non è spiegata all'interno del _paper_ né tantomeno nella documentazione di \"Argus\"\n",
    "* \"attack: se il _record_ è parte di un attacco o meno\n",
    "* \"category\": la categoria dell'attacco\n",
    "* \"subcategory\": la specifica sotto-categoria dell'attacco\n",
    "\n",
    "I campi che abbiamo utilizzato nell'analisi sono stati:\n",
    "\n",
    "* stime\n",
    "* proto\n",
    "* saddr\n",
    "* sport\n",
    "* dir\n",
    "* daddr\n",
    "* dport\n",
    "* ltime\n",
    "* dur\n",
    "* spkts\n",
    "* dpkts\n",
    "* sbytes\n",
    "* dbytes\n",
    "* srate\n",
    "* drate\n",
    "* attack"
   ]
  },
  {
   "cell_type": "markdown",
   "id": "608d3d1a",
   "metadata": {
    "tags": []
   },
   "source": [
    "## Preparazione dei dati"
   ]
  },
  {
   "cell_type": "markdown",
   "id": "23733544",
   "metadata": {},
   "source": [
    "Per effettuare la preparazione dei dati, innanzitutto configuriamo il _kernel_ Spark che utilizzeremo."
   ]
  },
  {
   "cell_type": "code",
   "execution_count": 1,
   "id": "c0bd4f15-fadb-4b4e-acc3-7d69545b82b7",
   "metadata": {
    "execution": {
     "iopub.execute_input": "2022-06-23T12:56:36.480569Z",
     "iopub.status.busy": "2022-06-23T12:56:36.480207Z",
     "iopub.status.idle": "2022-06-23T12:56:36.501082Z",
     "shell.execute_reply": "2022-06-23T12:56:36.500320Z",
     "shell.execute_reply.started": "2022-06-23T12:56:36.480528Z"
    },
    "tags": []
   },
   "outputs": [
    {
     "data": {
      "text/html": [
       "Current session configs: <tt>{'executorMemory': '8G', 'numExecutors': 2, 'executorCores': 3, 'conf': {'spark.dynamicAllocation.enabled': 'false'}, 'proxyUser': 'assumed-role_voclabs_user1847188_matteo_castellucci3_studio_unibo_it', 'kind': 'spark'}</tt><br>"
      ],
      "text/plain": [
       "<IPython.core.display.HTML object>"
      ]
     },
     "metadata": {},
     "output_type": "display_data"
    },
    {
     "data": {
      "text/html": [
       "No active sessions."
      ],
      "text/plain": [
       "<IPython.core.display.HTML object>"
      ]
     },
     "metadata": {},
     "output_type": "display_data"
    }
   ],
   "source": [
    "%%configure -f\n",
    "{\n",
    "    \"executorMemory\": \"8G\", \n",
    "    \"numExecutors\": 2, \n",
    "    \"executorCores\": 3, \n",
    "    \"conf\": {\n",
    "        \"spark.dynamicAllocation.enabled\": \"false\"\n",
    "    }\n",
    "}"
   ]
  },
  {
   "cell_type": "markdown",
   "id": "14e6c9eb",
   "metadata": {},
   "source": [
    "Dopodiché, definiamo i percorsi dei file che utilizzeremo così come sono stati salvati sul servizio \"Amazon S3\" ed avviamo una nuova applicazione Spark."
   ]
  },
  {
   "cell_type": "code",
   "execution_count": 3,
   "id": "9a0f0c12-591e-41de-a0b6-c76c7c035176",
   "metadata": {
    "execution": {
     "iopub.execute_input": "2022-06-23T12:57:20.617358Z",
     "iopub.status.busy": "2022-06-23T12:57:20.617130Z",
     "iopub.status.idle": "2022-06-23T12:57:22.934990Z",
     "shell.execute_reply": "2022-06-23T12:57:22.934286Z",
     "shell.execute_reply.started": "2022-06-23T12:57:20.617334Z"
    },
    "tags": []
   },
   "outputs": [
    {
     "data": {
      "application/vnd.jupyter.widget-view+json": {
       "model_id": "cda22817251445c4adb7e8a0e22276b9",
       "version_major": 2,
       "version_minor": 0
      },
      "text/plain": [
       "VBox()"
      ]
     },
     "metadata": {},
     "output_type": "display_data"
    },
    {
     "data": {
      "application/vnd.jupyter.widget-view+json": {
       "model_id": "",
       "version_major": 2,
       "version_minor": 0
      },
      "text/plain": [
       "FloatProgress(value=0.0, bar_style='info', description='Progress:', layout=Layout(height='25px', width='50%'),…"
      ]
     },
     "metadata": {},
     "output_type": "display_data"
    },
    {
     "name": "stdout",
     "output_type": "stream",
     "text": [
      "bucketName: String = unibo-bd2122-mcastellucci/project\n",
      "pathTCPDataset: String = s3a://unibo-bd2122-mcastellucci/project/DDoS_TCP.csv\n",
      "pathUDPDataset: String = s3a://unibo-bd2122-mcastellucci/project/DDoS_UDP.csv\n",
      "pathHTTPDataset: String = s3a://unibo-bd2122-mcastellucci/project/DDoS_HTTP.csv\n",
      "pathPortsDataset: String = s3a://unibo-bd2122-mcastellucci/project/ports.csv\n",
      "res7: String = SPARK UI: Enable forwarding of port 20888 and connect to http://localhost:20888/proxy/application_1655987121598_0003/\n"
     ]
    }
   ],
   "source": [
    "//val bucketName = \"unibo-bd2122-nfarabegoli/ddos\"\n",
    "//val bucketName = \"unibo-bd2122-mcastellucci/project\"\n",
    "\n",
    "val pathTCPDataset = s\"s3a://$bucketName/DDoS_TCP.csv\"\n",
    "val pathUDPDataset = s\"s3a://$bucketName/DDoS_UDP.csv\"\n",
    "val pathHTTPDataset = s\"s3a://$bucketName/DDoS_HTTP.csv\"\n",
    "val pathPortsDataset = s\"s3a://$bucketName/ports.csv\"\n",
    "\n",
    "\"SPARK UI: Enable forwarding of port 20888 and connect to http://localhost:20888/proxy/\" + sc.applicationId + \"/\""
   ]
  },
  {
   "cell_type": "markdown",
   "id": "6306a6ed",
   "metadata": {},
   "source": [
    "A questo punto è possibile costruire l'RDD per intero, in modo tale che contenga i dati di tutti e tre i file che ci interessano."
   ]
  },
  {
   "cell_type": "code",
   "execution_count": 4,
   "id": "b9152666-1f46-4590-8465-3bb5413fbc15",
   "metadata": {
    "execution": {
     "iopub.execute_input": "2022-06-23T12:57:30.992657Z",
     "iopub.status.busy": "2022-06-23T12:57:30.992436Z",
     "iopub.status.idle": "2022-06-23T12:57:32.276118Z",
     "shell.execute_reply": "2022-06-23T12:57:32.275520Z",
     "shell.execute_reply.started": "2022-06-23T12:57:30.992633Z"
    },
    "tags": []
   },
   "outputs": [
    {
     "data": {
      "application/vnd.jupyter.widget-view+json": {
       "model_id": "cfd5fb87d93244b29b423da4e572c1e4",
       "version_major": 2,
       "version_minor": 0
      },
      "text/plain": [
       "VBox()"
      ]
     },
     "metadata": {},
     "output_type": "display_data"
    },
    {
     "data": {
      "application/vnd.jupyter.widget-view+json": {
       "model_id": "",
       "version_major": 2,
       "version_minor": 0
      },
      "text/plain": [
       "FloatProgress(value=0.0, bar_style='info', description='Progress:', layout=Layout(height='25px', width='50%'),…"
      ]
     },
     "metadata": {},
     "output_type": "display_data"
    },
    {
     "name": "stdout",
     "output_type": "stream",
     "text": [
      "dataset: org.apache.spark.rdd.RDD[String] = s3a://unibo-bd2122-mcastellucci/project/DDoS_TCP.csv,s3a://unibo-bd2122-mcastellucci/project/DDoS_UDP.csv,s3a://unibo-bd2122-mcastellucci/project/DDoS_HTTP.csv MapPartitionsRDD[1] at textFile at <console>:31\n",
      "ports: org.apache.spark.rdd.RDD[String] = s3a://unibo-bd2122-mcastellucci/project/ports.csv MapPartitionsRDD[3] at textFile at <console>:27\n"
     ]
    }
   ],
   "source": [
    "val dataset = sc.textFile(s\"$pathTCPDataset,$pathUDPDataset,$pathHTTPDataset\")\n",
    "val ports = sc.textFile(pathPortsDataset)"
   ]
  },
  {
   "cell_type": "markdown",
   "id": "bde7c25d",
   "metadata": {},
   "source": [
    "A questo punto si tratta di fare _parsing_ dei _record_ del _dataset_.\n",
    "Per effettuarlo correttamente, teniamo conto delle seguenti informazioni sui formati dei valori nelle singole colonne:\n",
    "\n",
    "* stime, ltime: il valore è un _timestamp_ in secondi dall'epoca UNIX, anche se è espresso in formato decimale per poter avere la precisione dei millisecondi\n",
    "* proto: il valore può essere uno tra \"tcp\", \"udp\", \"arp\" e \"icmp-v6\", ognuno dei quali è associato al corrispondente protocollo, sono però di interesse solamente i _record_ associati ai protocolli TCP e UDP\n",
    "* saddr, dadd: il valore è un indirizzo IP in formato \"dotted decimal notation\", può perciò essere salvato come String\n",
    "* sport, dport: il valore è un intero positivo che può arrivare ad un massimo di 65.536, perciò per poter essere rappresentato in linguaggio scala necessita di essere salvato in un Long\n",
    "* dir:\n",
    "* pkts, bytes, spkts, dpkts, sbytes, dbytes: il valore è un intero positivo di cui non è noto il massimo, per cui è logico pensare di salvare il valore in un Long\n",
    "* dur, rate, srate, drate: il valore è un numero decimale, perciò per mantenere la precisione massima utilizziamo un Double\n",
    "* attack: il valore può essere \"1\" nel caso il _record_ appartenga ad un attacco DDoS, \"0\" in caso contrario\n",
    "\n",
    "Detto questo, sono state implementati i seguenti Astract Data Types:"
   ]
  },
  {
   "cell_type": "code",
   "execution_count": 13,
   "id": "cbcf5940-297d-434b-9329-84c68f592202",
   "metadata": {
    "execution": {
     "iopub.execute_input": "2022-06-23T13:22:13.107501Z",
     "iopub.status.busy": "2022-06-23T13:22:13.107241Z",
     "iopub.status.idle": "2022-06-23T13:22:15.414618Z",
     "shell.execute_reply": "2022-06-23T13:22:15.412383Z",
     "shell.execute_reply.started": "2022-06-23T13:22:13.107476Z"
    },
    "tags": []
   },
   "outputs": [
    {
     "data": {
      "application/vnd.jupyter.widget-view+json": {
       "model_id": "e6bee85f15974bfcbbdddf926f1092e4",
       "version_major": 2,
       "version_minor": 0
      },
      "text/plain": [
       "VBox()"
      ]
     },
     "metadata": {},
     "output_type": "display_data"
    },
    {
     "data": {
      "application/vnd.jupyter.widget-view+json": {
       "model_id": "",
       "version_major": 2,
       "version_minor": 0
      },
      "text/plain": [
       "FloatProgress(value=0.0, bar_style='info', description='Progress:', layout=Layout(height='25px', width='50%'),…"
      ]
     },
     "metadata": {},
     "output_type": "display_data"
    },
    {
     "name": "stdout",
     "output_type": "stream",
     "text": [
      "import java.time.format.DateTimeFormatter\n",
      "import java.time.{Instant, LocalDateTime, ZoneId}\n",
      "import scala.util.{Try, Success, Failure}\n",
      "defined class Record\n",
      "defined object Record\n",
      "warning: previously defined class Record is not a companion to object Record.\n",
      "Companions must be defined together; you may wish to use :paste mode for this.\n",
      "defined class PortDescription\n",
      "defined object PortDescription\n",
      "warning: previously defined class PortDescription is not a companion to object PortDescription.\n",
      "Companions must be defined together; you may wish to use :paste mode for this.\n",
      "defined class Quartiles\n",
      "defined class Gaussian\n",
      "defined object Functions\n"
     ]
    }
   ],
   "source": [
    "import java.time.format.DateTimeFormatter\n",
    "import java.time.{ Instant, LocalDateTime, ZoneId }\n",
    "import scala.util.{ Try, Success, Failure }\n",
    "\n",
    "case class Record(\n",
    "    startTime: LocalDateTime,\n",
    "    protocol: String,\n",
    "    sourceAddress: String,\n",
    "    sourcePort: Long,\n",
    "    direction: String,\n",
    "    destinationAddress: String,\n",
    "    destinationPort: Long,\n",
    "    packets: Long,\n",
    "    bytes: Long,\n",
    "    endTime: LocalDateTime,\n",
    "    duration: Double,\n",
    "    rate: Double,\n",
    "    isDDoS: Boolean,\n",
    ")\n",
    "\n",
    "object Record {\n",
    "\n",
    "  def apply(r: Seq[String]): Option[Record] =\n",
    "    (for {\n",
    "      startTime <- Try(\n",
    "        Instant.ofEpochMilli((r.head.toDouble * 1000).toLong).atZone(ZoneId.systemDefault()).toLocalDateTime,\n",
    "      )\n",
    "      protocol <- if (r(2) == \"tcp\" || r(2) == \"udp\") Success(r(2)) else Failure(new IllegalStateException())\n",
    "      sourceAddress = r(3)\n",
    "      sourcePort <- Try(r(4).toLong)\n",
    "      direction = r(5)\n",
    "      destinationAddress = r(6)\n",
    "      destinationPort <- Try(r(7).toLong)\n",
    "      packets <- Try(r(8).toLong)\n",
    "      bytes <- Try(r(9).toLong)\n",
    "      endTime <- Try(\n",
    "        Instant.ofEpochMilli((r(12).toDouble * 1000).toLong).atZone(ZoneId.systemDefault()).toLocalDateTime,\n",
    "      )\n",
    "      duration <- Try(r(14).toDouble)\n",
    "      rate <- Try(r(30).toDouble)\n",
    "      isDDoS = r(34) == \"1\"\n",
    "    } yield new Record(\n",
    "      startTime,\n",
    "      protocol,\n",
    "      sourceAddress,\n",
    "      sourcePort,\n",
    "      direction,\n",
    "      destinationAddress,\n",
    "      destinationPort,\n",
    "      packets,\n",
    "      bytes,\n",
    "      endTime,\n",
    "      duration,\n",
    "      rate,\n",
    "      isDDoS,\n",
    "    )).toOption\n",
    "}\n",
    "\n",
    "case class PortDescription(\n",
    "  port: Long,\n",
    "  protocol: String,\n",
    "  description: String\n",
    ")\n",
    "\n",
    "object PortDescription {\n",
    "\n",
    "  def apply(r: Seq[String]): Option[PortDescription] = \n",
    "    (for {\n",
    "       port <- Try(r.head.toLong)\n",
    "       protocol <- Try(r(1).toLowerCase)\n",
    "       description = r(2)\n",
    "     } yield new PortDescription(port, protocol, description)\n",
    "    ).toOption\n",
    "}\n",
    "\n",
    "case class Quartiles[T: Numeric](min: T, firstQuartile: T, secondQuartile: T, thirdQuartile: T, max: T)\n",
    "\n",
    "case class Gaussian(mean: Double, stdDev: Double)\n",
    "\n",
    "object Functions {\n",
    "\n",
    "  def gaussian(avg: Double, stdDev: Double)(x: Double): Double =\n",
    "    1 / (stdDev * math.sqrt(2 * math.Pi)) * math.exp(-0.5 * math.pow(x - avg, 2) / math.pow(stdDev, 2))\n",
    "}"
   ]
  },
  {
   "cell_type": "code",
   "execution_count": 29,
   "id": "2f52eaab-2898-4184-8233-0501a3a016a9",
   "metadata": {
    "execution": {
     "iopub.execute_input": "2022-06-23T13:29:40.067350Z",
     "iopub.status.busy": "2022-06-23T13:29:40.067102Z",
     "iopub.status.idle": "2022-06-23T13:29:40.840197Z",
     "shell.execute_reply": "2022-06-23T13:29:40.839532Z",
     "shell.execute_reply.started": "2022-06-23T13:29:40.067325Z"
    },
    "tags": []
   },
   "outputs": [
    {
     "data": {
      "application/vnd.jupyter.widget-view+json": {
       "model_id": "395a0016b10d4f2fb07c0998d4513faf",
       "version_major": 2,
       "version_minor": 0
      },
      "text/plain": [
       "VBox()"
      ]
     },
     "metadata": {},
     "output_type": "display_data"
    },
    {
     "data": {
      "application/vnd.jupyter.widget-view+json": {
       "model_id": "",
       "version_major": 2,
       "version_minor": 0
      },
      "text/plain": [
       "FloatProgress(value=0.0, bar_style='info', description='Progress:', layout=Layout(height='25px', width='50%'),…"
      ]
     },
     "metadata": {},
     "output_type": "display_data"
    },
    {
     "name": "stdout",
     "output_type": "stream",
     "text": [
      "import org.apache.spark.{HashPartitioner, SparkContext}\n",
      "import org.apache.spark.rdd.RDD\n",
      "import scala.reflect.ClassTag\n",
      "import scala.math.Numeric.Implicits.infixNumericOps\n"
     ]
    }
   ],
   "source": [
    "import org.apache.spark.{HashPartitioner, SparkContext}\n",
    "import org.apache.spark.rdd.RDD\n",
    "import scala.reflect.ClassTag\n",
    "import scala.math.Numeric.Implicits.infixNumericOps"
   ]
  },
  {
   "cell_type": "markdown",
   "id": "eac53ff3",
   "metadata": {},
   "source": [
    "Alla definizione è seguito il parsing vero e proprio, che ha tenuto conto del fatto che i tre _file_, essendo in formato CSV, hanno le virgolette che circondano ogni valore di ogni colonna e sono separati dai punti e virgola.\n",
    "Assieme ai _record_ \"legittimi\", per così dire, saranno presenti anche le intestazioni dei tre _file_.\n",
    "Questo però non ci preoccupa perché sappiamo che il _parser_ eliminerà correttamente quelle righe dall'RDD che caricheremo, non avendo lo stesso formato delle altre.\n",
    "Effettuiamo il _caching_ del _dataset_ perché lo riutilizzeremo più volte e così riusciamo a vedere la sua occupazione in formato non serializzato.\n",
    "La quantità di memoria occupata è di 8.1GB."
   ]
  },
  {
   "cell_type": "code",
   "execution_count": 8,
   "id": "20bb05ff-f850-49fb-a432-c977b86f5ce6",
   "metadata": {
    "execution": {
     "iopub.execute_input": "2022-06-23T12:57:51.899454Z",
     "iopub.status.busy": "2022-06-23T12:57:51.899199Z",
     "iopub.status.idle": "2022-06-23T12:57:52.680511Z",
     "shell.execute_reply": "2022-06-23T12:57:52.679831Z",
     "shell.execute_reply.started": "2022-06-23T12:57:51.899430Z"
    },
    "tags": []
   },
   "outputs": [
    {
     "data": {
      "application/vnd.jupyter.widget-view+json": {
       "model_id": "411ee7534bd84488b4533915b9bd81c3",
       "version_major": 2,
       "version_minor": 0
      },
      "text/plain": [
       "VBox()"
      ]
     },
     "metadata": {},
     "output_type": "display_data"
    },
    {
     "data": {
      "application/vnd.jupyter.widget-view+json": {
       "model_id": "",
       "version_major": 2,
       "version_minor": 0
      },
      "text/plain": [
       "FloatProgress(value=0.0, bar_style='info', description='Progress:', layout=Layout(height='25px', width='50%'),…"
      ]
     },
     "metadata": {},
     "output_type": "display_data"
    },
    {
     "name": "stdout",
     "output_type": "stream",
     "text": [
      "recordDataset: org.apache.spark.rdd.RDD[Record] = MapPartitionsRDD[13] at map at <console>:37\n"
     ]
    }
   ],
   "source": [
    "val recordDataset = \n",
    "    dataset.\n",
    "        map(_.replace(\"\\\"\", \"\")).\n",
    "        map(_.split(\";\")).\n",
    "        map(Record(_)).\n",
    "        filter(_.isDefined).\n",
    "        map(_.get).\n",
    "        cache()"
   ]
  },
  {
   "cell_type": "code",
   "execution_count": 7,
   "id": "0184d72c-feeb-4e61-abf5-717098475c90",
   "metadata": {
    "execution": {
     "iopub.execute_input": "2022-06-23T12:57:50.482339Z",
     "iopub.status.busy": "2022-06-23T12:57:50.482119Z",
     "iopub.status.idle": "2022-06-23T12:57:51.268641Z",
     "shell.execute_reply": "2022-06-23T12:57:51.267943Z",
     "shell.execute_reply.started": "2022-06-23T12:57:50.482317Z"
    },
    "tags": []
   },
   "outputs": [
    {
     "data": {
      "application/vnd.jupyter.widget-view+json": {
       "model_id": "540eba35e2884378ba73f1835b3a970f",
       "version_major": 2,
       "version_minor": 0
      },
      "text/plain": [
       "VBox()"
      ]
     },
     "metadata": {},
     "output_type": "display_data"
    },
    {
     "data": {
      "application/vnd.jupyter.widget-view+json": {
       "model_id": "",
       "version_major": 2,
       "version_minor": 0
      },
      "text/plain": [
       "FloatProgress(value=0.0, bar_style='info', description='Progress:', layout=Layout(height='25px', width='50%'),…"
      ]
     },
     "metadata": {},
     "output_type": "display_data"
    },
    {
     "name": "stdout",
     "output_type": "stream",
     "text": [
      "portsDataset: org.apache.spark.rdd.RDD[PortDescription] = MapPartitionsRDD[8] at map at <console>:37\n"
     ]
    }
   ],
   "source": [
    "val portsDataset = \n",
    "    ports.\n",
    "        map(_.replace(\"\\\"\", \"\")).\n",
    "        map(_.split(\",\")).\n",
    "        map(PortDescription(_)).\n",
    "        filter(_.isDefined).\n",
    "        map(_.get).\n",
    "        cache()"
   ]
  },
  {
   "cell_type": "markdown",
   "id": "5854d3ed-038e-4f2d-9bb5-dd11abd93e93",
   "metadata": {
    "tags": []
   },
   "source": [
    "## Query"
   ]
  },
  {
   "cell_type": "markdown",
   "id": "f3943b89-b384-403b-9e35-1f999b3eba93",
   "metadata": {},
   "source": [
    "### Numero totale di _record_ nel _dataset_"
   ]
  },
  {
   "cell_type": "code",
   "execution_count": 12,
   "id": "66703bfe-d891-4e3b-af72-a99026509a0b",
   "metadata": {
    "execution": {
     "iopub.execute_input": "2022-06-22T13:39:39.074533Z",
     "iopub.status.busy": "2022-06-22T13:39:39.074305Z",
     "iopub.status.idle": "2022-06-22T13:40:34.599195Z",
     "shell.execute_reply": "2022-06-22T13:40:34.598335Z",
     "shell.execute_reply.started": "2022-06-22T13:39:39.074508Z"
    },
    "tags": []
   },
   "outputs": [
    {
     "data": {
      "application/vnd.jupyter.widget-view+json": {
       "model_id": "c38b02bde6a14f31baa707af0098f9d8",
       "version_major": 2,
       "version_minor": 0
      },
      "text/plain": [
       "VBox()"
      ]
     },
     "metadata": {},
     "output_type": "display_data"
    },
    {
     "data": {
      "application/vnd.jupyter.widget-view+json": {
       "model_id": "",
       "version_major": 2,
       "version_minor": 0
      },
      "text/plain": [
       "FloatProgress(value=0.0, bar_style='info', description='Progress:', layout=Layout(height='25px', width='50%'),…"
      ]
     },
     "metadata": {},
     "output_type": "display_data"
    },
    {
     "name": "stdout",
     "output_type": "stream",
     "text": [
      "recordDatasetSize: Long = 38532503\n"
     ]
    }
   ],
   "source": [
    "val recordDatasetSize = recordDataset.count()"
   ]
  },
  {
   "cell_type": "markdown",
   "id": "7e6564fd",
   "metadata": {},
   "source": [
    "Il dataset così caricato e ripulito è formato da 38.532.503 _record_."
   ]
  },
  {
   "cell_type": "markdown",
   "id": "013d6e46-2423-4105-aa1a-7b83b9cb7f0c",
   "metadata": {},
   "source": [
    "### Percentuale dei _record_ associati ad attacchi DDoS"
   ]
  },
  {
   "cell_type": "markdown",
   "id": "f103adac-357a-40f7-ba04-b23952fa3e22",
   "metadata": {},
   "source": [
    "Con questa query si vuole calcolare la percentuale di _record_ che appartengono ad attacchi DDoS nel _dataset_ e così derivare anche il numero di _record_ che __non__ appartengono ad attacchi DDoS, ma a traffico legittimo."
   ]
  },
  {
   "cell_type": "code",
   "execution_count": null,
   "id": "df3422b1-8b67-493f-8e9b-c302adf2dfe1",
   "metadata": {
    "execution": {
     "iopub.execute_input": "2022-06-21T09:10:22.852294Z",
     "iopub.status.busy": "2022-06-21T09:10:22.852075Z",
     "iopub.status.idle": "2022-06-21T09:11:24.368871Z",
     "shell.execute_reply": "2022-06-21T09:11:24.368037Z",
     "shell.execute_reply.started": "2022-06-21T09:10:22.852272Z"
    },
    "tags": []
   },
   "outputs": [
    {
     "data": {
      "application/vnd.jupyter.widget-view+json": {
       "model_id": "ee8175c8a98341ccad97f65a43324e26",
       "version_major": 2,
       "version_minor": 0
      },
      "text/plain": [
       "VBox()"
      ]
     },
     "metadata": {},
     "output_type": "display_data"
    },
    {
     "data": {
      "application/vnd.jupyter.widget-view+json": {
       "model_id": "",
       "version_major": 2,
       "version_minor": 0
      },
      "text/plain": [
       "FloatProgress(value=0.0, bar_style='info', description='Progress:', layout=Layout(height='25px', width='50%'),…"
      ]
     },
     "metadata": {},
     "output_type": "display_data"
    },
    {
     "name": "stdout",
     "output_type": "stream",
     "text": [
      "ddosCount: (Int, Int) = (38531238,1265)\n"
     ]
    }
   ],
   "source": [
    "val ddosCount = \n",
    "    recordDataset.\n",
    "        map(r => if (r.isDDoS) (1, 0) else (0, 1)).\n",
    "        reduce(_ + _)"
   ]
  },
  {
   "cell_type": "markdown",
   "id": "76cf014d-425d-49df-8c5e-6d65a3bac9b4",
   "metadata": {},
   "source": [
    "La query prende in input l'intero _dataset_ e produce due Long: il primo è il numero di _record_ appartenenti ad attacchi DDoS, il secondo è il numero di _record_ appartenenti a traffico legittimo.\n",
    "\n",
    "La query ha completato in media con un tempo di 52 secondi prendendo in input 12.7 GB di dati.\n",
    "\n",
    "L'implementazione scelta non fa altro che trasformare ogni _record_ in una coppia di valori, dove il primo rappresenta il conteggio dei _record_ associati ad attacchi, il secondo a traffico legittimo, che avrà il valore 1 nella posizione corrispondente a quale tipo di traffico il _record_ stesso appartiene, il valore 0 nell'altra.\n",
    "Dopodiché, viene compiuta un'operazione di _reduce_ che somma i valori nelle corrispondenti posizioni.\n",
    "\n",
    "È stata tentata una variante ottimizzata dove si raggruppavano i _record_ per tipologia di traffico di appartenenza, ma aveva un tempo di esecuzione comparabile a questa implementazione, pur raddoppiando il numero di _task_, dopodiché sulla nuova implementazione si è tentato di forzare il partizionamento a 2 partizioni tramite `HashPartioner`, ma ha peggiorato il tempo di esecuzione.\n",
    "Evidentemente lo _shuffling_ derivato dal ripartizionamento non è giustificato da un eventuale riduzione del tempo di esecuzione della _reduce_."
   ]
  },
  {
   "cell_type": "code",
   "execution_count": 12,
   "id": "6c79a6a2-c423-477a-a19d-2406fbb64f4e",
   "metadata": {
    "execution": {
     "iopub.execute_input": "2022-06-21T09:13:05.791567Z",
     "iopub.status.busy": "2022-06-21T09:13:05.791325Z",
     "iopub.status.idle": "2022-06-21T09:13:06.575349Z",
     "shell.execute_reply": "2022-06-21T09:13:06.574577Z",
     "shell.execute_reply.started": "2022-06-21T09:13:05.791543Z"
    },
    "tags": []
   },
   "outputs": [
    {
     "data": {
      "application/vnd.jupyter.widget-view+json": {
       "model_id": "fa005dd8a16f446fb2f34536b9e6d950",
       "version_major": 2,
       "version_minor": 0
      },
      "text/plain": [
       "VBox()"
      ]
     },
     "metadata": {},
     "output_type": "display_data"
    },
    {
     "data": {
      "application/vnd.jupyter.widget-view+json": {
       "model_id": "",
       "version_major": 2,
       "version_minor": 0
      },
      "text/plain": [
       "FloatProgress(value=0.0, bar_style='info', description='Progress:', layout=Layout(height='25px', width='50%'),…"
      ]
     },
     "metadata": {},
     "output_type": "display_data"
    },
    {
     "name": "stdout",
     "output_type": "stream",
     "text": [
      "ddosPercentage: Double = 99.99671705728538\n",
      "legitPercentage: Double = 0.0032829427146219906\n"
     ]
    }
   ],
   "source": [
    "val ddosPercentage = ddosCount._1 / recordDatasetSize.toDouble * 100\n",
    "val legitPercentage = ddosCount._2 / recordDatasetSize.toDouble * 100"
   ]
  },
  {
   "cell_type": "markdown",
   "id": "72dcbb47-4dc1-4c85-b8d5-fda56b4a6bbe",
   "metadata": {},
   "source": [
    "Quello che è possibile dedurre da questa _query_ è che il _dataset_ contiene quasi esclusivamente _record_ inerenti ad attacchi DDoS, il 99,997%. \n",
    "Per qusto motivo, occorrerà tenere in conto di questa differenza di peso tra i due tipi di traffico."
   ]
  },
  {
   "cell_type": "markdown",
   "id": "0bf36315-da7e-4e28-bbf9-3321d724541e",
   "metadata": {
    "tags": []
   },
   "source": [
    "<div align=\"center\">\n",
    "    <img src=\"images/total_pie.png\" width=\"500\"/>\n",
    "</div>"
   ]
  },
  {
   "cell_type": "markdown",
   "id": "d6913088-ba91-4434-91ae-6a5e47a081d5",
   "metadata": {},
   "source": [
    "### Percentuale dei protocolli coinvolti negli attacchi DDoS"
   ]
  },
  {
   "cell_type": "markdown",
   "id": "4e392430-eb78-495c-a2f7-1cc5c9382d0f",
   "metadata": {},
   "source": [
    "Con questa query si vuole calcolare la percentuale con cui ciascun protocollo, ovvero \"TCP\" e \"UDP\", compare nei _record_ che appartengono ad attacchi DDoS nel _dataset_."
   ]
  },
  {
   "cell_type": "code",
   "execution_count": 13,
   "id": "3c08f3d0-7ba8-4358-bca9-df48c0df0f7f",
   "metadata": {
    "execution": {
     "iopub.execute_input": "2022-06-21T09:36:20.778807Z",
     "iopub.status.busy": "2022-06-21T09:36:20.778589Z",
     "iopub.status.idle": "2022-06-21T09:37:24.299483Z",
     "shell.execute_reply": "2022-06-21T09:37:24.298610Z",
     "shell.execute_reply.started": "2022-06-21T09:36:20.778784Z"
    }
   },
   "outputs": [
    {
     "data": {
      "application/vnd.jupyter.widget-view+json": {
       "model_id": "3e7b822e7a9a412db5ffd4a0db791f70",
       "version_major": 2,
       "version_minor": 0
      },
      "text/plain": [
       "VBox()"
      ]
     },
     "metadata": {},
     "output_type": "display_data"
    },
    {
     "data": {
      "application/vnd.jupyter.widget-view+json": {
       "model_id": "",
       "version_major": 2,
       "version_minor": 0
      },
      "text/plain": [
       "FloatProgress(value=0.0, bar_style='info', description='Progress:', layout=Layout(height='25px', width='50%'),…"
      ]
     },
     "metadata": {},
     "output_type": "display_data"
    },
    {
     "name": "stdout",
     "output_type": "stream",
     "text": [
      "ddosByProtocol: scala.collection.Map[String,Long] = Map(tcp -> 19566842, udp -> 18964396)\n"
     ]
    }
   ],
   "source": [
    "val ddosByProtocol = \n",
    "    recordDataset.\n",
    "        filter(_.isDDoS).\n",
    "        map(_.protocol).\n",
    "        countByValue()"
   ]
  },
  {
   "cell_type": "markdown",
   "id": "b27e4521-f211-4437-8210-bf846b70cd0b",
   "metadata": {
    "tags": []
   },
   "source": [
    "# INSERIRE SPIEGAZIONE QUI"
   ]
  },
  {
   "cell_type": "code",
   "execution_count": 14,
   "id": "c01c82e6-e151-4164-a663-86daae8dab7e",
   "metadata": {
    "execution": {
     "iopub.execute_input": "2022-06-21T09:37:40.821431Z",
     "iopub.status.busy": "2022-06-21T09:37:40.821209Z",
     "iopub.status.idle": "2022-06-21T09:37:41.597798Z",
     "shell.execute_reply": "2022-06-21T09:37:41.597218Z",
     "shell.execute_reply.started": "2022-06-21T09:37:40.821408Z"
    }
   },
   "outputs": [
    {
     "data": {
      "application/vnd.jupyter.widget-view+json": {
       "model_id": "2d70168d74f1455eb094e10a556a4cb4",
       "version_major": 2,
       "version_minor": 0
      },
      "text/plain": [
       "VBox()"
      ]
     },
     "metadata": {},
     "output_type": "display_data"
    },
    {
     "data": {
      "application/vnd.jupyter.widget-view+json": {
       "model_id": "",
       "version_major": 2,
       "version_minor": 0
      },
      "text/plain": [
       "FloatProgress(value=0.0, bar_style='info', description='Progress:', layout=Layout(height='25px', width='50%'),…"
      ]
     },
     "metadata": {},
     "output_type": "display_data"
    },
    {
     "name": "stdout",
     "output_type": "stream",
     "text": [
      "tcpPercentage: Double = 50.780095962102436\n",
      "udpPercentage: Double = 49.216621095182944\n"
     ]
    }
   ],
   "source": [
    "val tcpPercentage = ddosByProtocol(\"tcp\") / recordDatasetSize.toDouble * 100\n",
    "val udpPercentage = ddosByProtocol(\"udp\") / recordDatasetSize.toDouble * 100"
   ]
  },
  {
   "cell_type": "markdown",
   "id": "923ec530-28a9-43df-a30f-55c7c67ecf8a",
   "metadata": {},
   "source": [
    "Come si può notare, il peso che entrambi i protocolli hanno negli attacchi DDoS è all'incirca lo stesso.\n",
    "Non è perciò possibile aspettarsi che un certo segmento sia potenzialmente più o meno pericoloso a seconda del tipo di protocollo di livello di trasporto utilizzato."
   ]
  },
  {
   "cell_type": "markdown",
   "id": "41f91f25-545b-4c5a-93b0-0f02f363460e",
   "metadata": {},
   "source": [
    "<div align=\"center\">\n",
    "    <img src=\"images/protocol-chart.png\" width=\"500\"/>\n",
    "</div>"
   ]
  },
  {
   "cell_type": "markdown",
   "id": "efb4441f-8044-405a-ad74-1e6d6b9b41da",
   "metadata": {},
   "source": [
    "### Percentuale dei servizi presi di mira dagli attacchi DDoS"
   ]
  },
  {
   "cell_type": "markdown",
   "id": "66f0b4f6-4b62-4a43-84bf-2e567d2bc21e",
   "metadata": {},
   "source": [
    "Con questa query si vuole calcolare la percentuale con cui ciascun servizio è stato preso di mira dagli attacchi DDoS.\n",
    "Per servizio intendiamo la combinazione di porta e protocollo di livello di rete, che di norma sono associati a servizi predefiniti.\n",
    "Ad esempio, il protocollo TCP e la porta 80 sono di norma associati ad un server HTTP, anche se nulla toglie che è possibile che sia presente un altro servizio in ascolto.\n",
    "Certamente, un attaccante può studiare prima il sistema per capire quali servizi sono attivi, ma in mancanza di altre informazioni disponibili ricade su ciò che è vero per default."
   ]
  },
  {
   "cell_type": "code",
   "execution_count": null,
   "id": "396b1984-85a4-43ec-b64e-f92087c654bc",
   "metadata": {
    "execution": {
     "iopub.execute_input": "2022-06-22T16:07:12.079729Z",
     "iopub.status.busy": "2022-06-22T16:07:12.079495Z",
     "iopub.status.idle": "2022-06-22T16:09:53.961184Z"
    },
    "tags": []
   },
   "outputs": [
    {
     "data": {
      "application/vnd.jupyter.widget-view+json": {
       "model_id": "c6acf5d71f6e48b1b57a1554d4eb888d",
       "version_major": 2,
       "version_minor": 0
      },
      "text/plain": [
       "VBox()"
      ]
     },
     "metadata": {},
     "output_type": "display_data"
    },
    {
     "data": {
      "application/vnd.jupyter.widget-view+json": {
       "model_id": "",
       "version_major": 2,
       "version_minor": 0
      },
      "text/plain": [
       "FloatProgress(value=0.0, bar_style='info', description='Progress:', layout=Layout(height='25px', width='50%'),…"
      ]
     },
     "metadata": {},
     "output_type": "display_data"
    },
    {
     "name": "stdout",
     "output_type": "stream",
     "text": [
      "portsCountByJoin: org.apache.spark.rdd.RDD[((Long, String), (Int, String))] = MapPartitionsRDD[25] at sortBy at <console>:41\n"
     ]
    }
   ],
   "source": [
    "val portsCountByJoin = \n",
    "    recordDataset.\n",
    "        filter(_.isDDoS).\n",
    "        map(r => ((r.destinationPort, r.protocol), 1)).\n",
    "        reduceByKey(_ + _).\n",
    "        join(portsDataset.map(d => ((d.port, d.protocol), d.description))).\n",
    "        sortBy(_._2, ascending = false)"
   ]
  },
  {
   "cell_type": "markdown",
   "id": "442f1720-5cca-475a-97b1-2c984f9c7726",
   "metadata": {},
   "source": [
    "# INSERIRE SPIEGAZIONE QUI"
   ]
  },
  {
   "cell_type": "code",
   "execution_count": 64,
   "id": "6e928958-b056-4f2f-9a58-016acf2aa338",
   "metadata": {
    "execution": {
     "iopub.execute_input": "2022-06-22T16:55:10.830502Z",
     "iopub.status.busy": "2022-06-22T16:55:10.830200Z",
     "iopub.status.idle": "2022-06-22T16:55:12.112981Z",
     "shell.execute_reply": "2022-06-22T16:55:12.112069Z",
     "shell.execute_reply.started": "2022-06-22T16:55:10.830476Z"
    },
    "tags": []
   },
   "outputs": [
    {
     "data": {
      "application/vnd.jupyter.widget-view+json": {
       "model_id": "25e00149f99a4fbc8698987f98ff016f",
       "version_major": 2,
       "version_minor": 0
      },
      "text/plain": [
       "VBox()"
      ]
     },
     "metadata": {},
     "output_type": "display_data"
    },
    {
     "data": {
      "application/vnd.jupyter.widget-view+json": {
       "model_id": "",
       "version_major": 2,
       "version_minor": 0
      },
      "text/plain": [
       "FloatProgress(value=0.0, bar_style='info', description='Progress:', layout=Layout(height='25px', width='50%'),…"
      ]
     },
     "metadata": {},
     "output_type": "display_data"
    },
    {
     "name": "stdout",
     "output_type": "stream",
     "text": [
      "totalPortsCount: Int = 38504055\n",
      "| Service  | Description | Total records | Percentage |\n",
      "|----------|-------------|---------------|------------|\n",
      "| 80 - tcp | HTTP        | 19529331      | 50.72%     |\n",
      "| 80 - udp | HTTP        | 18964396      | 49.25%     |\n",
      "| Other    | N/A         | 10328         | 0.02%      |\n"
     ]
    }
   ],
   "source": [
    "val totalPortsCount = portsCountByJoin.map(_._2._1).reduce(_ + _)\n",
    "\n",
    "println(\"| Service  | Description | Total records | Percentage |\")\n",
    "println(\"|----------|-------------|---------------|------------|\")\n",
    "(portsCountByJoin.\n",
    "    take(2).\n",
    "    map { case ((port, protocol), (count, desc)) => \n",
    "        (s\"$port - $protocol\", f\"$desc%-11s\", f\"$count%-13d\", f\"${(count.toDouble / totalPortsCount * 100).toString.substring(0, 5) + \"%\" }%-10s\")\n",
    "    }.\n",
    "    toSeq :+ \n",
    "    (\n",
    "        \"Other   \", \n",
    "        \"N/A        \", \n",
    "        f\"${totalPortsCount - portsCountByJoin.take(2).map(_._2._1).sum}%-13d\", \n",
    "        f\"${((totalPortsCount - portsCountByJoin.take(2).map(_._2._1).sum).toDouble / totalPortsCount * 100).toString.substring(0, 4) + \"%\"}%-10s\")\n",
    "    ).\n",
    "    foreach(t => println(s\"| ${t._1} | ${t._2} | ${t._3} | ${t._4} |\"))"
   ]
  },
  {
   "cell_type": "markdown",
   "id": "d778eef0-434a-40dc-8b5e-a13360f50087",
   "metadata": {},
   "source": [
    "# INSERIRE COMMENTO QUI"
   ]
  },
  {
   "cell_type": "markdown",
   "id": "f223021d-1de6-46da-854a-73f54eb9278b",
   "metadata": {},
   "source": [
    "<div align=\"center\">\n",
    "    <img src=\"images/ports-chart.png\" width=\"500\"/>\n",
    "</div>"
   ]
  },
  {
   "cell_type": "markdown",
   "id": "434ef8a3-9896-421e-a589-72e24051b86d",
   "metadata": {
    "tags": []
   },
   "source": [
    "### Quantità di traffico DDoS in byte rispetto al totale"
   ]
  },
  {
   "cell_type": "markdown",
   "id": "7ab8a370-e1ab-4f82-a248-89e71af0fc68",
   "metadata": {},
   "source": [
    "# DESCRIZIONE QUI"
   ]
  },
  {
   "cell_type": "code",
   "execution_count": 65,
   "id": "7a9e6d0a-a7da-4140-aa34-7906dce0851a",
   "metadata": {
    "execution": {
     "iopub.execute_input": "2022-06-22T17:29:35.110315Z",
     "iopub.status.busy": "2022-06-22T17:29:35.110086Z",
     "iopub.status.idle": "2022-06-22T17:31:30.803925Z",
     "shell.execute_reply": "2022-06-22T17:31:30.803163Z",
     "shell.execute_reply.started": "2022-06-22T17:29:35.110291Z"
    },
    "tags": []
   },
   "outputs": [
    {
     "data": {
      "application/vnd.jupyter.widget-view+json": {
       "model_id": "0f1de80e52464a87a5e3c2e7eb361a1d",
       "version_major": 2,
       "version_minor": 0
      },
      "text/plain": [
       "VBox()"
      ]
     },
     "metadata": {},
     "output_type": "display_data"
    },
    {
     "data": {
      "application/vnd.jupyter.widget-view+json": {
       "model_id": "",
       "version_major": 2,
       "version_minor": 0
      },
      "text/plain": [
       "FloatProgress(value=0.0, bar_style='info', description='Progress:', layout=Layout(height='25px', width='50%'),…"
      ]
     },
     "metadata": {},
     "output_type": "display_data"
    },
    {
     "name": "stdout",
     "output_type": "stream",
     "text": [
      "ddosTrafficByIP: scala.collection.immutable.Map[String,Double] = Map(192.168.100.148 -> 7457.1875, 192.168.100.5 -> 5259153.908203125, 192.168.100.7 -> 3382470.841796875, 192.168.100.3 -> 8999801.200195312, 192.168.100.6 -> 2398495.455078125)\n",
      "trafficByIP: scala.collection.immutable.Map[String,Double] = Map(184.85.248.65 -> 0.3251953125, 34.213.81.108 -> 12.1943359375, 192.168.100.148 -> 7457.1875, 192.5.5.241 -> 1.259765625, 192.168.100.1 -> 1.9775390625, 96.7.49.66 -> 0.3251953125, 224.0.0.251 -> 0.46875, 192.168.100.255 -> 10.640625, 172.217.25.170 -> 13.1513671875, 192.168.100.147 -> 4621.00390625, 192.36.148.17 -> 4.90234375, 116.206.80.123 -> 0.87890625, ff02::fb -> 0.52734375, 116.206.83.243 -> 1.0546875, 192.168.100.46 -> 275956.6396484375, 192.33.14.30 -> 7.7900390625, 192.168.100.5 -> 7079893.10546875, 192.168.100.55 -> 329540.4853515625, 216.239.36.10 -> 0.5888671875, 193.108.91.240 -> 0.3251953125, 205.251.196.236 -> 1.2275390625, 27.124.125.251 -> 0.52734375, 202.12.27.33 -> 2.4404296875, 192.168.100.7 -> 3382470...\n"
     ]
    }
   ],
   "source": [
    "val ddosTrafficByIP =\n",
    "    recordDataset.\n",
    "    filter(_.isDDoS).\n",
    "    map(r => (r.destinationAddress, r.bytes)).\n",
    "    reduceByKey(_ + _).\n",
    "    map { case (ip, traffic) => (ip, traffic / 1024.toDouble) }.\n",
    "    sortBy(_._2, ascending = false).\n",
    "    take(5).\n",
    "    toMap\n",
    "\n",
    "val trafficByIP =\n",
    "    recordDataset.\n",
    "    map(r => (r.destinationAddress, r.bytes)).\n",
    "    reduceByKey(_ + _).\n",
    "    map { case (ip, traffic) => (ip, traffic / 1024.toDouble) }.\n",
    "    collect().\n",
    "    toMap"
   ]
  },
  {
   "cell_type": "markdown",
   "id": "83a71f16-bcb1-46f9-8710-24d151a27fe8",
   "metadata": {},
   "source": [
    "# INSERIRE SPIEGAZIONE QUI"
   ]
  },
  {
   "cell_type": "code",
   "execution_count": 66,
   "id": "e42716a5-7ae3-4b7d-acdc-60687404df61",
   "metadata": {
    "execution": {
     "iopub.execute_input": "2022-06-22T17:31:30.805551Z",
     "iopub.status.busy": "2022-06-22T17:31:30.805287Z",
     "iopub.status.idle": "2022-06-22T17:31:31.586563Z",
     "shell.execute_reply": "2022-06-22T17:31:31.585958Z",
     "shell.execute_reply.started": "2022-06-22T17:31:30.805516Z"
    }
   },
   "outputs": [
    {
     "data": {
      "application/vnd.jupyter.widget-view+json": {
       "model_id": "ac41b2c800a14f309ed9154f9a365181",
       "version_major": 2,
       "version_minor": 0
      },
      "text/plain": [
       "VBox()"
      ]
     },
     "metadata": {},
     "output_type": "display_data"
    },
    {
     "data": {
      "application/vnd.jupyter.widget-view+json": {
       "model_id": "",
       "version_major": 2,
       "version_minor": 0
      },
      "text/plain": [
       "FloatProgress(value=0.0, bar_style='info', description='Progress:', layout=Layout(height='25px', width='50%'),…"
      ]
     },
     "metadata": {},
     "output_type": "display_data"
    },
    {
     "name": "stdout",
     "output_type": "stream",
     "text": [
      "totalTrafficOnlyDDos: scala.collection.immutable.Map[String,Double] = Map(192.168.100.148 -> 7457.1875, 192.168.100.5 -> 7079893.10546875, 192.168.100.7 -> 3382470.841796875, 192.168.100.3 -> 1.0039371459960938E7, 192.168.100.6 -> 2398495.455078125)\n",
      "a1: Seq[(String, Double)] = Vector((192.168.100.148,7457.1875), (192.168.100.3,1.0039371459960938E7), (192.168.100.5,7079893.10546875), (192.168.100.6,2398495.455078125), (192.168.100.7,3382470.841796875))\n",
      "a2: Seq[(String, Double)] = Vector((192.168.100.148,7457.1875), (192.168.100.3,8999801.200195312), (192.168.100.5,5259153.908203125), (192.168.100.6,2398495.455078125), (192.168.100.7,3382470.841796875))\n"
     ]
    }
   ],
   "source": [
    "val totalImportantTraffic = trafficByIP.filterKeys(ddosTrafficByIP.keySet(_))\n",
    "val totalImportantTrafficSorted = totalImportantTraffic.toSeq.sortBy(_._1)\n",
    "val ddosTrafficSorted = ddosTrafficByIP.toSeq.sortBy(_._1)"
   ]
  },
  {
   "cell_type": "markdown",
   "id": "120c2bfb-0aa6-4f36-9360-c80b68e1d20b",
   "metadata": {},
   "source": [
    "# INSERIRE COMMENTO QUI"
   ]
  },
  {
   "cell_type": "markdown",
   "id": "7807f4c9-a587-4625-9603-d2469e990b1a",
   "metadata": {},
   "source": [
    "<div align=\"center\">\n",
    "    <img src=\"images/ddos-traffic.png\" width=\"500\"/>\n",
    "</div>"
   ]
  },
  {
   "cell_type": "markdown",
   "id": "1b2c30a7-6f24-41ee-b69a-e49db468bbae",
   "metadata": {},
   "source": [
    "### Conteggio dei flussi catturati nel dataset"
   ]
  },
  {
   "cell_type": "markdown",
   "id": "ad285f34-4fe8-4151-aa8b-f303cdc2a292",
   "metadata": {},
   "source": [
    "Un flusso lo si identifica da (sourceIp, sourcePort, destinationIp, destinationPort)"
   ]
  },
  {
   "cell_type": "code",
   "execution_count": 11,
   "id": "c51ed9e1-e2f2-46b4-8966-3fb95c0a1504",
   "metadata": {
    "execution": {
     "iopub.execute_input": "2022-06-23T13:07:56.914551Z",
     "iopub.status.busy": "2022-06-23T13:07:56.914334Z",
     "iopub.status.idle": "2022-06-23T13:11:02.802608Z",
     "shell.execute_reply": "2022-06-23T13:11:02.801883Z",
     "shell.execute_reply.started": "2022-06-23T13:07:56.914529Z"
    },
    "tags": []
   },
   "outputs": [
    {
     "data": {
      "application/vnd.jupyter.widget-view+json": {
       "model_id": "5aa2411875914a8cb4622af932f27435",
       "version_major": 2,
       "version_minor": 0
      },
      "text/plain": [
       "VBox()"
      ]
     },
     "metadata": {},
     "output_type": "display_data"
    },
    {
     "data": {
      "application/vnd.jupyter.widget-view+json": {
       "model_id": "",
       "version_major": 2,
       "version_minor": 0
      },
      "text/plain": [
       "FloatProgress(value=0.0, bar_style='info', description='Progress:', layout=Layout(height='25px', width='50%'),…"
      ]
     },
     "metadata": {},
     "output_type": "display_data"
    },
    {
     "name": "stdout",
     "output_type": "stream",
     "text": [
      "flowsDataset: org.apache.spark.rdd.RDD[(Boolean, Double, Double)] = MapPartitionsRDD[23] at map at <console>:41\n",
      "ddosPacketsRateSum: Double = 584305.5830716968\n",
      "ddosBytesRateSum: Double = 5.646841374913517E7\n",
      "ddosCount: Int = 2132236\n",
      "legitPacketsRateSum: Double = 31059.85973989538\n",
      "legitBytesRateSum: Double = 5124031.632252166\n",
      "legitCount: Int = 89\n",
      "ddosPacketsRateMean: Double = 0.2740341984056628\n",
      "ddosBytesRateMean: Double = 26.483191236399332\n",
      "legitPacketsRateMean: Double = 348.9871880887121\n",
      "legitBytesRateMean: Double = 57573.38912642883\n",
      "ddosPacketsRateMeanBroadcast: org.apache.spark.broadcast.Broadcast[Double] = Broadcast(11)\n",
      "ddosBytesRateMeanBroadcast: org.apache.spark.broadcast.Broadcast[Double] = Broadcast(12)\n",
      "legitPacketsRateMeanBroadcast: org.apache.spark.broadcast.Broadcast[Double] = Broadcast(13)\n",
      "legitBytesRateMeanBroadcast: org.apache.spark.broadcast.Broadcast[Double] = Broadcast(14)\n",
      "ddosPacketsRateDiff: Double = 51875.59647335778\n",
      "ddosBytesRateDiff: Double = 4.550126845388437E8\n",
      "legitPacketsRateDiff: Double = 1.009591234256591E8\n",
      "legitBytesRateDiff: Double = 1.2827464729662332E12\n",
      "ddosPacketsRateStdDev: Double = 0.15597820418003489\n",
      "ddosBytesRateStdDev: Double = 14.608112880857705\n",
      "legitPacketsRateStdDev: Double = 1065.0690932150892\n",
      "legitBytesRateStdDev: Double = 120053.66182970731\n"
     ]
    }
   ],
   "source": [
    "val flowsDataset =\n",
    "    recordDataset.\n",
    "    filter(_.duration > 0.0).\n",
    "    map(r =>\n",
    "      (\n",
    "        (r.sourceAddress, r.sourcePort, r.destinationAddress, r.destinationPort, r.protocol),\n",
    "        (r.isDDoS, r.duration, r.packets, r.bytes),\n",
    "      ),\n",
    "    ).\n",
    "    reduceByKey { case ((isDDoS1, duration1, packets1, bytes1), (isDDoS2, duration2, packets2, bytes2)) =>\n",
    "      (isDDoS1 || isDDoS2, duration1 + duration2, packets1 + packets2, bytes1 + bytes2)\n",
    "    }.\n",
    "    map { case (_, (isDDoS, duration, packets, bytes)) => (isDDoS, packets / duration, bytes / duration) }.\n",
    "    cache()\n",
    "\n",
    "val (ddosPacketsRateSum, ddosBytesRateSum, ddosCount, legitPacketsRateSum, legitBytesRateSum, legitCount) =\n",
    "    flowsDataset.\n",
    "    map { case (isDDoS, packetsRate, bytesRate) =>\n",
    "      if (isDDoS) (packetsRate, bytesRate, 1, 0.0, 0.0, 0) else (0.0, 0.0, 0, packetsRate, bytesRate, 1)\n",
    "    }.\n",
    "    reduce { \n",
    "      case(\n",
    "        (ddosPacketsRate1, ddosBytesRate1, ddosCount1, legitPacketsRate1, legitBytesRate1, legitCount1), \n",
    "        (ddosPacketsRate2, ddosBytesRate2, ddosCount2, legitPacketsRate2, legitBytesRate2, legitCount2)\n",
    "      ) => (\n",
    "        ddosPacketsRate1 + ddosPacketsRate2, \n",
    "        ddosBytesRate1 + ddosBytesRate2, \n",
    "        ddosCount1 + ddosCount2, \n",
    "        legitPacketsRate1 + legitPacketsRate2, \n",
    "        legitBytesRate1 + legitBytesRate2,\n",
    "        legitCount1 + legitCount2\n",
    "      )  \n",
    "    }\n",
    "\n",
    "val ddosPacketsRateMean = ddosPacketsRateSum / ddosCount\n",
    "val ddosBytesRateMean = ddosBytesRateSum / ddosCount\n",
    "val legitPacketsRateMean = legitPacketsRateSum / legitCount\n",
    "val legitBytesRateMean = legitBytesRateSum / legitCount\n",
    "\n",
    "val ddosPacketsRateMeanBroadcast = sc.broadcast(ddosPacketsRateMean)\n",
    "val ddosBytesRateMeanBroadcast = sc.broadcast(ddosBytesRateMean)\n",
    "val legitPacketsRateMeanBroadcast = sc.broadcast(legitPacketsRateMean)\n",
    "val legitBytesRateMeanBroadcast = sc.broadcast(legitBytesRateMean)\n",
    "\n",
    "val (ddosPacketsRateDiff, ddosBytesRateDiff, legitPacketsRateDiff, legitBytesRateDiff) =\n",
    "    flowsDataset.\n",
    "    map { case (isDDoS, packetsRate, bytesRate) =>\n",
    "      if (isDDoS)\n",
    "        (\n",
    "         math.pow(packetsRate - ddosPacketsRateMeanBroadcast.value, 2),\n",
    "         math.pow(bytesRate - ddosBytesRateMeanBroadcast.value, 2),\n",
    "         0.0,\n",
    "         0.0,\n",
    "        )\n",
    "      else\n",
    "        (\n",
    "         0.0,\n",
    "         0.0,\n",
    "         math.pow(packetsRate - legitPacketsRateMeanBroadcast.value, 2),\n",
    "         math.pow(bytesRate - legitBytesRateMeanBroadcast.value, 2),\n",
    "        )\n",
    "    }.\n",
    "    reduce {\n",
    "      case(\n",
    "        (ddosPacketsRateDiff1, ddosBytesRateDiff1, legitPacketsRateDiff1, legitBytesRateDiff1),\n",
    "        (ddosPacketsRateDiff2, ddosBytesRateDiff2, legitPacketsRateDiff2, legitBytesRateDiff2)\n",
    "      ) => (\n",
    "        ddosPacketsRateDiff1 + ddosPacketsRateDiff2,\n",
    "        ddosBytesRateDiff1 + ddosBytesRateDiff2,\n",
    "        legitPacketsRateDiff1 + legitPacketsRateDiff2,\n",
    "        legitBytesRateDiff1 + legitBytesRateDiff2\n",
    "      )\n",
    "    }\n",
    "\n",
    "val ddosPacketsRateStdDev = math.sqrt(ddosPacketsRateDiff / ddosCount)\n",
    "val ddosBytesRateStdDev = math.sqrt(ddosBytesRateDiff / ddosCount)\n",
    "val legitPacketsRateStdDev = math.sqrt(legitPacketsRateDiff / legitCount)\n",
    "val legitBytesRateStdDev = math.sqrt(legitBytesRateDiff / legitCount)"
   ]
  },
  {
   "cell_type": "markdown",
   "id": "c9bf7efb-dfe3-49bd-b7b0-8b0bf2505ac5",
   "metadata": {},
   "source": [
    "# INSERIRE SPIEGAZIONE QUI"
   ]
  },
  {
   "cell_type": "markdown",
   "id": "e9c56144-4f72-4b5d-89b1-89df5fdf4a1e",
   "metadata": {},
   "source": [
    "# INSERIRE COMMENTO QUI"
   ]
  },
  {
   "cell_type": "markdown",
   "id": "886b23bb-c752-46a8-affa-c0dce6a7cf98",
   "metadata": {},
   "source": [
    "<div align=\"center\">\n",
    "    <div>\n",
    "        <img src=\"images/ddos-flow-packets-rate.png\" width=\"40%\"/>\n",
    "        <img src=\"images/legit-flow-packets-rate.png\" width=\"40%\"/>\n",
    "    </div>\n",
    "    <div>\n",
    "        <img src=\"images/ddos-flow-bytes-rate.png\" width=\"40%\"/>\n",
    "        <img src=\"images/legit-flow-bytes-rate.png\" width=\"500\"/>\n",
    "    </div>\n",
    "</div>"
   ]
  },
  {
   "cell_type": "markdown",
   "id": "8e472687-0e06-492e-9ec1-05b176fd690c",
   "metadata": {},
   "source": [
    "## Statistiche temporali su attacchi "
   ]
  },
  {
   "cell_type": "markdown",
   "id": "541b7ec0-95c7-4a98-a4fa-b7d375342f2c",
   "metadata": {},
   "source": [
    "# INSERIRE DESCRIZIONE QUI"
   ]
  },
  {
   "cell_type": "code",
   "execution_count": 19,
   "id": "4bc90d00-e1e9-4c11-90f1-1a95574b4f1b",
   "metadata": {
    "execution": {
     "iopub.execute_input": "2022-06-20T15:35:37.636042Z",
     "iopub.status.busy": "2022-06-20T15:35:37.635804Z",
     "iopub.status.idle": "2022-06-20T15:35:38.421515Z",
     "shell.execute_reply": "2022-06-20T15:35:38.420798Z",
     "shell.execute_reply.started": "2022-06-20T15:35:37.636017Z"
    },
    "tags": []
   },
   "outputs": [
    {
     "data": {
      "application/vnd.jupyter.widget-view+json": {
       "model_id": "92fec56220ba4e95ab1351d99013c283",
       "version_major": 2,
       "version_minor": 0
      },
      "text/plain": [
       "VBox()"
      ]
     },
     "metadata": {},
     "output_type": "display_data"
    },
    {
     "data": {
      "application/vnd.jupyter.widget-view+json": {
       "model_id": "",
       "version_major": 2,
       "version_minor": 0
      },
      "text/plain": [
       "FloatProgress(value=0.0, bar_style='info', description='Progress:', layout=Layout(height='25px', width='50%'),…"
      ]
     },
     "metadata": {},
     "output_type": "display_data"
    },
    {
     "name": "stdout",
     "output_type": "stream",
     "text": [
      "minDate: (date1: java.time.LocalDateTime, date2: java.time.LocalDateTime)java.time.LocalDateTime\n",
      "maxDate: (date1: java.time.LocalDateTime, date2: java.time.LocalDateTime)java.time.LocalDateTime\n"
     ]
    }
   ],
   "source": [
    "def minDate(date1: LocalDateTime, date2: LocalDateTime): LocalDateTime = {\n",
    "    if (date1.isBefore(date2)) date1 else date2\n",
    "}\n",
    "\n",
    "def maxDate(date1: LocalDateTime, date2: LocalDateTime): LocalDateTime = {\n",
    "    if (date1.isAfter(date2)) date1 else date2\n",
    "}"
   ]
  },
  {
   "cell_type": "markdown",
   "id": "f780d757-ae07-4003-a550-2e551ca7ce06",
   "metadata": {},
   "source": [
    "# INSERIRE SPIEGAZIONE QUI"
   ]
  },
  {
   "cell_type": "markdown",
   "id": "78785cfb-f832-4f6b-ba03-76fbc4f84fc1",
   "metadata": {},
   "source": [
    "Dalla query seguente andiamo a determinare la data di inizio dell'attacco e la data di fine"
   ]
  },
  {
   "cell_type": "code",
   "execution_count": 22,
   "id": "4e6c2d2d-9751-428f-8495-3f2797c16baf",
   "metadata": {
    "execution": {
     "iopub.execute_input": "2022-06-20T15:36:27.740594Z",
     "iopub.status.busy": "2022-06-20T15:36:27.740364Z",
     "iopub.status.idle": "2022-06-20T15:37:05.156171Z",
     "shell.execute_reply": "2022-06-20T15:37:05.155495Z",
     "shell.execute_reply.started": "2022-06-20T15:36:27.740569Z"
    },
    "tags": []
   },
   "outputs": [
    {
     "data": {
      "application/vnd.jupyter.widget-view+json": {
       "model_id": "fcbf5657040849528b9d36f2b9280df2",
       "version_major": 2,
       "version_minor": 0
      },
      "text/plain": [
       "VBox()"
      ]
     },
     "metadata": {},
     "output_type": "display_data"
    },
    {
     "data": {
      "application/vnd.jupyter.widget-view+json": {
       "model_id": "",
       "version_major": 2,
       "version_minor": 0
      },
      "text/plain": [
       "FloatProgress(value=0.0, bar_style='info', description='Progress:', layout=Layout(height='25px', width='50%'),…"
      ]
     },
     "metadata": {},
     "output_type": "display_data"
    },
    {
     "name": "stdout",
     "output_type": "stream",
     "text": [
      "minMaxDate: (java.time.LocalDateTime, java.time.LocalDateTime) = (2018-06-04T09:22:59.512,2018-06-04T07:02:01.762)\n",
      "startTime: java.time.LocalDateTime = 2018-06-04T07:02:01.762\n",
      "endTime: java.time.LocalDateTime = 2018-06-04T09:22:59.512\n"
     ]
    }
   ],
   "source": [
    "val minMaxDate = recordDataset.filter(_.isDDoS).map(r => (r.startTime, r.startTime)).reduce {\n",
    "    case ((accMax, x), (r1, r2)) => (maxDate(accMax, r1), minDate(accMin, r2))\n",
    "}\n",
    "\n",
    "val startTime = minMaxDate._2\n",
    "val endTime = minMaxDate._1"
   ]
  },
  {
   "cell_type": "markdown",
   "id": "74e74b46-83ae-4293-b869-cb738780bbcd",
   "metadata": {},
   "source": [
    "# INSERIRE COMMENTO QUI"
   ]
  },
  {
   "cell_type": "markdown",
   "id": "7dac10ef-f7bd-499b-b73d-bd8f816fd89b",
   "metadata": {},
   "source": [
    "### Statistiche d'ordine e distribuzione delle variabili \"packets\", \"bytes\", \"rate\" e \"byteRate\""
   ]
  },
  {
   "cell_type": "markdown",
   "id": "7c5a50ee-0047-4d8c-8d88-c798a73cb22f",
   "metadata": {},
   "source": [
    "# INSERIRE DESCRIZIONE QUI"
   ]
  },
  {
   "cell_type": "code",
   "execution_count": 30,
   "id": "11a8c46b-1564-4433-a4dd-c79d44803f7c",
   "metadata": {
    "execution": {
     "iopub.execute_input": "2022-06-23T13:29:45.662067Z",
     "iopub.status.busy": "2022-06-23T13:29:45.661834Z",
     "iopub.status.idle": "2022-06-23T13:29:46.441656Z",
     "shell.execute_reply": "2022-06-23T13:29:46.441017Z",
     "shell.execute_reply.started": "2022-06-23T13:29:45.662043Z"
    },
    "tags": []
   },
   "outputs": [
    {
     "data": {
      "application/vnd.jupyter.widget-view+json": {
       "model_id": "dddb25a57271406bb4d2d122a1f498f8",
       "version_major": 2,
       "version_minor": 0
      },
      "text/plain": [
       "VBox()"
      ]
     },
     "metadata": {},
     "output_type": "display_data"
    },
    {
     "data": {
      "application/vnd.jupyter.widget-view+json": {
       "model_id": "",
       "version_major": 2,
       "version_minor": 0
      },
      "text/plain": [
       "FloatProgress(value=0.0, bar_style='info', description='Progress:', layout=Layout(height='25px', width='50%'),…"
      ]
     },
     "metadata": {},
     "output_type": "display_data"
    },
    {
     "name": "stdout",
     "output_type": "stream",
     "text": [
      "getStatistics: [T](dataset: org.apache.spark.rdd.RDD[T])(implicit evidence$1: Numeric[T], implicit evidence$2: Ordering[T], implicit evidence$3: scala.reflect.ClassTag[T])Quartiles[T]\n",
      "getGaussian: [T](sc: org.apache.spark.SparkContext, rdd: org.apache.spark.rdd.RDD[T])(implicit evidence$1: Numeric[T])Gaussian\n",
      "cleanByIQR: [T](sc: org.apache.spark.SparkContext, rdd: org.apache.spark.rdd.RDD[T], quartiles: Quartiles[T])(implicit evidence$1: Numeric[T], implicit evidence$2: Ordering[T])org.apache.spark.rdd.RDD[T]\n"
     ]
    }
   ],
   "source": [
    "def getStatistics[T: Numeric: Ordering: ClassTag](dataset: RDD[T]): Quartiles[T] = {\n",
    "    val size = dataset.count()\n",
    "    val quartiles = \n",
    "        dataset.\n",
    "            sortBy(v => v).\n",
    "            zipWithIndex().\n",
    "            filter { case (_, index) =>\n",
    "                index == 0 || index == size / 4 || index == size / 2 || index == size * 3 / 4 || index == size - 1\n",
    "            }.\n",
    "            collect()\n",
    "    quartiles.sortBy(_._2).map(_._1) match {\n",
    "      case Array(min, first, second, third, max) => Quartiles(min, first, second, third, max)\n",
    "    }\n",
    "  }\n",
    "\n",
    "def getGaussian[T: Numeric](sc: SparkContext, rdd: RDD[T]): Gaussian = {\n",
    "    val (sum, count) = rdd.map(r => (r, 1)).reduce{ case((sum1, count1), (sum2, count2)) => (sum1 + sum2, count1 + count2) }\n",
    "    val mean = sum.toDouble() / count\n",
    "    val meanBroadcast = sc.broadcast(mean)\n",
    "\n",
    "    val stdDev = math.sqrt(rdd.map(r => math.pow(r.toDouble() - meanBroadcast.value, 2)).sum() / count)\n",
    "    Gaussian(mean, stdDev)\n",
    "}\n",
    "\n",
    "def cleanByIQR[T: Numeric: Ordering](sc: SparkContext, rdd: RDD[T], quartiles: Quartiles[T]): RDD[T] = {\n",
    "    val rangeBroadcast = sc.broadcast(\n",
    "        (\n",
    "            quartiles.firstQuartile.toDouble() - 1.5 * (quartiles.thirdQuartile - quartiles.firstQuartile).toDouble(),\n",
    "            quartiles.thirdQuartile.toDouble() + 1.5 * (quartiles.thirdQuartile - quartiles.firstQuartile).toDouble(),\n",
    "        ),\n",
    "    )\n",
    "    rdd.filter(r => r.toDouble() > rangeBroadcast.value._1 && r.toDouble() < rangeBroadcast.value._2)\n",
    "}"
   ]
  },
  {
   "cell_type": "markdown",
   "id": "5edba34a-b4e9-40f0-b328-d73119fb02f2",
   "metadata": {},
   "source": [
    "# INSERIRE SPIEGAZIONE QUI"
   ]
  },
  {
   "cell_type": "code",
   "execution_count": null,
   "id": "e4eb3c05-d99c-4b25-aaa8-2e38ce63c313",
   "metadata": {
    "execution": {
     "iopub.execute_input": "2022-06-23T13:29:51.166988Z",
     "iopub.status.busy": "2022-06-23T13:29:51.166771Z"
    }
   },
   "outputs": [
    {
     "data": {
      "application/vnd.jupyter.widget-view+json": {
       "model_id": "a1a6e2b38c2446488afd7b9496fd627b",
       "version_major": 2,
       "version_minor": 0
      },
      "text/plain": [
       "VBox()"
      ]
     },
     "metadata": {},
     "output_type": "display_data"
    },
    {
     "data": {
      "application/vnd.jupyter.widget-view+json": {
       "model_id": "703467f33a944f9b8ef8091fdbd87d9c",
       "version_major": 2,
       "version_minor": 0
      },
      "text/plain": [
       "FloatProgress(value=0.0, bar_style='info', description='Progress:', layout=Layout(height='25px', width='50%'),…"
      ]
     },
     "metadata": {},
     "output_type": "display_data"
    }
   ],
   "source": [
    "val ddosDataset = recordDataset.filter(_.isDDoS).cache()\n",
    "val legitDataset = recordDataset.filter(!_.isDDoS).cache()\n",
    "\n",
    "val packetsDDoS = ddosDataset.map(_.packets)\n",
    "val packetsLegit = legitDataset.map(_.packets)\n",
    "val bytesDDoS = ddosDataset.map(_.bytes)\n",
    "val bytesLegit = legitDataset.map(_.bytes)\n",
    "val rateDDoS = ddosDataset.map(_.rate)\n",
    "val rateLegit = legitDataset.map(_.rate)\n",
    "val bytesRateDDoS = ddosDataset.map(r => r.bytes / r.duration)\n",
    "val bytesRateLegit = legitDataset.map(r => r.bytes / r.duration)\n",
    "\n",
    "val packetQuartileDDoS = getStatistics(packetsDDoS)\n",
    "val packetQuartileLegit = getStatistics(packetsLegit)\n",
    "val bytesQuartileDDoS = getStatistics(bytesDDoS)\n",
    "val bytesQuartileLegit = getStatistics(bytesLegit)\n",
    "val rateQuartileDDoS = getStatistics(rateDDoS)\n",
    "val rateQuartileLegit = getStatistics(rateLegit)\n",
    "val bytesRateQuartileDDoS = getStatistics(bytesRateDDoS)\n",
    "val bytesRateQuartileLegit = getStatistics(bytesRateLegit)\n",
    "\n",
    "val packetDDoSGaussian = getGaussian(sc, cleanByIQR(sc, packetsDDoS, packetQuartileDDoS))\n",
    "val packetLegitGaussian = getGaussian(sc, cleanByIQR(sc, packetsLegit, packetQuartileLegit))\n",
    "val bytesQuartileDDoSGaussian = getGaussian(sc, cleanByIQR(sc, bytesDDoS, bytesQuartileDDoS))\n",
    "val bytesQuartileLegitGaussian = getGaussian(sc, cleanByIQR(sc, bytesLegit, bytesQuartileLegit))\n",
    "val rateDDoSGaussian = getGaussian(sc, cleanByIQR(sc, rateDDoS, rateQuartileDDoS))\n",
    "val rateLegitGaussian = getGaussian(sc, cleanByIQR(sc, rateLegit, rateQuartileLegit))\n",
    "val bytesRateDDoSGaussian = getGaussian(sc, cleanByIQR(sc, bytesRateDDoS, bytesRateQuartileDDoS))\n",
    "val bytesRateLegitGaussian = getGaussian(sc, cleanByIQR(sc, bytesRateLegit, bytesRateQuartileLegit))"
   ]
  },
  {
   "cell_type": "markdown",
   "id": "1b5e1f5a-9800-4570-bac2-7a5d27844e97",
   "metadata": {},
   "source": [
    "# INSERIRE COMMENTO QUI"
   ]
  },
  {
   "cell_type": "markdown",
   "id": "4a3d4abf-c3b1-410e-91f8-d45f6f164d30",
   "metadata": {},
   "source": [
    "<div align=\"center\">\n",
    "    <div>\n",
    "        <img src=\"images/packets-ddos.png\" width=\"40%\"/>\n",
    "        <img src=\"images/packets-legit.png\" width=\"40%\"/>\n",
    "    </div>\n",
    "    <div>\n",
    "        <img src=\"images/bytes-ddos.png\" width=\"40%\"/>\n",
    "        <img src=\"images/bytes-legit.png\" width=\"40%\"/>\n",
    "    </div>\n",
    "    <div>\n",
    "        <img src=\"images/rates-ddos.png\" width=\"40%\"/>\n",
    "        <img src=\"images/rates-legit.png\" width=\"40%\"/>\n",
    "    </div>\n",
    "    <div>\n",
    "        <img src=\"images/bytesRate-ddos.png\" width=\"40%\"/>\n",
    "        <img src=\"images/bytesRate-legit.png\" width=\"40%\"/>\n",
    "    </div>\n",
    "</div>"
   ]
  },
  {
   "cell_type": "markdown",
   "id": "176e7ab6-d13e-47f6-a895-f7fa74b23141",
   "metadata": {},
   "source": [
    "## Costruzione della metrica"
   ]
  }
 ],
 "metadata": {
  "kernelspec": {
   "display_name": "Spark",
   "language": "",
   "name": "sparkkernel"
  },
  "language_info": {
   "codemirror_mode": "text/x-scala",
   "mimetype": "text/x-scala",
   "name": "scala",
   "pygments_lexer": "scala"
  }
 },
 "nbformat": 4,
 "nbformat_minor": 5
}
