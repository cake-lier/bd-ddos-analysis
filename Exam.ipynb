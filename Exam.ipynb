{
 "cells": [
  {
   "cell_type": "markdown",
   "id": "4468a763-ee2d-4e4a-8eb1-1fd9e6dac8d8",
   "metadata": {},
   "source": [
    "# DDoS dataset analysis"
   ]
  },
  {
   "cell_type": "markdown",
   "id": "060d8283-69b8-4a27-921c-bf3052e0daea",
   "metadata": {},
   "source": [
    "L'obiettivo di questo progetto è analizzare un dataset contenente informazioni relative sia ad attacchi DDoS che a normale traffico.\n",
    "Questo per poter realizzare un'applicazione capace di distinguere il traffico sospetto da quello legittimo e poter quindi tempestivamente bloccare i tentativi di attacco."
   ]
  },
  {
   "cell_type": "markdown",
   "id": "031bc6ff-2d80-4ff3-a487-82dabbb6c93b",
   "metadata": {
    "execution": {
     "iopub.execute_input": "2022-06-17T09:34:21.907675Z",
     "iopub.status.busy": "2022-06-17T09:34:21.907419Z"
    },
    "tags": []
   },
   "source": [
    "## Descrizione del dataset"
   ]
  },
  {
   "cell_type": "markdown",
   "id": "e41869e1-1e4a-4ce0-9e55-48c35b394939",
   "metadata": {},
   "source": [
    "Il dataset è composto da una serie di campionamenti, ognuno dei quali fa riferimento ad una specifica connessione tra due macchine. \n",
    "Un campionamento, oltre ad identificare le due macchine e le interfacce di rete coinvolte nella comunicazione, contiene altre informazioni aggregate sullo stato della connessione stessa, come ad esempio il numero di pacchetti e di byte scambiati durante il periodo di campionamento."
   ]
  },
  {
   "cell_type": "markdown",
   "id": "b596c8bd-b965-43f4-b83d-fecf2b8a96bf",
   "metadata": {},
   "source": [
    "Il dataset si può trovare a questo [link](https://www.kaggle.com/datasets/yahyaalhaj/biotddos).\n",
    "Si compone di tre file, che possono essere scaricati come un unico file \"zip\" a questo [link](https://www.kaggle.com/datasets/yahyaalhaj/biotddos/download). "
   ]
  },
  {
   "cell_type": "markdown",
   "id": "fcf05e9c-8bdf-4444-a221-fc4a00eebaf0",
   "metadata": {},
   "source": [
    "### Descrizione dei file"
   ]
  },
  {
   "cell_type": "markdown",
   "id": "09614887-84fa-43db-84a7-a90dab519609",
   "metadata": {},
   "source": [
    "Tutti e tre i file hanno lo stesso formato e contengono tre diverse categorie di attacchi, ovvero attacchi \"TCP\", \"UDP\" e \"HTTP\".\n",
    "Non siamo interessati a tenere conto di questa distinzione, perciò consideriamo questi file come contenenti lo stesso tipo di dati.\n",
    "Ogni file è in formato CSV e contiene un insieme di record, ognuno composto dai valori:\n",
    "* \"stime\": la data e l'ora di inizio del campionamento in formato UNIX timestamp, dotato anche dei millisecondi \n",
    "* \"flgs\": le \"flag\" TCP e UDP osservate nei pacchetti che sono stati scambiati durante il campionamento\n",
    "* \"proto\": il protocollo di livello di rete utilizzato dai pacchetti che sono stati scambiati durante il campionamento\n",
    "* \"saddr\": l'indirizzo IP della sorgente della connessione che è interessata dal campionamento\n",
    "* \"sport\": la porta della sorgente della connessione che è interessata dal campionamento\n",
    "* \"dir\": la direzione del flusso dati\n",
    "* \"daddr\": l'indirizzo IP della destinazione della connessione che è interessata dal campionamento\n",
    "* \"dport\": la porta della destinazione della connessione che è interessata dal campionamento\n",
    "* \"pkts\": il numero di pacchetti scambiati durante questo campionamento\n",
    "* \"bytes\": il numero di byte scambiati durante questo campionamento\n",
    "* \"state\": lo stato della connessione \n",
    "* srcid\n",
    "* ltime\n",
    "* seq\n",
    "* dur\n",
    "* mean\n",
    "* stddev\n",
    "* smac\n",
    "* dmac\n",
    "* sum\n",
    "* min\n",
    "* max\n",
    "* soui\n",
    "* doui\n",
    "* sco\n",
    "* dco\n",
    "* spkts\n",
    "* dpkts\n",
    "* sbytes\n",
    "* dbytes\n",
    "* rate\n",
    "* srate\n",
    "* drate\n",
    "* record\n",
    "* attack\n",
    "* category\n",
    "* subcategory"
   ]
  },
  {
   "cell_type": "code",
   "execution_count": 1,
   "id": "c0bd4f15-fadb-4b4e-acc3-7d69545b82b7",
   "metadata": {
    "execution": {
     "iopub.execute_input": "2022-06-17T14:29:42.497225Z",
     "iopub.status.busy": "2022-06-17T14:29:42.497004Z",
     "iopub.status.idle": "2022-06-17T14:29:42.514360Z",
     "shell.execute_reply": "2022-06-17T14:29:42.513635Z",
     "shell.execute_reply.started": "2022-06-17T14:29:42.497200Z"
    },
    "tags": []
   },
   "outputs": [
    {
     "data": {
      "text/html": [
       "Current session configs: <tt>{'executorMemory': '8G', 'numExecutors': 3, 'executorCores': 3, 'conf': {'spark.dynamicAllocation.enabled': 'false'}, 'proxyUser': 'assumed-role_voclabs_user1847180_nicolas_farabegoli_studio_unibo_it', 'kind': 'spark'}</tt><br>"
      ],
      "text/plain": [
       "<IPython.core.display.HTML object>"
      ]
     },
     "metadata": {},
     "output_type": "display_data"
    },
    {
     "data": {
      "text/html": [
       "No active sessions."
      ],
      "text/plain": [
       "<IPython.core.display.HTML object>"
      ]
     },
     "metadata": {},
     "output_type": "display_data"
    }
   ],
   "source": [
    "%%configure -f\n",
    "{\"executorMemory\":\"8G\", \"numExecutors\":3, \"executorCores\":3, \"conf\": {\"spark.dynamicAllocation.enabled\": \"false\"}}"
   ]
  },
  {
   "cell_type": "code",
   "execution_count": 2,
   "id": "cbcf5940-297d-434b-9329-84c68f592202",
   "metadata": {
    "execution": {
     "iopub.execute_input": "2022-06-17T14:29:45.449189Z",
     "iopub.status.busy": "2022-06-17T14:29:45.448948Z",
     "iopub.status.idle": "2022-06-17T14:30:11.926367Z",
     "shell.execute_reply": "2022-06-17T14:30:11.925661Z",
     "shell.execute_reply.started": "2022-06-17T14:29:45.449166Z"
    },
    "tags": []
   },
   "outputs": [
    {
     "data": {
      "application/vnd.jupyter.widget-view+json": {
       "model_id": "54ef1035cda54b1b9c8c30baf9cb818d",
       "version_major": 2,
       "version_minor": 0
      },
      "text/plain": [
       "VBox()"
      ]
     },
     "metadata": {},
     "output_type": "display_data"
    },
    {
     "name": "stdout",
     "output_type": "stream",
     "text": [
      "Starting Spark application\n"
     ]
    },
    {
     "data": {
      "text/html": [
       "<table>\n",
       "<tr><th>ID</th><th>YARN Application ID</th><th>Kind</th><th>State</th><th>Spark UI</th><th>Driver log</th><th>Current session?</th></tr><tr><td>3</td><td>application_1655472000795_0005</td><td>spark</td><td>idle</td><td><a target=\"_blank\" href=\"http://ip-172-31-19-31.ec2.internal:20888/proxy/application_1655472000795_0005/\" class=\"emr-proxy-link\" emr-resource=\"j-38HF19RQ6HAX5\n",
       "\" application-id=\"application_1655472000795_0005\">Link</a></td><td><a target=\"_blank\" href=\"http://ip-172-31-20-169.ec2.internal:8042/node/containerlogs/container_1655472000795_0005_01_000001/livy\" >Link</a></td><td>✔</td></tr></table>"
      ],
      "text/plain": [
       "<IPython.core.display.HTML object>"
      ]
     },
     "metadata": {},
     "output_type": "display_data"
    },
    {
     "data": {
      "application/vnd.jupyter.widget-view+json": {
       "model_id": "",
       "version_major": 2,
       "version_minor": 0
      },
      "text/plain": [
       "FloatProgress(value=0.0, bar_style='info', description='Progress:', layout=Layout(height='25px', width='50%'),…"
      ]
     },
     "metadata": {},
     "output_type": "display_data"
    },
    {
     "name": "stdout",
     "output_type": "stream",
     "text": [
      "SparkSession available as 'spark'.\n"
     ]
    },
    {
     "data": {
      "application/vnd.jupyter.widget-view+json": {
       "model_id": "",
       "version_major": 2,
       "version_minor": 0
      },
      "text/plain": [
       "FloatProgress(value=0.0, bar_style='info', description='Progress:', layout=Layout(height='25px', width='50%'),…"
      ]
     },
     "metadata": {},
     "output_type": "display_data"
    },
    {
     "name": "stdout",
     "output_type": "stream",
     "text": [
      "import java.net.InetAddress\n",
      "import java.time.format.{DateTimeFormatter, DateTimeParseException}\n",
      "import java.time.{Instant, LocalDateTime, ZoneId}\n",
      "import scala.util.Try\n",
      "defined class Record\n",
      "defined object Record\n",
      "warning: previously defined class Record is not a companion to object Record.\n",
      "Companions must be defined together; you may wish to use :paste mode for this.\n"
     ]
    }
   ],
   "source": [
    "import java.net.InetAddress\n",
    "import java.time.format.{ DateTimeFormatter, DateTimeParseException }\n",
    "import java.time.{ Instant, LocalDateTime, ZoneId }\n",
    "import scala.util.Try\n",
    "\n",
    "// import NetworkProtocol.NetworkProtocol\n",
    "\n",
    "case class Record(\n",
    "    stime: LocalDateTime,\n",
    "    protocol: String,\n",
    "    saddr: String,\n",
    "    sport: Long,\n",
    "    dir: String,\n",
    "    daddr: String,\n",
    "    dport: Long,\n",
    "    pkts: Long,\n",
    "    bytes: Long,\n",
    "    ltime: LocalDateTime,\n",
    "    sbytes: Long,\n",
    "    dbytes: Long,\n",
    "    isDDoS: Boolean\n",
    ")\n",
    "\n",
    "object Record {\n",
    "\n",
    "  def apply(r: Seq[String]): Option[Record] = (for {\n",
    "      stime <- Try(Instant.ofEpochMilli((r.head.toDouble * 1000).toLong).atZone(ZoneId.systemDefault()).toLocalDateTime)\n",
    "      protocol = r(2)\n",
    "      saddr = r(3)\n",
    "      sport <- Try(r(4).toLong)\n",
    "      dir = r(5)\n",
    "      daddr = r(6)\n",
    "      dport <- Try(r(7).toLong)\n",
    "      pkts <- Try(r(8).toLong)\n",
    "      bytes <- Try(r(9).toLong)\n",
    "      ltime <- Try(Instant.ofEpochMilli((r(12).toDouble * 1000).toLong).atZone(ZoneId.systemDefault()).toLocalDateTime)\n",
    "      sbytes <- Try(r(28).toLong)\n",
    "      dbytes <- Try(r(29).toLong)\n",
    "      isDDoS <- Try(r(34).toInt).map(p => if (p == 1) true else false)\n",
    "    } yield new Record(stime,protocol,saddr,sport,dir,daddr,dport,pkts,bytes,ltime,sbytes,dbytes,isDDoS)).toOption\n",
    "}"
   ]
  },
  {
   "cell_type": "code",
   "execution_count": 3,
   "id": "9a0f0c12-591e-41de-a0b6-c76c7c035176",
   "metadata": {
    "execution": {
     "iopub.execute_input": "2022-06-17T14:30:14.753542Z",
     "iopub.status.busy": "2022-06-17T14:30:14.753315Z",
     "iopub.status.idle": "2022-06-17T14:30:17.079609Z",
     "shell.execute_reply": "2022-06-17T14:30:17.078897Z",
     "shell.execute_reply.started": "2022-06-17T14:30:14.753510Z"
    },
    "tags": []
   },
   "outputs": [
    {
     "data": {
      "application/vnd.jupyter.widget-view+json": {
       "model_id": "707e0e6205e844e484f9b0a6a53fd9b5",
       "version_major": 2,
       "version_minor": 0
      },
      "text/plain": [
       "VBox()"
      ]
     },
     "metadata": {},
     "output_type": "display_data"
    },
    {
     "data": {
      "application/vnd.jupyter.widget-view+json": {
       "model_id": "",
       "version_major": 2,
       "version_minor": 0
      },
      "text/plain": [
       "FloatProgress(value=0.0, bar_style='info', description='Progress:', layout=Layout(height='25px', width='50%'),…"
      ]
     },
     "metadata": {},
     "output_type": "display_data"
    },
    {
     "name": "stdout",
     "output_type": "stream",
     "text": [
      "bucketName: String = unibo-bd2122-nfarabegoli/ddos\n",
      "pathTCPDataset: String = s3a://unibo-bd2122-nfarabegoli/ddos/DDoS_TCP.csv\n",
      "pathUDPDataset: String = s3a://unibo-bd2122-nfarabegoli/ddos/DDoS_UDP.csv\n",
      "pathHTTPDataset: String = s3a://unibo-bd2122-nfarabegoli/ddos/DDoS_HTTP.csv\n",
      "res7: String = SPARK UI: Enable forwarding of port 20888 and connect to http://localhost:20888/proxy/application_1655472000795_0005/\n"
     ]
    }
   ],
   "source": [
    "val bucketName = \"unibo-bd2122-nfarabegoli/ddos\"\n",
    "\n",
    "val pathTCPDataset = s\"s3a://$bucketName/DDoS_TCP.csv\"\n",
    "val pathUDPDataset = s\"s3a://$bucketName/DDoS_UDP.csv\"\n",
    "val pathHTTPDataset = s\"s3a://$bucketName/DDoS_HTTP.csv\"\n",
    "\n",
    "\"SPARK UI: Enable forwarding of port 20888 and connect to http://localhost:20888/proxy/\" + sc.applicationId + \"/\""
   ]
  },
  {
   "cell_type": "code",
   "execution_count": 4,
   "id": "b9152666-1f46-4590-8465-3bb5413fbc15",
   "metadata": {
    "execution": {
     "iopub.execute_input": "2022-06-17T14:30:22.884526Z",
     "iopub.status.busy": "2022-06-17T14:30:22.884305Z",
     "iopub.status.idle": "2022-06-17T14:30:23.670565Z",
     "shell.execute_reply": "2022-06-17T14:30:23.669912Z",
     "shell.execute_reply.started": "2022-06-17T14:30:22.884503Z"
    },
    "tags": []
   },
   "outputs": [
    {
     "data": {
      "application/vnd.jupyter.widget-view+json": {
       "model_id": "3f7c455a48f04fbe95625b966ba64485",
       "version_major": 2,
       "version_minor": 0
      },
      "text/plain": [
       "VBox()"
      ]
     },
     "metadata": {},
     "output_type": "display_data"
    },
    {
     "data": {
      "application/vnd.jupyter.widget-view+json": {
       "model_id": "",
       "version_major": 2,
       "version_minor": 0
      },
      "text/plain": [
       "FloatProgress(value=0.0, bar_style='info', description='Progress:', layout=Layout(height='25px', width='50%'),…"
      ]
     },
     "metadata": {},
     "output_type": "display_data"
    },
    {
     "name": "stdout",
     "output_type": "stream",
     "text": [
      "dataset: org.apache.spark.rdd.RDD[String] = s3a://unibo-bd2122-nfarabegoli/ddos/DDoS_TCP.csv,s3a://unibo-bd2122-nfarabegoli/ddos/DDoS_UDP.csv,s3a://unibo-bd2122-nfarabegoli/ddos/DDoS_HTTP.csv MapPartitionsRDD[1] at textFile at <console>:35\n"
     ]
    }
   ],
   "source": [
    "val dataset = sc.textFile(s\"$pathTCPDataset,$pathUDPDataset,$pathHTTPDataset\")"
   ]
  },
  {
   "cell_type": "code",
   "execution_count": 5,
   "id": "5beb5999-1c86-48e8-8fef-63467f5de2a7",
   "metadata": {
    "execution": {
     "iopub.execute_input": "2022-06-17T14:30:30.603341Z",
     "iopub.status.busy": "2022-06-17T14:30:30.603117Z",
     "iopub.status.idle": "2022-06-17T14:30:35.918283Z",
     "shell.execute_reply": "2022-06-17T14:30:35.917628Z",
     "shell.execute_reply.started": "2022-06-17T14:30:30.603318Z"
    },
    "tags": []
   },
   "outputs": [
    {
     "data": {
      "application/vnd.jupyter.widget-view+json": {
       "model_id": "e0eaebf403684d71b12564502b1120cd",
       "version_major": 2,
       "version_minor": 0
      },
      "text/plain": [
       "VBox()"
      ]
     },
     "metadata": {},
     "output_type": "display_data"
    },
    {
     "data": {
      "application/vnd.jupyter.widget-view+json": {
       "model_id": "",
       "version_major": 2,
       "version_minor": 0
      },
      "text/plain": [
       "FloatProgress(value=0.0, bar_style='info', description='Progress:', layout=Layout(height='25px', width='50%'),…"
      ]
     },
     "metadata": {},
     "output_type": "display_data"
    },
    {
     "name": "stdout",
     "output_type": "stream",
     "text": [
      "res8: Array[String] = Array(\"stime\";\"flgs\";\"proto\";\"saddr\";\"sport\";\"dir\";\"daddr\";\"dport\";\"pkts\";\"bytes\";\"state\";\"srcid\";\"ltime\";\"seq\";\"dur\";\"mean\";\"stddev\";\"smac\";\"dmac\";\"sum\";\"min\";\"max\";\"soui\";\"doui\";\"sco\";\"dco\";\"spkts\";\"dpkts\";\"sbytes\";\"dbytes\";\"rate\";\"srate\";\"drate\";\"record\";\"attack\";\"category\";\"subcategory\")\n"
     ]
    }
   ],
   "source": [
    "dataset.take(1)"
   ]
  },
  {
   "cell_type": "code",
   "execution_count": 6,
   "id": "20bb05ff-f850-49fb-a432-c977b86f5ce6",
   "metadata": {
    "execution": {
     "iopub.execute_input": "2022-06-17T14:32:44.431399Z",
     "iopub.status.busy": "2022-06-17T14:32:44.431174Z",
     "iopub.status.idle": "2022-06-17T14:32:45.213538Z",
     "shell.execute_reply": "2022-06-17T14:32:45.212926Z",
     "shell.execute_reply.started": "2022-06-17T14:32:44.431375Z"
    }
   },
   "outputs": [
    {
     "data": {
      "application/vnd.jupyter.widget-view+json": {
       "model_id": "cc3f22d4883d4942977fde9337e0c719",
       "version_major": 2,
       "version_minor": 0
      },
      "text/plain": [
       "VBox()"
      ]
     },
     "metadata": {},
     "output_type": "display_data"
    },
    {
     "data": {
      "application/vnd.jupyter.widget-view+json": {
       "model_id": "",
       "version_major": 2,
       "version_minor": 0
      },
      "text/plain": [
       "FloatProgress(value=0.0, bar_style='info', description='Progress:', layout=Layout(height='25px', width='50%'),…"
      ]
     },
     "metadata": {},
     "output_type": "display_data"
    },
    {
     "name": "stdout",
     "output_type": "stream",
     "text": [
      "recordDataset: org.apache.spark.rdd.RDD[Record] = MapPartitionsRDD[6] at map at <console>:36\n"
     ]
    }
   ],
   "source": [
    "val recordDataset = dataset.\n",
    "    map(_.replace(\"\\\"\", \"\")).\n",
    "    map(_.split(\";\")).\n",
    "    map(Record(_)).\n",
    "    filter(_.isDefined).\n",
    "    map(_.get).cache()"
   ]
  },
  {
   "cell_type": "code",
   "execution_count": 11,
   "id": "66703bfe-d891-4e3b-af72-a99026509a0b",
   "metadata": {
    "execution": {
     "iopub.execute_input": "2022-06-17T14:41:23.761573Z",
     "iopub.status.busy": "2022-06-17T14:41:23.761356Z",
     "iopub.status.idle": "2022-06-17T14:41:45.135938Z",
     "shell.execute_reply": "2022-06-17T14:41:45.135286Z",
     "shell.execute_reply.started": "2022-06-17T14:41:23.761548Z"
    },
    "tags": []
   },
   "outputs": [
    {
     "data": {
      "application/vnd.jupyter.widget-view+json": {
       "model_id": "7f707d8e78884afab49dc8013e1089bd",
       "version_major": 2,
       "version_minor": 0
      },
      "text/plain": [
       "VBox()"
      ]
     },
     "metadata": {},
     "output_type": "display_data"
    },
    {
     "data": {
      "application/vnd.jupyter.widget-view+json": {
       "model_id": "",
       "version_major": 2,
       "version_minor": 0
      },
      "text/plain": [
       "FloatProgress(value=0.0, bar_style='info', description='Progress:', layout=Layout(height='25px', width='50%'),…"
      ]
     },
     "metadata": {},
     "output_type": "display_data"
    },
    {
     "name": "stdout",
     "output_type": "stream",
     "text": [
      "datasetSize: Long = 38532513\n"
     ]
    }
   ],
   "source": [
    "val datasetSize = recordDataset.count()"
   ]
  },
  {
   "cell_type": "markdown",
   "id": "5854d3ed-038e-4f2d-9bb5-dd11abd93e93",
   "metadata": {},
   "source": [
    "## Query esplorative"
   ]
  },
  {
   "cell_type": "markdown",
   "id": "013d6e46-2423-4105-aa1a-7b83b9cb7f0c",
   "metadata": {},
   "source": [
    "### Percentuale di DDoS nel dataset\n"
   ]
  },
  {
   "cell_type": "code",
   "execution_count": 26,
   "id": "df3422b1-8b67-493f-8e9b-c302adf2dfe1",
   "metadata": {
    "execution": {
     "iopub.execute_input": "2022-06-17T15:14:59.143541Z",
     "iopub.status.busy": "2022-06-17T15:14:59.143309Z",
     "iopub.status.idle": "2022-06-17T15:17:04.829363Z",
     "shell.execute_reply": "2022-06-17T15:17:04.828582Z",
     "shell.execute_reply.started": "2022-06-17T15:14:59.143515Z"
    },
    "tags": []
   },
   "outputs": [
    {
     "data": {
      "application/vnd.jupyter.widget-view+json": {
       "model_id": "e29b052550b84f5aa7286af69702e585",
       "version_major": 2,
       "version_minor": 0
      },
      "text/plain": [
       "VBox()"
      ]
     },
     "metadata": {},
     "output_type": "display_data"
    },
    {
     "data": {
      "application/vnd.jupyter.widget-view+json": {
       "model_id": "",
       "version_major": 2,
       "version_minor": 0
      },
      "text/plain": [
       "FloatProgress(value=0.0, bar_style='info', description='Progress:', layout=Layout(height='25px', width='50%'),…"
      ]
     },
     "metadata": {},
     "output_type": "display_data"
    },
    {
     "name": "stdout",
     "output_type": "stream",
     "text": [
      "ddosVolume: Long = 38531238\n",
      "legitVolume: Long = 1275\n",
      "DDoS volume: 38531238\n",
      "Legit volume: 1275\n"
     ]
    }
   ],
   "source": [
    "val ddosVolume = recordDataset.filter(_.isDDoS).count()\n",
    "val legitVolume = recordDataset.filter(!_.isDDoS).count()\n",
    "println(s\"DDoS volume: $ddosVolume\")\n",
    "println(s\"Legit volume: $legitVolume\")"
   ]
  },
  {
   "cell_type": "code",
   "execution_count": 13,
   "id": "6c79a6a2-c423-477a-a19d-2406fbb64f4e",
   "metadata": {
    "execution": {
     "iopub.execute_input": "2022-06-17T14:43:29.317230Z",
     "iopub.status.busy": "2022-06-17T14:43:29.317007Z",
     "iopub.status.idle": "2022-06-17T14:43:30.118499Z",
     "shell.execute_reply": "2022-06-17T14:43:30.117909Z",
     "shell.execute_reply.started": "2022-06-17T14:43:29.317206Z"
    }
   },
   "outputs": [
    {
     "data": {
      "application/vnd.jupyter.widget-view+json": {
       "model_id": "00f4d8a50fed404daa6f394f96dbb11d",
       "version_major": 2,
       "version_minor": 0
      },
      "text/plain": [
       "VBox()"
      ]
     },
     "metadata": {},
     "output_type": "display_data"
    },
    {
     "data": {
      "application/vnd.jupyter.widget-view+json": {
       "model_id": "",
       "version_major": 2,
       "version_minor": 0
      },
      "text/plain": [
       "FloatProgress(value=0.0, bar_style='info', description='Progress:', layout=Layout(height='25px', width='50%'),…"
      ]
     },
     "metadata": {},
     "output_type": "display_data"
    },
    {
     "name": "stdout",
     "output_type": "stream",
     "text": [
      "ddosPercentage: Double = 99.99669110602778\n"
     ]
    }
   ],
   "source": [
    "val ddosPercentage = ddosVolume / datasetSize.toDouble * 100"
   ]
  },
  {
   "cell_type": "markdown",
   "id": "1b2c30a7-6f24-41ee-b69a-e49db468bbae",
   "metadata": {},
   "source": [
    "### Conteggio dei flussi catturati nel dataset\n",
    "Un flusso lo si identifica da (sourceIp, sourcePort, destinationIp, destinationPort)"
   ]
  },
  {
   "cell_type": "code",
   "execution_count": 20,
   "id": "c51ed9e1-e2f2-46b4-8966-3fb95c0a1504",
   "metadata": {
    "execution": {
     "iopub.execute_input": "2022-06-17T14:58:56.816277Z",
     "iopub.status.busy": "2022-06-17T14:58:56.816057Z",
     "iopub.status.idle": "2022-06-17T14:58:57.589451Z",
     "shell.execute_reply": "2022-06-17T14:58:57.588587Z",
     "shell.execute_reply.started": "2022-06-17T14:58:56.816254Z"
    },
    "tags": []
   },
   "outputs": [
    {
     "data": {
      "application/vnd.jupyter.widget-view+json": {
       "model_id": "eee762577dda41e59ec0404345024c53",
       "version_major": 2,
       "version_minor": 0
      },
      "text/plain": [
       "VBox()"
      ]
     },
     "metadata": {},
     "output_type": "display_data"
    },
    {
     "data": {
      "application/vnd.jupyter.widget-view+json": {
       "model_id": "",
       "version_major": 2,
       "version_minor": 0
      },
      "text/plain": [
       "FloatProgress(value=0.0, bar_style='info', description='Progress:', layout=Layout(height='25px', width='50%'),…"
      ]
     },
     "metadata": {},
     "output_type": "display_data"
    },
    {
     "name": "stdout",
     "output_type": "stream",
     "text": [
      "flowsDataset: org.apache.spark.rdd.RDD[((String, Long, String, Long), Iterable[Record])] = ShuffledRDD[13] at groupBy at <console>:30\n"
     ]
    }
   ],
   "source": [
    "val flowsDataset = recordDataset.\n",
    "    groupBy(r => (r.saddr, r.sport, r.daddr, r.dport)).cache()"
   ]
  },
  {
   "cell_type": "code",
   "execution_count": 21,
   "id": "e7972a4c-ed76-463d-815e-0d1b61a3f76e",
   "metadata": {
    "execution": {
     "iopub.execute_input": "2022-06-17T14:58:59.191350Z",
     "iopub.status.busy": "2022-06-17T14:58:59.191128Z",
     "iopub.status.idle": "2022-06-17T15:04:23.477922Z",
     "shell.execute_reply": "2022-06-17T15:04:23.477248Z",
     "shell.execute_reply.started": "2022-06-17T14:58:59.191325Z"
    },
    "tags": []
   },
   "outputs": [
    {
     "data": {
      "application/vnd.jupyter.widget-view+json": {
       "model_id": "a44ff514174f40aeb94952d4ce9a0949",
       "version_major": 2,
       "version_minor": 0
      },
      "text/plain": [
       "VBox()"
      ]
     },
     "metadata": {},
     "output_type": "display_data"
    },
    {
     "data": {
      "application/vnd.jupyter.widget-view+json": {
       "model_id": "",
       "version_major": 2,
       "version_minor": 0
      },
      "text/plain": [
       "FloatProgress(value=0.0, bar_style='info', description='Progress:', layout=Layout(height='25px', width='50%'),…"
      ]
     },
     "metadata": {},
     "output_type": "display_data"
    },
    {
     "name": "stdout",
     "output_type": "stream",
     "text": [
      "flowsCount: Long = 1084088\n"
     ]
    }
   ],
   "source": [
    "val flowsCount = flowsDataset.count()"
   ]
  },
  {
   "cell_type": "code",
   "execution_count": 27,
   "id": "821b1199-2f83-4a7e-8c75-3439bc4c9705",
   "metadata": {
    "execution": {
     "iopub.execute_input": "2022-06-17T15:22:08.063421Z",
     "iopub.status.busy": "2022-06-17T15:22:08.063188Z",
     "iopub.status.idle": "2022-06-17T15:26:34.139793Z",
     "shell.execute_reply": "2022-06-17T15:26:34.139065Z",
     "shell.execute_reply.started": "2022-06-17T15:22:08.063394Z"
    },
    "tags": []
   },
   "outputs": [
    {
     "data": {
      "application/vnd.jupyter.widget-view+json": {
       "model_id": "d60770fdddd746188709092d501db211",
       "version_major": 2,
       "version_minor": 0
      },
      "text/plain": [
       "VBox()"
      ]
     },
     "metadata": {},
     "output_type": "display_data"
    },
    {
     "data": {
      "application/vnd.jupyter.widget-view+json": {
       "model_id": "",
       "version_major": 2,
       "version_minor": 0
      },
      "text/plain": [
       "FloatProgress(value=0.0, bar_style='info', description='Progress:', layout=Layout(height='25px', width='50%'),…"
      ]
     },
     "metadata": {},
     "output_type": "display_data"
    },
    {
     "name": "stdout",
     "output_type": "stream",
     "text": [
      "ddosFlowsCount: Long = 1083994\n",
      "legitFlowsCount: Long = 94\n"
     ]
    }
   ],
   "source": [
    "val ddosFlowsCount = flowsDataset.filter { case (_, packets) => packets.forall(_.isDDoS) }.count()\n",
    "val legitFlowsCount = flowsDataset.filter { case (_, packets) => packets.forall(!_.isDDoS) }.count()"
   ]
  },
  {
   "cell_type": "markdown",
   "id": "886b23bb-c752-46a8-affa-c0dce6a7cf98",
   "metadata": {},
   "source": [
    "Determinati i flussi, possiamo calcolare mediamente quanti pacchetti sono scambiati per ogni flusso:"
   ]
  },
  {
   "cell_type": "code",
   "execution_count": 29,
   "id": "0d8701d7-a4a6-43c9-bcfc-c77fe44a6080",
   "metadata": {
    "execution": {
     "iopub.execute_input": "2022-06-17T15:27:06.536709Z",
     "iopub.status.busy": "2022-06-17T15:27:06.536478Z",
     "iopub.status.idle": "2022-06-17T15:27:07.300848Z",
     "shell.execute_reply": "2022-06-17T15:27:07.300259Z",
     "shell.execute_reply.started": "2022-06-17T15:27:06.536674Z"
    },
    "tags": []
   },
   "outputs": [
    {
     "data": {
      "application/vnd.jupyter.widget-view+json": {
       "model_id": "74a8f7f4d824453f9ae50d8be6fefb13",
       "version_major": 2,
       "version_minor": 0
      },
      "text/plain": [
       "VBox()"
      ]
     },
     "metadata": {},
     "output_type": "display_data"
    },
    {
     "data": {
      "application/vnd.jupyter.widget-view+json": {
       "model_id": "",
       "version_major": 2,
       "version_minor": 0
      },
      "text/plain": [
       "FloatProgress(value=0.0, bar_style='info', description='Progress:', layout=Layout(height='25px', width='50%'),…"
      ]
     },
     "metadata": {},
     "output_type": "display_data"
    },
    {
     "name": "stdout",
     "output_type": "stream",
     "text": [
      "meanPacketPerFlow: Double = 35.54371324099151\n",
      "meanPacketDDoSFlow: Double = 35.545619256195145\n",
      "meanPacketLegitFlow: Double = 13.563829787234043\n"
     ]
    }
   ],
   "source": [
    "val meanPacketPerFlow = datasetSize / flowsCount.toDouble\n",
    "val meanPacketDDoSFlow = ddosVolume / ddosFlowsCount.toDouble\n",
    "val meanPacketLegitFlow = legitVolume / legitFlowsCount.toDouble"
   ]
  },
  {
   "cell_type": "code",
   "execution_count": null,
   "id": "83d32695-b1c2-42cf-b689-3d6f7be58ca9",
   "metadata": {},
   "outputs": [],
   "source": []
  }
 ],
 "metadata": {
  "kernelspec": {
   "display_name": "Spark",
   "language": "",
   "name": "sparkkernel"
  },
  "language_info": {
   "codemirror_mode": "text/x-scala",
   "mimetype": "text/x-scala",
   "name": "scala",
   "pygments_lexer": "scala"
  }
 },
 "nbformat": 4,
 "nbformat_minor": 5
}
